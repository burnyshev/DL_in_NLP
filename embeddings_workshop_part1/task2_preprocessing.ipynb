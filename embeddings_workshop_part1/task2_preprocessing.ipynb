{
  "nbformat": 4,
  "nbformat_minor": 0,
  "metadata": {
    "colab": {
      "name": "task2_preprocessing.ipynb",
      "version": "0.3.2",
      "provenance": [],
      "collapsed_sections": []
    },
    "kernelspec": {
      "name": "python3",
      "display_name": "Python 3"
    }
  },
  "cells": [
    {
      "metadata": {
        "id": "WSztl2SuUwhA",
        "colab_type": "text"
      },
      "cell_type": "markdown",
      "source": [
        "# Word2vec preprocessing\n",
        "Preprocessing is not the most interesting part of NLP, but it is still one of the most important ones. Your task is to preprocess raw text (you can use your own, or [this one](http://mattmahoney.net/dc/textdata). For this task text preprocessing mostly consists of:\n",
        "\n",
        "1. cleaning (mostly, if your dataset is from social media or parced from the internet)\n",
        "1. tokenization\n",
        "1. building the vocabulary and choosing its size\n",
        "1. assigning each token a number (numericalization)\n",
        "1. data structuring and batching\n",
        "\n",
        "Your goal is to make SkipGramBatcher class which returns two numpy tensors with word indices. You can implement batcher for Skip-Gram or CBOW architecture, the picture below can be helpfull to remember the difference.\n",
        "\n",
        "![text](https://raw.githubusercontent.com/deepmipt/deep-nlp-seminars/651804899d05b96fc72b9474404fab330365ca09/seminar_02/pics/architecture.png)\n",
        "\n",
        "There are several ways to do it right. Shapes could be `(batch_size, 2*window_size)`, `(batch_size,)` for CBOW or `(batch_size,)`, `(batch_size,)` for Skip-Gram. You should **not** do negative sampling here.\n",
        "\n",
        "They should be adequately parametrized: CBOW(batch_size, window_size, ...), SkipGram(num_skips, skip_window). You should implement only one batcher in this task, it's up to you which one to chose.\n",
        "\n",
        "Useful links:\n",
        "1. [Word2Vec Tutorial - The Skip-Gram Model](http://mccormickml.com/2016/04/19/word2vec-tutorial-the-skip-gram-model/)\n",
        "1. [Efficient Estimation of Word Representations in Vector Space](https://arxiv.org/pdf/1301.3781.pdf)\n",
        "1. [Distributed Representations of Words and Phrases and their Compositionality](http://papers.nips.cc/paper/5021-distributed-representations-of-words-and-phrases-and-their-compositionality.pdf)\n",
        "\n",
        "You can write the code in this notebook, or in separate file. It will be reused for the next task. Result of your work should represent that your batch have proper structure (right shapes) and content (words should be from one context, not some random indices). To show that, translate indices back to words and print them to show something like this:\n",
        "\n",
        "```\n",
        "bag_window = 2\n",
        "\n",
        "batch = [['first', 'used', 'early', 'working'],\n",
        "        ['used', 'against', 'working', 'class'],\n",
        "        ['against', 'early', 'class', 'radicals'],\n",
        "        ['early', 'working', 'radicals', 'including']]\n",
        "\n",
        "labels = ['against', 'early', 'working', 'class']\n",
        "```\n",
        "\n",
        "If you struggle with somethng, ask your neighbour. If it is not obvious for you, probably someone else is looking for the answer too. And in contrast, if you see that you can help someone - just do it! Good luck!"
      ]
    },
    {
      "metadata": {
        "id": "1E4hjZRzk4Ll",
        "colab_type": "text"
      },
      "cell_type": "markdown",
      "source": [
        "# Download words"
      ]
    },
    {
      "metadata": {
        "id": "El8Xu2gahKv0",
        "colab_type": "code",
        "colab": {}
      },
      "cell_type": "code",
      "source": [
        "import collections\n",
        "import math\n",
        "import os\n",
        "import random\n",
        "import zipfile\n",
        "import torch\n",
        "import torch.nn as nn\n",
        "from torch.autograd import Variable\n",
        "import torch.optim \n",
        "import torch.nn.functional\n",
        "from torch.optim.lr_scheduler import StepLR\n",
        "import time\n",
        "\n",
        "import numpy as np\n",
        "from six.moves import urllib\n",
        "from six.moves import xrange\n",
        "import tensorflow as tf"
      ],
      "execution_count": 0,
      "outputs": []
    },
    {
      "metadata": {
        "id": "iKqpx5ljrwLN",
        "colab_type": "code",
        "outputId": "2ff35fbb-ffac-4126-83c0-066342b64ec9",
        "colab": {
          "base_uri": "https://localhost:8080/",
          "height": 32
        }
      },
      "cell_type": "code",
      "source": [
        "def maybe_download(filename,url, expected_bytes):\n",
        "    if not os.path.exists(filename):\n",
        "        filename, _ = urllib.request.urlretrieve(url + filename, filename)\n",
        "    statinfo = os.stat(filename)\n",
        "    if statinfo.st_size == expected_bytes:\n",
        "        print('ОК', filename)\n",
        "    return filename\n",
        "url = 'http://mattmahoney.net/dc/'\n",
        "filename = maybe_download('text8.zip',url, 31344016)"
      ],
      "execution_count": 0,
      "outputs": [
        {
          "output_type": "stream",
          "text": [
            "ОК text8.zip\n"
          ],
          "name": "stdout"
        }
      ]
    },
    {
      "metadata": {
        "id": "NCbSKs7OhfrT",
        "colab_type": "code",
        "outputId": "547813a6-ef32-49b9-e461-388e712e49ce",
        "colab": {
          "base_uri": "https://localhost:8080/",
          "height": 32
        }
      },
      "cell_type": "code",
      "source": [
        " # Read the data into a list of strings.\n",
        "def read_data(filename):\n",
        "    with zipfile.ZipFile(filename) as f:\n",
        "        data = tf.compat.as_str(f.read(f.namelist()[0])).split()\n",
        "    return data\n",
        "words = read_data(filename) # набор всех слов\n",
        "print('Data size = ', len(words))"
      ],
      "execution_count": 0,
      "outputs": [
        {
          "output_type": "stream",
          "text": [
            "Data size =  17005207\n"
          ],
          "name": "stdout"
        }
      ]
    },
    {
      "metadata": {
        "id": "u21kuK-jktyL",
        "colab_type": "text"
      },
      "cell_type": "markdown",
      "source": [
        "# Building dictionary + batching"
      ]
    },
    {
      "metadata": {
        "id": "NiWDBh4CjU9N",
        "colab_type": "code",
        "colab": {}
      },
      "cell_type": "code",
      "source": [
        "UNK_TOKEN = '<TOKEN>'# для редких слов\n",
        "frequency = collections.Counter(words)\n",
        "freq = frequency.most_common(11000)# словарь частых слов\n",
        "low_bound = freq[-1][1]\n",
        "vocab = [x[0] for x in freq]\n",
        "vocab.append(UNK_TOKEN)\n",
        "data = []\n",
        "for i, word in enumerate(words):\n",
        "  if frequency[word] > low_bound:\n",
        "    data.append(word)\n",
        "  else:\n",
        "    data.append(UNK_TOKEN)"
      ],
      "execution_count": 0,
      "outputs": []
    },
    {
      "metadata": {
        "id": "Zg2Yf-zblALQ",
        "colab_type": "code",
        "colab": {}
      },
      "cell_type": "code",
      "source": [
        "word_index = {w: idx for (idx, w) in enumerate(vocab)}\n",
        "index_word = {idx: w for (idx, w) in enumerate(vocab)}"
      ],
      "execution_count": 0,
      "outputs": []
    },
    {
      "metadata": {
        "id": "F0PbBuulyIqv",
        "colab_type": "code",
        "colab": {}
      },
      "cell_type": "code",
      "source": [
        "data_idx = 0\n",
        "class Batcher:\n",
        "  def __init__(self, batch_size, window_size, data, data_idx=0):\n",
        "    self.batch_size = batch_size\n",
        "    self.window_size = window_size\n",
        "    self.data = data\n",
        "\n",
        "  def __next__(self, data_idx_=None):\n",
        "    window_size = self.window_size\n",
        "    batch_size = self.batch_size\n",
        "    data = self.data\n",
        "    global data_idx\n",
        "    span = 2 * window_size + 1\n",
        "    batch = []\n",
        "    labels = [] \n",
        "  \n",
        "    context = collections.deque(maxlen= span)\n",
        "    for _ in range(2 * window_size + 1):\n",
        "      context.append(word2idx[data[data_idx]])\n",
        "      data_idx = (data_idx + 1) % len(data)\n",
        "  \n",
        "    for i in range(batch_size):\n",
        "      batch.append([context[j] for j in list(range(window_size))+ list(range(window_size + 1, span))])\n",
        "      labels.append(context[window_size])\n",
        "      context.append(word2idx[data[data_idx]])\n",
        "      data_idx = (data_idx + 1) % len(data)\n",
        "    return batch, labels\n",
        "  def __iter__(self):\n",
        "    return self"
      ],
      "execution_count": 0,
      "outputs": []
    },
    {
      "metadata": {
        "id": "3n9juSshq1bT",
        "colab_type": "code",
        "colab": {}
      },
      "cell_type": "code",
      "source": [
        "def one_hot(batch, voc_size):\n",
        "  batch_onehot = torch.zeros(len(batch), voc_size)\n",
        "  for i, x in enumerate(batch):\n",
        "    batch_onehot[i, x] = 1\n",
        "  return batch_onehot"
      ],
      "execution_count": 0,
      "outputs": []
    },
    {
      "metadata": {
        "id": "iCIq8QrehDao",
        "colab_type": "code",
        "colab": {}
      },
      "cell_type": "code",
      "source": [
        ""
      ],
      "execution_count": 0,
      "outputs": []
    }
  ]
}