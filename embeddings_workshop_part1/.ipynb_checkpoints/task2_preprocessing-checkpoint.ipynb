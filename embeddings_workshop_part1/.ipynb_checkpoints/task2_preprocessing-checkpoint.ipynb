{
 "cells": [
  {
   "cell_type": "markdown",
   "metadata": {},
   "source": [
    "# Word2vec preprocessing"
   ]
  },
  {
   "cell_type": "markdown",
   "metadata": {},
   "source": [
    "Preprocessing is not the most interesting part of NLP, but it is still one of the most important ones. Your task is to preprocess raw text (you can use your own, or [this one](http://mattmahoney.net/dc/textdata). For this task text preprocessing mostly consists of:\n",
    "\n",
    "1. cleaning (mostly, if your dataset is from social media or parced from the internet)\n",
    "1. tokenization\n",
    "1. building the vocabulary and choosing its size\n",
    "1. assigning each token a number (numericalization)\n",
    "1. data structuring and batching\n",
    "\n",
    "Your goal is to make SkipGramBatcher class which returns two numpy tensors with word indices. You can implement batcher for Skip-Gram or CBOW architecture, the picture below can be helpfull to remember the difference.\n",
    "\n",
    "![text](https://raw.githubusercontent.com/deepmipt/deep-nlp-seminars/651804899d05b96fc72b9474404fab330365ca09/seminar_02/pics/architecture.png)\n",
    "\n",
    "There are several ways to do it right. Shapes could be `(batch_size, 2*window_size)`, `(batch_size,)` for CBOW or `(batch_size,)`, `(batch_size,)` for Skip-Gram. You should **not** do negative sampling here.\n",
    "\n",
    "They should be adequately parametrized: CBOW(batch_size, window_size, ...), SkipGram(num_skips, skip_window). You should implement only one batcher in this task, it's up to you which one to chose.\n",
    "\n",
    "Useful links:\n",
    "1. [Word2Vec Tutorial - The Skip-Gram Model](http://mccormickml.com/2016/04/19/word2vec-tutorial-the-skip-gram-model/)\n",
    "1. [Efficient Estimation of Word Representations in Vector Space](https://arxiv.org/pdf/1301.3781.pdf)\n",
    "1. [Distributed Representations of Words and Phrases and their Compositionality](http://papers.nips.cc/paper/5021-distributed-representations-of-words-and-phrases-and-their-compositionality.pdf)\n",
    "\n",
    "You can write the code in this notebook, or in separate file. It will be reused for the next task. Result of your work should represent that your batch have proper structure (right shapes) and content (words should be from one context, not some random indices). To show that, translate indices back to words and print them to show something like this:\n",
    "\n",
    "```\n",
    "bag_window = 2\n",
    "\n",
    "batch = [['first', 'used', 'early', 'working'],\n",
    "        ['used', 'against', 'working', 'class'],\n",
    "        ['against', 'early', 'class', 'radicals'],\n",
    "        ['early', 'working', 'radicals', 'including']]\n",
    "\n",
    "labels = ['against', 'early', 'working', 'class']\n",
    "```\n",
    "\n",
    "If you struggle with somethng, ask your neighbour. If it is not obvious for you, probably someone else is looking for the answer too. And in contrast, if you see that you can help someone - just do it! Good luck!"
   ]
  },
  {
   "cell_type": "code",
   "execution_count": 1,
   "metadata": {},
   "outputs": [
    {
     "name": "stdout",
     "output_type": "stream",
     "text": [
      "using device: cpu\n"
     ]
    }
   ],
   "source": [
    "# 2 ЗАДАНИЕ\n",
    "\n",
    "import collections\n",
    "import math\n",
    "import os\n",
    "import random\n",
    "import zipfile\n",
    "import torch\n",
    "import torch.nn as nn\n",
    "from torch.autograd import Variable\n",
    "import torch.optim \n",
    "import torch.nn.functional\n",
    "import time\n",
    "import requests\n",
    "from os.path import isfile\n",
    "import numpy as np\n",
    "from six.moves import urllib\n",
    "from six.moves import xrange\n",
    "from sklearn.manifold import TSNE\n",
    "import matplotlib.pyplot as plt\n",
    "import torch.nn.functional as func\n",
    "\n",
    "USE_GPU = True\n",
    "\n",
    "dtype = torch.float32 # we will be using float throughout this tutorial\n",
    "\n",
    "if USE_GPU and torch.cuda.is_available():\n",
    "    device = torch.device('cuda')\n",
    "else:\n",
    "    device = torch.device('cpu')\n",
    "print('using device:', device)"
   ]
  },
  {
   "cell_type": "code",
   "execution_count": null,
   "metadata": {},
   "outputs": [],
   "source": [
    "if not os.path.isfile('text8'):# downloading corpus\n",
    "    with open('data.zip', 'wb') as f:\n",
    "        r = requests.get('http://mattmahoney.net/dc/text8.zip')\n",
    "        f.write(r.content)\n",
    "    !unzip 'data.zip' \n",
    "\n",
    "def read_data(filename):\n",
    "    with zipfile.ZipFile(filename) as f:\n",
    "        data = (f.read(f.namelist()[0]).split())\n",
    "        data = list(map(lambda x: x.decode(), data))\n",
    "    return data\n",
    "with open('text8') as f:\n",
    "    words = f.read().split()"
   ]
  },
  {
   "cell_type": "code",
   "execution_count": null,
   "metadata": {},
   "outputs": [],
   "source": [
    "voc_size = 15000\n",
    "UNK_TOKEN = 'TOKEN'# для редких слов\n",
    "frequency = collections.Counter(words)# словарь всех слов\n",
    "freq = frequency.most_common(voc_size)# словарь частых слов\n",
    "low_bound = freq[-1][1]# наименьшее количество повторений для попадания в словарь частых\n",
    "vocab = [x[0] for x in freq]# список слов из словаря\n",
    "vocab = [UNK_TOKEN] + vocab\n",
    "word_index = {w: idx for (idx, w) in enumerate(vocab)}# слово - индекс\n",
    "index_word = {idx: w for (idx, w) in enumerate(vocab)}# индекс - слово\n",
    "data = []# индексы words\n",
    "for word in words:\n",
    "  if frequency[word] > low_bound:\n",
    "    data.append(word_index[word])\n",
    "  else:\n",
    "    data.append(0)"
   ]
  },
  {
   "cell_type": "code",
   "execution_count": null,
   "metadata": {},
   "outputs": [],
   "source": [
    "class Batcher():\n",
    "  def __init__(self, data, window_size, batch_size=20):\n",
    "    self.window_size = window_size\n",
    "    self.batch_size = batch_size\n",
    "    self.data = data\n",
    "    self.span = 2 * window_size + 1\n",
    "  def make(self):\n",
    "    label_ind = []\n",
    "    label = []\n",
    "    batch = []\n",
    "    for i in range(self.batch_size):# создаем список центральных слов\n",
    "      index = int(np.random.uniform(0,len(self.data)))\n",
    "      if index == 0 or (len(words) - index - 1 < window_size):\n",
    "                index = window_size\n",
    "      label_ind.append(index)\n",
    "    for ind in label_ind:# создаем их контексты\n",
    "      label.append(self.data[ind])\n",
    "      list_ = [i for i in range(-self.window_size, self.window_size+1) if i!=0]\n",
    "      b = [self.data[ind+i] for i in list_]\n",
    "      batch.append(b)\n",
    "    return batch, label"
   ]
  },
  {
   "cell_type": "code",
   "execution_count": null,
   "metadata": {},
   "outputs": [],
   "source": [
    "def one_hot(batch, voc_size, window_size, batch_size):\n",
    "  result = torch.zeros([batch_size, voc_size])\n",
    "  for i,cont in enumerate(batch):\n",
    "    for j in cont:\n",
    "      result[i,j] = result[i,j] + 1# from each context we get one_hot vector\n",
    "  return result"
   ]
  }
 ],
 "metadata": {
  "kernelspec": {
   "display_name": "Python 3",
   "language": "python",
   "name": "python3"
  },
  "language_info": {
   "codemirror_mode": {
    "name": "ipython",
    "version": 3
   },
   "file_extension": ".py",
   "mimetype": "text/x-python",
   "name": "python",
   "nbconvert_exporter": "python",
   "pygments_lexer": "ipython3",
   "version": "3.6.4"
  }
 },
 "nbformat": 4,
 "nbformat_minor": 2
}
