{
 "cells": [
  {
   "cell_type": "markdown",
   "metadata": {
    "colab_type": "text",
    "id": "sT9rUm1NY1xP"
   },
   "source": [
    "## Посимвольная языковая модель.\n",
    "\n",
    "В первом задании Вам нужно написать и обучить посимвольную нейронную языковую модель для вычисления вероятностей буквенных последовательностей (то есть слов). Такие модели используются в задачах словоизменения и распознавания/порождения звучащей речи. Для обучения модели используйте данные для русского языка из [репозитория](https://github.com/sigmorphon/conll2018/tree/master/task1/surprise).\n",
    "\n",
    "**В процессе написания Вам нужно решить следующие проблемы:**\n",
    "    \n",
    "* как будет выглядеть обучающая выборка; что будет являться признаками, и что - метками классов.\n",
    "* как сделать так, чтобы модель при предсказании символа учитывала все предыдущие символы слова.\n",
    "* какие специальные символы нужно использовать.\n",
    "* как передавать в модель текущее состояние рекуррентной сети\n",
    "\n",
    "**Результаты:**\n",
    "\n",
    "* предобработчик данных,\n",
    "* генератор обучающих данных (батчей),\n",
    "* обученная модель\n",
    "* перплексия модели на настроечной выборке\n",
    "* посимвольные вероятности слов в контрольной выборке\n",
    "\n",
    "**Дополнительно:**\n",
    "\n",
    "* дополнительный вход модели (часть речи слова, другие морфологические признаки), влияет ли его добавление на перплексию\n",
    "* сравнение различных архитектур нейронной сети (FC, RNN, LSTM, QRNN, ...)"
   ]
  },
  {
   "cell_type": "code",
   "execution_count": 0,
   "metadata": {
    "colab": {},
    "colab_type": "code",
    "id": "divBu112Y1xQ"
   },
   "outputs": [],
   "source": [
    "# it is better to do all imports at the first cell\n",
    "import numpy as np\n",
    "import torch\n",
    "import torch.nn as nn\n",
    "import torch.nn.functional as func\n",
    "from torch.autograd import Variable\n",
    "import random\n",
    "import matplotlib.pyplot as plt\n",
    "import torch.utils.data as utils\n",
    "import time"
   ]
  },
  {
   "cell_type": "code",
   "execution_count": 4,
   "metadata": {
    "colab": {
     "base_uri": "https://localhost:8080/",
     "height": 303
    },
    "colab_type": "code",
    "id": "MrVSdxTANMtS",
    "outputId": "cf4658bb-435b-4573-d473-f46f2395dd30"
   },
   "outputs": [
    {
     "name": "stdout",
     "output_type": "stream",
     "text": [
      "Go to this URL in a browser: https://accounts.google.com/o/oauth2/auth?client_id=947318989803-6bn6qk8qdgf4n4g3pfee6491hc0brc4i.apps.googleusercontent.com&redirect_uri=urn%3Aietf%3Awg%3Aoauth%3A2.0%3Aoob&scope=email%20https%3A%2F%2Fwww.googleapis.com%2Fauth%2Fdocs.test%20https%3A%2F%2Fwww.googleapis.com%2Fauth%2Fdrive%20https%3A%2F%2Fwww.googleapis.com%2Fauth%2Fdrive.photos.readonly%20https%3A%2F%2Fwww.googleapis.com%2Fauth%2Fpeopleapi.readonly&response_type=code\n",
      "\n",
      "Enter your authorization code:\n",
      "··········\n",
      "Mounted at /content/gdrive\n"
     ]
    }
   ],
   "source": [
    "from google.colab import drive\n",
    "drive.mount('/content/gdrive')"
   ]
  },
  {
   "cell_type": "code",
   "execution_count": 5,
   "metadata": {
    "colab": {
     "base_uri": "https://localhost:8080/",
     "height": 34
    },
    "colab_type": "code",
    "id": "rJeQFK7kY1xX",
    "outputId": "de39c7a7-7be2-4d7b-fc23-5d17ec80b0df"
   },
   "outputs": [
    {
     "name": "stdout",
     "output_type": "stream",
     "text": [
      "using device: cuda\n"
     ]
    }
   ],
   "source": [
    "USE_GPU = True\n",
    "\n",
    "dtype = torch.float32\n",
    "\n",
    "if USE_GPU and torch.cuda.is_available():\n",
    "    device = torch.device('cuda')\n",
    "else:\n",
    "    device = torch.device('cpu')\n",
    "print('using device:', device)"
   ]
  },
  {
   "cell_type": "code",
   "execution_count": 6,
   "metadata": {
    "colab": {
     "base_uri": "https://localhost:8080/",
     "height": 603
    },
    "colab_type": "code",
    "id": "kty2Ry0BY1xf",
    "outputId": "8d3781e8-99da-469a-f7d7-da0f4c772aa0"
   },
   "outputs": [
    {
     "name": "stdout",
     "output_type": "stream",
     "text": [
      "--2019-04-07 09:53:21--  https://raw.githubusercontent.com/sigmorphon/conll2018/master/task1/surprise/russian-train-high\n",
      "Resolving raw.githubusercontent.com (raw.githubusercontent.com)... 151.101.0.133, 151.101.64.133, 151.101.128.133, ...\n",
      "Connecting to raw.githubusercontent.com (raw.githubusercontent.com)|151.101.0.133|:443... connected.\n",
      "HTTP request sent, awaiting response... 200 OK\n",
      "Length: 533309 (521K) [text/plain]\n",
      "Saving to: ‘russian-train-high’\n",
      "\n",
      "\r",
      "russian-train-high    0%[                    ]       0  --.-KB/s               \r",
      "russian-train-high  100%[===================>] 520.81K  --.-KB/s    in 0.06s   \n",
      "\n",
      "2019-04-07 09:53:21 (8.24 MB/s) - ‘russian-train-high’ saved [533309/533309]\n",
      "\n",
      "--2019-04-07 09:53:23--  https://raw.githubusercontent.com/sigmorphon/conll2018/master/task1/surprise/russian-dev\n",
      "Resolving raw.githubusercontent.com (raw.githubusercontent.com)... 151.101.0.133, 151.101.64.133, 151.101.128.133, ...\n",
      "Connecting to raw.githubusercontent.com (raw.githubusercontent.com)|151.101.0.133|:443... connected.\n",
      "HTTP request sent, awaiting response... 200 OK\n",
      "Length: 53671 (52K) [text/plain]\n",
      "Saving to: ‘russian-dev’\n",
      "\n",
      "russian-dev         100%[===================>]  52.41K  --.-KB/s    in 0.02s   \n",
      "\n",
      "2019-04-07 09:53:23 (2.12 MB/s) - ‘russian-dev’ saved [53671/53671]\n",
      "\n",
      "--2019-04-07 09:53:24--  https://raw.githubusercontent.com/sigmorphon/conll2018/master/task1/surprise/russian-test\n",
      "Resolving raw.githubusercontent.com (raw.githubusercontent.com)... 151.101.0.133, 151.101.64.133, 151.101.128.133, ...\n",
      "Connecting to raw.githubusercontent.com (raw.githubusercontent.com)|151.101.0.133|:443... connected.\n",
      "HTTP request sent, awaiting response... 200 OK\n",
      "Length: 53514 (52K) [text/plain]\n",
      "Saving to: ‘russian-test’\n",
      "\n",
      "russian-test        100%[===================>]  52.26K  --.-KB/s    in 0.02s   \n",
      "\n",
      "2019-04-07 09:53:25 (2.09 MB/s) - ‘russian-test’ saved [53514/53514]\n",
      "\n"
     ]
    }
   ],
   "source": [
    "!wget https://raw.githubusercontent.com/sigmorphon/conll2018/master/task1/surprise/russian-train-high\n",
    "!wget https://raw.githubusercontent.com/sigmorphon/conll2018/master/task1/surprise/russian-dev\n",
    "!wget https://raw.githubusercontent.com/sigmorphon/conll2018/master/task1/surprise/russian-test"
   ]
  },
  {
   "cell_type": "code",
   "execution_count": 0,
   "metadata": {
    "colab": {},
    "colab_type": "code",
    "id": "F_drdsl0Y1xl"
   },
   "outputs": [],
   "source": [
    "def read_dataset(infile):\n",
    "    words, tags = [], []\n",
    "    with open(infile, \"r\", encoding=\"utf8\") as f:\n",
    "        for line in f:\n",
    "            line = line.strip()\n",
    "            splitted = line.split(\"\\t\")\n",
    "            if len(splitted) != 3:\n",
    "                continue\n",
    "            words.append(splitted[0].lower())\n",
    "            tags.append(splitted[2])\n",
    "    return words, tags\n",
    "\n",
    "train_words, train_tags = read_dataset(\"russian-train-high\")\n",
    "dev_words, dev_tags = read_dataset(\"russian-dev\")\n",
    "test_words, test_tags = read_dataset(\"russian-test\")"
   ]
  },
  {
   "cell_type": "markdown",
   "metadata": {
    "colab_type": "text",
    "id": "LYoMTiMHY1xo"
   },
   "source": [
    "Подумайте, какие вспомогательные токены могут быть вам полезны. Выдайте им индексы от `0` до `len(AUXILIARY) - 1`"
   ]
  },
  {
   "cell_type": "code",
   "execution_count": 0,
   "metadata": {
    "colab": {},
    "colab_type": "code",
    "id": "qxSCyiSoY1xp",
    "scrolled": true
   },
   "outputs": [],
   "source": [
    "AUXILIARY = {'<START>', '<END>'}"
   ]
  },
  {
   "cell_type": "markdown",
   "metadata": {
    "colab_type": "text",
    "id": "__jSYB1tY1xt"
   },
   "source": [
    "### Словарь, paddings - числовое представление всех слов, дополняем до нужной длины паддингами(числом элемента  'END')"
   ]
  },
  {
   "cell_type": "code",
   "execution_count": 0,
   "metadata": {
    "colab": {},
    "colab_type": "code",
    "id": "KBqgv87NY1xu"
   },
   "outputs": [],
   "source": [
    "class Vocabulary:\n",
    "    def fit(self, data):\n",
    "        \"\"\"Extract unique symbols from the data, make itos (item to string) and stoi (string to index) objects\"\"\"\n",
    "        symbols = set(x for elem in data for x in elem)\n",
    "        self._symbols = AUXILIARY.copy()\n",
    "        self._symbols.update(symbols)\n",
    "        self._symbols = sorted(self._symbols)\n",
    "        # Запомните следующую строчку кода - она нужна примерно всегда\n",
    "        self._symbol_codes = {s: i for i, s in enumerate(self._symbols)}# символ - индекс\n",
    "        self._codes_symbol = {v: k for k, v in self._symbol_codes.items()}\n",
    "        # \n",
    "        self.corpus = self.transform(data)\n",
    "        self.longest = max(len(i) for i in self.corpus)\n",
    "        self.paddings = [[a._symbol_codes['<START>']] + i + [self._symbol_codes['<END>']]*(self.longest - len(i)+1) for i in self.corpus]\n",
    "        self.longest = max(len(i) for i in self.paddings)\n",
    "        return self\n",
    "\n",
    "    def __len__(self):\n",
    "        return len(self._symbols)\n",
    "\n",
    "    def transform(self, data):\n",
    "        \"\"\"Transform data to indices\n",
    "        Input:\n",
    "            - data, list of strings\n",
    "        Output:\n",
    "            - list of list of char indices\n",
    "        >>> self.transform(['word1', 'token2'])\n",
    "        >>> [[24, 2, 19, 13, 3], [8, 2, 9, 1, 7, 4]]\n",
    "        \"\"\"\n",
    "        for i in data:\n",
    "            for j in i:\n",
    "                if j not in self._symbols:\n",
    "                    print(\"UNKNOWN SYMBOL: {}\".format(j))\n",
    "                    return None\n",
    "        return [[self._symbol_codes[str(j)] for j in i] for i in data]\n",
    "    def str_by_ind(self, v):# get words from indexes\n",
    "        s = [self._codes_symbol[i.item()] for i in v]\n",
    "        s = ''.join(i for i in s)\n",
    "        print(s)"
   ]
  },
  {
   "cell_type": "markdown",
   "metadata": {
    "colab_type": "text",
    "id": "ckl6D33pY1xw"
   },
   "source": [
    "### Batcher"
   ]
  },
  {
   "cell_type": "code",
   "execution_count": 0,
   "metadata": {
    "colab": {},
    "colab_type": "code",
    "id": "l2-p0p-7Y1xx"
   },
   "outputs": [],
   "source": [
    "class Batch:\n",
    "    def __init__(self, vocab):\n",
    "        self.sym_ind = vocab._symbol_codes\n",
    "        self.paddings = vocab.paddings\n",
    "        self.longest = vocab.longest\n",
    "        \n",
    "    def make_batch(self, batch_size):\n",
    "        '''\n",
    "        inputs: capacity of batch and number of chars \n",
    "        outputs: torch tensor [batch_size x self.longest] x 2: sample and pred\n",
    "        '''\n",
    "        sample = torch.LongTensor(batch_size, self.longest-1)\n",
    "        pred = torch.LongTensor(batch_size, self.longest-1)\n",
    "        for i in range(batch_size):\n",
    "            index = random.randint(0, len(self.paddings)-1)\n",
    "            s = torch.Tensor(self.paddings[index])\n",
    "            sample[i] = (s[:-1])\n",
    "            pred[i] = (s[1:])\n",
    "        sample = sample.cuda()\n",
    "        pred = pred.cuda()\n",
    "        return sample, pred"
   ]
  },
  {
   "cell_type": "markdown",
   "metadata": {
    "colab_type": "text",
    "id": "NpBG-MA3Y1x0"
   },
   "source": [
    "### Модель"
   ]
  },
  {
   "cell_type": "code",
   "execution_count": 0,
   "metadata": {
    "colab": {},
    "colab_type": "code",
    "id": "fyUfvBxnY1x1"
   },
   "outputs": [],
   "source": [
    "class Net(nn.Module):\n",
    "    def __init__(self, input_size, hidden_size, output_size, n_layers=1):\n",
    "        super(Net, self).__init__()\n",
    "        self.input_size = input_size\n",
    "        self.hidden_size = hidden_size\n",
    "        self.output_size = input_size\n",
    "        self.n_layers = n_layers\n",
    "        \n",
    "        self.encoder = nn.Embedding(self.input_size, self.hidden_size)\n",
    "        self.lstm = nn.LSTM(self.hidden_size, self.hidden_size, self.n_layers)\n",
    "        self.decoder = nn.Linear(self.hidden_size, self.output_size)\n",
    "        \n",
    "    def forward(self, x, hidden):\n",
    "        batch_size = x.size(0)\n",
    "        x = self.encoder(x)\n",
    "        out, hidden = self.lstm(x.view(1, batch_size, -1), hidden)\n",
    "        out = self.decoder(out.view(batch_size, -1))\n",
    "        return out, hidden\n",
    "      \n",
    "    def init_hidden(self, batch_size):\n",
    "        return torch.zeros(self.n_layers, batch_size, self.hidden_size, device = device), torch.zeros(self.n_layers, batch_size, self.hidden_size, device = device)"
   ]
  },
  {
   "cell_type": "markdown",
   "metadata": {
    "colab_type": "text",
    "id": "OGBwBXaeY1x4"
   },
   "source": [
    "### Parameters"
   ]
  },
  {
   "cell_type": "code",
   "execution_count": 0,
   "metadata": {
    "colab": {},
    "colab_type": "code",
    "id": "4ilh_ZFlZibl"
   },
   "outputs": [],
   "source": [
    "a = Vocabulary()\n",
    "a.fit(train_words)# make corpus + dict symbol-code\n",
    "b = Batch(a)#make batches on corpus"
   ]
  },
  {
   "cell_type": "code",
   "execution_count": 0,
   "metadata": {
    "colab": {},
    "colab_type": "code",
    "id": "UQ8YbeXhY1x5"
   },
   "outputs": [],
   "source": [
    "batch_size = 128\n",
    "lr = 0.01\n",
    "input_size = len(a)\n",
    "hidden_size = 100\n",
    "n_layers = 3\n",
    "n_epochs = 2500\n",
    "print_every = 100"
   ]
  },
  {
   "cell_type": "code",
   "execution_count": 0,
   "metadata": {
    "colab": {},
    "colab_type": "code",
    "id": "SRi0ADNNY1x8"
   },
   "outputs": [],
   "source": [
    "model = Net(input_size, hidden_size, input_size, n_layers).to(device=device)\n",
    "optimizer = torch.optim.Adam(model.parameters(), lr=lr)\n",
    "criterion = nn.CrossEntropyLoss()\n",
    "loss = torch.tensor(0)"
   ]
  },
  {
   "cell_type": "code",
   "execution_count": 0,
   "metadata": {
    "colab": {},
    "colab_type": "code",
    "id": "3mSMBEjVN-yq"
   },
   "outputs": [],
   "source": [
    "model = Net(input_size, hidden_size, input_size, n_layers).to(device=device)\n",
    "model.load_state_dict(torch.load('gdrive/My Drive/Colab Notebooks/char_lang_31.dms'))"
   ]
  },
  {
   "cell_type": "code",
   "execution_count": 0,
   "metadata": {
    "colab": {},
    "colab_type": "code",
    "id": "B8y6k6mEOLQW"
   },
   "outputs": [],
   "source": [
    "optimizer = torch.optim.Adam(model1.parameters(), lr=lr)\n",
    "optimizer.load_state_dict(torch.load('gdrive/My Drive/Colab Notebooks/adam_char_lang_31.dms'))"
   ]
  },
  {
   "cell_type": "markdown",
   "metadata": {
    "colab_type": "text",
    "id": "77DDDdqjY1x9"
   },
   "source": [
    "### Train"
   ]
  },
  {
   "cell_type": "code",
   "execution_count": 0,
   "metadata": {
    "colab": {
     "base_uri": "https://localhost:8080/",
     "height": 887
    },
    "colab_type": "code",
    "id": "HII7CwvhY1x-",
    "outputId": "a27929c7-27f5-4deb-de58-56bc684b115b",
    "scrolled": true
   },
   "outputs": [
    {
     "name": "stdout",
     "output_type": "stream",
     "text": [
      "epoch 100,   \tloss 0.5144882202148438 \tperplexity 1.6727821865857482\n",
      "time passed 8:\n",
      "epoch 200,   \tloss 0.46578572591145834 \tperplexity 1.5932655672425389\n",
      "time passed 17:\n",
      "epoch 300,   \tloss 0.4495382520887587 \tperplexity 1.5675881877794235\n",
      "time passed 26:\n",
      "epoch 400,   \tloss 0.4296836853027344 \tperplexity 1.5367713432971342\n",
      "time passed 35:\n",
      "epoch 500,   \tloss 0.4019052293565538 \tperplexity 1.4946696751568074\n",
      "time passed 44:\n",
      "epoch 600,   \tloss 0.39642901950412324 \tperplexity 1.486506921231625\n",
      "time passed 52:\n",
      "epoch 700,   \tloss 0.3772795783148872 \tperplexity 1.458311964784458\n",
      "time passed 61:\n",
      "epoch 800,   \tloss 0.3683821784125434 \tperplexity 1.4453943319412126\n",
      "time passed 70:\n",
      "epoch 900,   \tloss 0.36214273240831163 \tperplexity 1.436403948724359\n",
      "time passed 79:\n",
      "epoch 1000,   \tloss 0.3599880218505859 \tperplexity 1.4333122460292769\n",
      "time passed 88:\n",
      "epoch 1100,   \tloss 0.3440824932522244 \tperplexity 1.410695003526562\n",
      "time passed 97:\n",
      "epoch 1200,   \tloss 0.3323418935139974 \tperplexity 1.3942294450395267\n",
      "time passed 105:\n",
      "epoch 1300,   \tloss 0.33238084581163196 \tperplexity 1.3942837545375737\n",
      "time passed 114:\n",
      "epoch 1400,   \tloss 0.31555504269070095 \tperplexity 1.371020074480494\n",
      "time passed 123:\n",
      "epoch 1500,   \tloss 0.32086815304226346 \tperplexity 1.3783238411078724\n",
      "time passed 132:\n",
      "epoch 1600,   \tloss 0.3168153338962131 \tperplexity 1.3727490482993425\n",
      "time passed 140:\n",
      "epoch 1700,   \tloss 0.287445428636339 \tperplexity 1.333017845576663\n",
      "time passed 149:\n",
      "epoch 1800,   \tloss 0.2917697058783637 \tperplexity 1.3387946655932605\n",
      "time passed 158:\n",
      "epoch 1900,   \tloss 0.28576312594943576 \tperplexity 1.3307771913311357\n",
      "time passed 167:\n",
      "epoch 2000,   \tloss 0.28822754753960506 \tperplexity 1.3340608318485518\n",
      "time passed 176:\n",
      "epoch 2100,   \tloss 0.3012393951416016 \tperplexity 1.3515328532116828\n",
      "time passed 184:\n",
      "epoch 2200,   \tloss 0.28158707088894314 \tperplexity 1.325231380372497\n",
      "time passed 193:\n",
      "epoch 2300,   \tloss 0.29509561326768663 \tperplexity 1.3432547855259038\n",
      "time passed 202:\n",
      "epoch 2400,   \tloss 0.28345680236816406 \tperplexity 1.3277115250814215\n",
      "time passed 211:\n",
      "epoch 2500,   \tloss 0.29522166781955295 \tperplexity 1.3434241195783754\n",
      "time passed 220:\n"
     ]
    }
   ],
   "source": [
    "start_time = time.clock()\n",
    "losses = []\n",
    "perplexity = []\n",
    "for epoch in range(1, n_epochs + 1):\n",
    "    \n",
    "    model.zero_grad()\n",
    "    loss = 0\n",
    "    \n",
    "    inp, target  = b.make_batch(batch_size)# take a batch of samples and targets\n",
    "    hidden = model.init_hidden(batch_size)\n",
    "    model.train()\n",
    "    for i in range(a.longest-1):\n",
    "        output, hidden = model(inp[:,i],hidden)\n",
    "        loss += criterion(output.view(batch_size,-1), target[:,i])\n",
    "        \n",
    "    loss.backward()\n",
    "    optimizer.step()\n",
    "    \n",
    "    losses.append(loss.item()/a.longest)\n",
    "    perplexity.append(np.exp(losses[-1]))\n",
    "    \n",
    "    if epoch % print_every == 0:\n",
    "        print('epoch {},   \\tloss {} \\tperplexity {}'.format(epoch, losses[-1], perplexity[-1]))\n",
    "        print('time passed %d:' %(time.clock()-start_time))"
   ]
  },
  {
   "cell_type": "code",
   "execution_count": 0,
   "metadata": {
    "colab": {
     "base_uri": "https://localhost:8080/",
     "height": 479
    },
    "colab_type": "code",
    "id": "u_3Vo8X1Y1yJ",
    "outputId": "48dbe49b-2cdd-45f4-972d-d7b2bc1afc93"
   },
   "outputs": [
    {
     "data": {
      "image/png": "[encoded data removed]",
      "text/plain": [
       "<Figure size 864x504 with 1 Axes>"
      ]
     },
     "metadata": {
      "tags": []
     },
     "output_type": "display_data"
    }
   ],
   "source": [
    "plt.figure(figsize=(12,7))\n",
    "plt.plot(range(len(perplexity[10:])), perplexity[10:])\n",
    "plt.xlabel(\"$epoch$\", fontsize=25)\n",
    "plt.ylabel(\"$perplexity$\", fontsize=25)\n",
    "plt.show()"
   ]
  },
  {
   "cell_type": "code",
   "execution_count": 0,
   "metadata": {
    "colab": {
     "base_uri": "https://localhost:8080/",
     "height": 479
    },
    "colab_type": "code",
    "id": "Zvqd6TyyY1yM",
    "outputId": "1b150050-93d4-4cc4-ef24-102209a2f449"
   },
   "outputs": [
    {
     "data": {
      "image/png": "[encoded data removed]",
      "text/plain": [
       "<Figure size 864x504 with 1 Axes>"
      ]
     },
     "metadata": {
      "tags": []
     },
     "output_type": "display_data"
    }
   ],
   "source": [
    "plt.figure(figsize=(12,7))\n",
    "plt.plot(range(len(losses)), losses)\n",
    "plt.xlabel(\"$epoch$\", fontsize=25)\n",
    "plt.ylabel(\"$loss$\", fontsize=25)\n",
    "plt.show()"
   ]
  },
  {
   "cell_type": "markdown",
   "metadata": {
    "colab_type": "text",
    "id": "BR4FPaU_QVl7"
   },
   "source": [
    " ## Получаем вероятности букв, сначала на обучающей и тестовых выборках проверим качество предсказания слов(выводим последовательность символов, для которых вероятность максимальная)"
   ]
  },
  {
   "cell_type": "code",
   "execution_count": 0,
   "metadata": {
    "colab": {},
    "colab_type": "code",
    "id": "4pse_6zhYHcU"
   },
   "outputs": [],
   "source": [
    "def print_examples(vocab, number, inpu, outp):\n",
    "    for i in range(number):\n",
    "        print(vocab.str_by_ind(inpu[i]))\n",
    "        pred = []\n",
    "        for j in range(vocab.longest-1):\n",
    "            pred.append(func.softmax(outp[j][i] ,dim = 0))\n",
    "        res = torch.zeros(vocab.longest-1)\n",
    "        for s in range(vocab.longest-1):\n",
    "            _, m = torch.max(pred[s],0)\n",
    "            res[s] = m\n",
    "        print(vocab.str_by_ind(res))\n",
    "    return pred"
   ]
  },
  {
   "cell_type": "code",
   "execution_count": 0,
   "metadata": {
    "colab": {},
    "colab_type": "code",
    "id": "5haat739OMhg"
   },
   "outputs": [],
   "source": [
    "def make_prediction():\n",
    "    probs = []\n",
    "    o = []\n",
    "    with torch.no_grad():\n",
    "        inp, target  = b.make_batch(batch_size)\n",
    "        hid = model.init_hidden(batch_size)\n",
    "        for i in range(a.longest-1):\n",
    "            output, hid = model(inp[:,i],hid)\n",
    "            o.append(output)\n",
    "    return inp, target, o"
   ]
  },
  {
   "cell_type": "code",
   "execution_count": 22,
   "metadata": {
    "colab": {
     "base_uri": "https://localhost:8080/",
     "height": 556
    },
    "colab_type": "code",
    "id": "uLKKTbb5Rb1D",
    "outputId": "753b1909-630f-4b49-c302-eaa2f899c9b0"
   },
   "outputs": [
    {
     "name": "stdout",
     "output_type": "stream",
     "text": [
      "<START>проезжий<END><END><END><END><END><END><END><END><END><END><END><END><END><END><END><END><END><END><END><END><END><END><END><END><END><END><END><END><END><END><END><END><END><END><END>\n",
      "None\n",
      "прискднй<END><END><END><END><END><END><END><END><END><END><END><END><END><END><END><END><END><END><END><END><END><END><END><END><END><END><END><END><END><END><END><END><END><END><END><END>\n",
      "None\n",
      "<START>отмель<END><END><END><END><END><END><END><END><END><END><END><END><END><END><END><END><END><END><END><END><END><END><END><END><END><END><END><END><END><END><END><END><END><END><END><END><END>\n",
      "None\n",
      "птсоньн<END><END><END><END><END><END><END><END><END><END><END><END><END><END><END><END><END><END><END><END><END><END><END><END><END><END><END><END><END><END><END><END><END><END><END><END><END>\n",
      "None\n",
      "<START>встроенный<END><END><END><END><END><END><END><END><END><END><END><END><END><END><END><END><END><END><END><END><END><END><END><END><END><END><END><END><END><END><END><END><END>\n",
      "None\n",
      "пыероинный<END><END><END><END><END><END><END><END><END><END><END><END><END><END><END><END><END><END><END><END><END><END><END><END><END><END><END><END><END><END><END><END><END><END>\n",
      "None\n",
      "<START>чибис<END><END><END><END><END><END><END><END><END><END><END><END><END><END><END><END><END><END><END><END><END><END><END><END><END><END><END><END><END><END><END><END><END><END><END><END><END><END>\n",
      "None\n",
      "песор<END><END><END><END><END><END><END><END><END><END><END><END><END><END><END><END><END><END><END><END><END><END><END><END><END><END><END><END><END><END><END><END><END><END><END><END><END><END><END>\n",
      "None\n",
      "<START>непостижимый<END><END><END><END><END><END><END><END><END><END><END><END><END><END><END><END><END><END><END><END><END><END><END><END><END><END><END><END><END><END><END>\n",
      "None\n",
      "пепрлоожицый<END><END><END><END><END><END><END><END><END><END><END><END><END><END><END><END><END><END><END><END><END><END><END><END><END><END><END><END><END><END><END><END>\n",
      "None\n",
      "<START>ладный<END><END><END><END><END><END><END><END><END><END><END><END><END><END><END><END><END><END><END><END><END><END><END><END><END><END><END><END><END><END><END><END><END><END><END><END><END>\n",
      "None\n",
      "пинный<END><END><END><END><END><END><END><END><END><END><END><END><END><END><END><END><END><END><END><END><END><END><END><END><END><END><END><END><END><END><END><END><END><END><END><END><END><END>\n",
      "None\n",
      "<START>ссора<END><END><END><END><END><END><END><END><END><END><END><END><END><END><END><END><END><END><END><END><END><END><END><END><END><END><END><END><END><END><END><END><END><END><END><END><END><END>\n",
      "None\n",
      "птуло<END><END><END><END><END><END><END><END><END><END><END><END><END><END><END><END><END><END><END><END><END><END><END><END><END><END><END><END><END><END><END><END><END><END><END><END><END><END><END>\n",
      "None\n"
     ]
    }
   ],
   "source": [
    "inpu, targ, outp = make_prediction()\n",
    "_ = print_examples(a, 7, inpu, outp)"
   ]
  },
  {
   "cell_type": "code",
   "execution_count": 0,
   "metadata": {
    "colab": {},
    "colab_type": "code",
    "id": "jls1vYAu9yC1"
   },
   "outputs": [],
   "source": [
    "tes = Vocabulary()\n",
    "tes.fit(test_words)# make corpus + dict symbol-code\n",
    "b_tes = Batch(tes)#make batches on corpus"
   ]
  },
  {
   "cell_type": "code",
   "execution_count": 0,
   "metadata": {
    "colab": {},
    "colab_type": "code",
    "id": "ckB7MKd8U-HG"
   },
   "outputs": [],
   "source": [
    "def make_test_prediction():\n",
    "    probs = []\n",
    "    o = []\n",
    "    with torch.no_grad():\n",
    "        inp, target  = b_tes.make_batch(batch_size)\n",
    "        hid = model.init_hidden(batch_size)\n",
    "        for i in range(tes.longest-1):\n",
    "            output, hid = model(inp[:,i],hid)\n",
    "            o.append(output)\n",
    "    return inp, target, o"
   ]
  },
  {
   "cell_type": "markdown",
   "metadata": {
    "colab_type": "text",
    "id": "etOieaX6OcXo"
   },
   "source": [
    "Видно, что на тесте получается довольно-таки бессмысленный набор букв иногда, но этого достаточно чтобы понять какая например это была часть речи(окончание слова хорошо восстанавливается)"
   ]
  },
  {
   "cell_type": "code",
   "execution_count": 25,
   "metadata": {
    "colab": {
     "base_uri": "https://localhost:8080/",
     "height": 556
    },
    "colab_type": "code",
    "id": "oQnJLqmpWqPf",
    "outputId": "13a33ce1-9d7d-43aa-c7d8-98d779eb8760"
   },
   "outputs": [
    {
     "name": "stdout",
     "output_type": "stream",
     "text": [
      "<START>аброгация<END><END><END><END><END><END><END><END><END><END><END><END><END><END><END><END><END><END><END><END><END><END><END><END><END><END><END><END>\n",
      "None\n",
      "пноесн<END>ио<END><END><END><END><END><END><END><END><END><END><END><END><END><END><END><END><END><END><END><END><END><END><END><END><END><END><END><END><END>\n",
      "None\n",
      "<START>ссылаться<END><END><END><END><END><END><END><END><END><END><END><END><END><END><END><END><END><END><END><END><END><END><END><END><END><END><END><END>\n",
      "None\n",
      "птулать<END>я<END><END><END><END><END><END><END><END><END><END><END><END><END><END><END><END><END><END><END><END><END><END><END><END><END><END><END><END><END>\n",
      "None\n",
      "<START>оптимальный<END><END><END><END><END><END><END><END><END><END><END><END><END><END><END><END><END><END><END><END><END><END><END><END><END><END>\n",
      "None\n",
      "птоомальный<END><END><END><END><END><END><END><END><END><END><END><END><END><END><END><END><END><END><END><END><END><END><END><END><END><END><END>\n",
      "None\n",
      "<START>хрустальный<END><END><END><END><END><END><END><END><END><END><END><END><END><END><END><END><END><END><END><END><END><END><END><END><END><END>\n",
      "None\n",
      "приптотьный<END><END><END><END><END><END><END><END><END><END><END><END><END><END><END><END><END><END><END><END><END><END><END><END><END><END><END>\n",
      "None\n",
      "<START>трансплантировать<END><END><END><END><END><END><END><END><END><END><END><END><END><END><END><END><END><END><END><END>\n",
      "None\n",
      "пренспоастировать<END><END><END><END><END><END><END><END><END><END><END><END><END><END><END><END><END><END><END><END><END>\n",
      "None\n",
      "<START>лабиализованный<END><END><END><END><END><END><END><END><END><END><END><END><END><END><END><END><END><END><END><END><END><END>\n",
      "None\n",
      "пинирльзоватный<END><END><END><END><END><END><END><END><END><END><END><END><END><END><END><END><END><END><END><END><END><END><END>\n",
      "None\n",
      "<START>бессовестный<END><END><END><END><END><END><END><END><END><END><END><END><END><END><END><END><END><END><END><END><END><END><END><END><END>\n",
      "None\n",
      "пезптветтный<END><END><END><END><END><END><END><END><END><END><END><END><END><END><END><END><END><END><END><END><END><END><END><END><END><END>\n",
      "None\n"
     ]
    }
   ],
   "source": [
    "inpu, targ, outp = make_test_prediction()\n",
    "s = print_examples(tes, 7, inpu, outp)"
   ]
  },
  {
   "cell_type": "markdown",
   "metadata": {
    "colab_type": "text",
    "id": "vQI_9XykdIpa"
   },
   "source": [
    "## Получаем вероятности последовательность букв на тестовой выборке (по заданию)"
   ]
  },
  {
   "cell_type": "code",
   "execution_count": 0,
   "metadata": {
    "colab": {},
    "colab_type": "code",
    "id": "WHsVHJr8do4T"
   },
   "outputs": [],
   "source": [
    "def get_prob(vocab, word, outp):\n",
    "    word_num = [vocab._symbol_codes[i] for i in word]\n",
    "    probability = 1.0\n",
    "    for i in word_num:\n",
    "        probs = func.softmax(outp[i][0], dim = 0)\n",
    "        probability *= probs[i].item()\n",
    "    return probability"
   ]
  },
  {
   "cell_type": "markdown",
   "metadata": {
    "colab_type": "text",
    "id": "xwn8L4PmRQXM"
   },
   "source": [
    "Возьмем для примера слово 'оптимальный'"
   ]
  },
  {
   "cell_type": "code",
   "execution_count": 65,
   "metadata": {
    "colab": {
     "base_uri": "https://localhost:8080/",
     "height": 110
    },
    "colab_type": "code",
    "id": "zcvrgXoyRO34",
    "outputId": "885a4a7f-3601-4b42-8282-53d70aaba27a"
   },
   "outputs": [
    {
     "data": {
      "text/plain": [
       "'\\n<START>оптимальный<END><END><END><END><END><END><END><END><END><END><END><END><END><END><END><END><END><END><END><END><END><END><END><END><END><END>\\nNone\\nптоомальный<END><END><END><END><END><END><END><END><END><END><END><END><END><END><END><END><END><END><END><END><END><END><END><END><END><END><END>\\nNone\\n'"
      ]
     },
     "execution_count": 65,
     "metadata": {
      "tags": []
     },
     "output_type": "execute_result"
    }
   ],
   "source": [
    "'''\n",
    "<START>оптимальный<END><END><END><END><END><END><END><END><END><END><END><END><END><END><END><END><END><END><END><END><END><END><END><END><END><END>\n",
    "None\n",
    "птоомальный<END><END><END><END><END><END><END><END><END><END><END><END><END><END><END><END><END><END><END><END><END><END><END><END><END><END><END>\n",
    "None\n",
    "'''"
   ]
  },
  {
   "cell_type": "code",
   "execution_count": 55,
   "metadata": {
    "colab": {
     "base_uri": "https://localhost:8080/",
     "height": 663
    },
    "colab_type": "code",
    "id": "sW6wwgiRiXFW",
    "outputId": "9d766201-b38c-425a-89ab-e2da69789464"
   },
   "outputs": [
    {
     "name": "stdout",
     "output_type": "stream",
     "text": [
      "0\t 0.1772516965866089\t п \n",
      "1\t 0.28403031826019287\t т \n",
      "2\t 0.19231997430324554\t о \n",
      "3\t 0.595186173915863\t о \n",
      "4\t 0.6338268518447876\t м \n",
      "5\t 0.9856933355331421\t а \n",
      "6\t 0.7763628959655762\t л \n",
      "7\t 0.9807737469673157\t ь \n",
      "8\t 0.9235853552818298\t н \n",
      "9\t 0.9726911187171936\t ы \n",
      "10\t 0.9999760389328003\t й \n",
      "11\t 0.9928141236305237\t <END> \n",
      "12\t 0.9999954700469971\t <END> \n",
      "13\t 0.9999994039535522\t <END> \n",
      "14\t 0.9999997615814209\t <END> \n",
      "15\t 0.9999998807907104\t <END> \n",
      "16\t 0.9999998807907104\t <END> \n",
      "17\t 1.0\t <END> \n",
      "18\t 1.0\t <END> \n",
      "19\t 1.0\t <END> \n",
      "20\t 1.0\t <END> \n",
      "21\t 1.0\t <END> \n",
      "22\t 1.0\t <END> \n",
      "23\t 1.0\t <END> \n",
      "24\t 1.0\t <END> \n",
      "25\t 1.0\t <END> \n",
      "26\t 1.0\t <END> \n",
      "27\t 1.0\t <END> \n",
      "28\t 1.0\t <END> \n",
      "29\t 1.0\t <END> \n",
      "30\t 1.0\t <END> \n",
      "31\t 1.0\t <END> \n",
      "32\t 1.0\t <END> \n",
      "33\t 1.0\t <END> \n",
      "34\t 1.0\t <END> \n",
      "35\t 1.0\t <END> \n",
      "36\t 1.0\t <END> \n",
      "37\t 1.0\t <END> \n"
     ]
    }
   ],
   "source": [
    "kek = []# вероятности всех символов для слова оптимальный\n",
    "for i in range(len(outp)):\n",
    "    kek.append(func.softmax(outp[i][2] ,dim = 0))\n",
    "for i in range(len(kek)):# выведем максимальные для каждой позиции в восстановленной последовательности\n",
    "    m, index = torch.max(kek[i], 0)\n",
    "    print('{}\\t {}\\t {} '.format(i , m.item() , tes._codes_symbol[index.item()]))"
   ]
  },
  {
   "cell_type": "code",
   "execution_count": 57,
   "metadata": {
    "colab": {
     "base_uri": "https://localhost:8080/",
     "height": 645
    },
    "colab_type": "code",
    "id": "zdQiJgLKRDmH",
    "outputId": "e9e04f3f-2dc8-4df7-c069-0f514fd24939"
   },
   "outputs": [
    {
     "name": "stdout",
     "output_type": "stream",
     "text": [
      "0\t 3.256546187913045e-05\t   \n",
      "1\t 7.068877039273502e-06\t - \n",
      "2\t 0.00016565762052778155\t <END> \n",
      "3\t 9.741504072735552e-06\t <START> \n",
      "4\t 0.041089121252298355\t а \n",
      "5\t 0.03406422212719917\t б \n",
      "6\t 0.07048953324556351\t в \n",
      "7\t 0.02953595668077469\t г \n",
      "8\t 0.03046807460486889\t д \n",
      "9\t 0.0025457278825342655\t е \n",
      "10\t 0.007939429953694344\t ж \n",
      "11\t 0.049185577780008316\t з \n",
      "12\t 0.031372033059597015\t и \n",
      "13\t 0.0004263230657670647\t й \n",
      "14\t 0.062392279505729675\t к \n",
      "15\t 0.01598728448152542\t л \n",
      "16\t 0.04148672893643379\t м \n",
      "17\t 0.054625093936920166\t н \n",
      "18\t 0.06692806631326675\t о \n",
      "19\t 0.1772516965866089\t п \n",
      "20\t 0.04649420455098152\t р \n",
      "21\t 0.09827367961406708\t с \n",
      "22\t 0.04264147952198982\t т \n",
      "23\t 0.033024583011865616\t у \n",
      "24\t 0.008134462870657444\t ф \n",
      "25\t 0.011009804904460907\t х \n",
      "26\t 0.006646375637501478\t ц \n",
      "27\t 0.010203097015619278\t ч \n",
      "28\t 0.0092851547524333\t ш \n",
      "29\t 0.0018333970801904798\t щ \n",
      "30\t 2.5059218387468718e-05\t ъ \n",
      "31\t 7.798523438395932e-05\t ы \n",
      "32\t 6.757202936569229e-05\t ь \n",
      "33\t 0.010913899168372154\t э \n",
      "34\t 0.002102283760905266\t ю \n",
      "35\t 0.002363304840400815\t я \n",
      "36\t 0.0009014980751089752\t ё \n"
     ]
    }
   ],
   "source": [
    "for i in range(len(tes)):# вероятности для первого символа в последовательности\n",
    "  print('{}\\t {}\\t {} '.format(i , kek[0][i].item() , tes._codes_symbol[i]))"
   ]
  },
  {
   "cell_type": "markdown",
   "metadata": {
    "colab_type": "text",
    "id": "HnVrsKkCSewa"
   },
   "source": [
    "Вероятность слова, который выдал модель/вероятность правильного слова"
   ]
  },
  {
   "cell_type": "code",
   "execution_count": 63,
   "metadata": {
    "colab": {
     "base_uri": "https://localhost:8080/",
     "height": 34
    },
    "colab_type": "code",
    "id": "j20ObcICSaA_",
    "outputId": "a084e248-13e2-4d3c-c8f9-6e92177da256"
   },
   "outputs": [
    {
     "name": "stdout",
     "output_type": "stream",
     "text": [
      "0.002445037256052218\n"
     ]
    }
   ],
   "source": [
    "prob = 1.0\n",
    "for i in range(len(kek)):# для восстановленного слова ()\n",
    "    m, _ = torch.max(kek[i], 0)\n",
    "    prob *= m.item()\n",
    "print(prob)"
   ]
  },
  {
   "cell_type": "code",
   "execution_count": 77,
   "metadata": {
    "colab": {
     "base_uri": "https://localhost:8080/",
     "height": 34
    },
    "colab_type": "code",
    "id": "r01zgYrcS9f6",
    "outputId": "ccedb1f4-6b8e-421c-bf9b-dfa4791d98b6"
   },
   "outputs": [
    {
     "name": "stdout",
     "output_type": "stream",
     "text": [
      "8.5343036845039e-55\n"
     ]
    }
   ],
   "source": [
    "prob = 1.0\n",
    "for i in range(len(inpu[2])):# для настоящего слова ()\n",
    "    s = inpu[2][i].item()\n",
    "    pred = func.softmax(outp[i][2] ,dim = 0)\n",
    "    prob *= pred[s].item()\n",
    "print(prob)"
   ]
  },
  {
   "cell_type": "code",
   "execution_count": 0,
   "metadata": {
    "colab": {},
    "colab_type": "code",
    "id": "JQ3lcBisUVP-"
   },
   "outputs": [],
   "source": []
  }
 ],
 "metadata": {
  "accelerator": "GPU",
  "colab": {
   "collapsed_sections": [],
   "name": "task1_char_language_model.ipynb",
   "provenance": [],
   "toc_visible": true,
   "version": "0.3.2"
  },
  "kernelspec": {
   "display_name": "Python 3",
   "language": "python",
   "name": "python3"
  },
  "language_info": {
   "codemirror_mode": {
    "name": "ipython",
    "version": 3
   },
   "file_extension": ".py",
   "mimetype": "text/x-python",
   "name": "python",
   "nbconvert_exporter": "python",
   "pygments_lexer": "ipython3",
   "version": "3.6.4"
  }
 },
 "nbformat": 4,
 "nbformat_minor": 1
}
