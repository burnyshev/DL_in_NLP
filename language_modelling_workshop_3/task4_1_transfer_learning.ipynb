{
 "cells": [
  {
   "cell_type": "markdown",
   "metadata": {
    "colab_type": "text",
    "id": "pitLHPAipQQm"
   },
   "source": [
    "## Transfer learning\n",
    "\n",
    "2018 showed us that language modelling is a good task to train powerfull text representations. There are two different approaches how to use this representations: **feature extraction** and **fine-tuning**.\n",
    "\n",
    "  * One great example of feature extraction is ELMo ([allennlp tutorial](https://github.com/allenai/allennlp/blob/master/tutorials/how_to/elmo.md), [tf_hub example](https://tfhub.dev/google/elmo/2), [deeppavlov documentation](http://docs.deeppavlov.ai/en/master/apiref/models/embedders.html?highlight=elmo#deeppavlov.models.embedders.elmo_embedder.ELMoEmbedder))\n",
    "  * One great example of fine-tuning is ULMfit - ([fastai lesson](https://course.fast.ai/videos/?lesson=4), [example notebook](https://nbviewer.jupyter.org/github/fastai/course-v3/blob/master/nbs/dl1/lesson3-imdb.ipynb))\n",
    "\n",
    "What should you do?\n",
    "\n",
    "  * Apply ELMo to make named entity recognition system. You can use [CONLL 2003 dataset (en)](http://files.deeppavlov.ai/deeppavlov_data/conll2003_v2.tar.gz) or [Persons1000 dataset (ru)](http://labinform.ru/pub/named_entities/descr_ne.htm) or any other dataset.\n",
    "  * Apply ULMfit to make text classificator (any dataset, except IMDB)\n",
    "  * Apply ELMo to make text classificator (on the same dataset)\n",
    "  * Play with various models and hyperparameters\n",
    "  * Compare results\n",
    "\n",
    "\n",
    "**Results of this task:**\n",
    "  * NER model\n",
    "  * Two classification models\n",
    "  * for each model:\n",
    "    * metrics on the test set (quantitative evaluation)\n",
    "    * succesfull and _unsucsessfull_ examples (qualitative evaluation)\n",
    "    * plots showing that the model is training\n",
    "\n",
    "\n",
    "**Additional points:**\n",
    "  * Early stopping"
   ]
  },
  {
   "cell_type": "code",
   "execution_count": 2,
   "metadata": {
    "colab": {
     "base_uri": "https://localhost:8080/",
     "height": 2936
    },
    "colab_type": "code",
    "id": "gaiio4Bgf7mb",
    "outputId": "7e8b67b6-8baf-41ee-f6db-c80b2af3a0de"
   },
   "outputs": [
    {
     "name": "stdout",
     "output_type": "stream",
     "text": [
      "Collecting allennlp\n",
      "\u001b[?25l  Downloading https://files.pythonhosted.org/packages/a4/c8/10342a6068a8d156a5947e03c95525d559e71ad62de0f2585ab922e14533/allennlp-0.8.3-py3-none-any.whl (5.6MB)\n",
      "\u001b[K    100% |████████████████████████████████| 5.6MB 6.3MB/s \n",
      "\u001b[?25hCollecting pytorch-pretrained-bert>=0.6.0 (from allennlp)\n",
      "\u001b[?25l  Downloading https://files.pythonhosted.org/packages/5d/3c/d5fa084dd3a82ffc645aba78c417e6072ff48552e3301b1fa3bd711e03d4/pytorch_pretrained_bert-0.6.1-py3-none-any.whl (114kB)\n",
      "\u001b[K    100% |████████████████████████████████| 122kB 39.3MB/s \n",
      "\u001b[?25hCollecting parsimonious>=0.8.0 (from allennlp)\n",
      "\u001b[?25l  Downloading https://files.pythonhosted.org/packages/02/fc/067a3f89869a41009e1a7cdfb14725f8ddd246f30f63c645e8ef8a1c56f4/parsimonious-0.8.1.tar.gz (45kB)\n",
      "\u001b[K    100% |████████████████████████████████| 51kB 24.7MB/s \n",
      "\u001b[?25hCollecting unidecode (from allennlp)\n",
      "\u001b[?25l  Downloading https://files.pythonhosted.org/packages/31/39/53096f9217b057cb049fe872b7fc7ce799a1a89b76cf917d9639e7a558b5/Unidecode-1.0.23-py2.py3-none-any.whl (237kB)\n",
      "\u001b[K    100% |████████████████████████████████| 245kB 29.8MB/s \n",
      "\u001b[?25hRequirement already satisfied: spacy<2.2,>=2.0 in /usr/local/lib/python3.6/dist-packages (from allennlp) (2.0.18)\n",
      "Collecting tensorboardX>=1.2 (from allennlp)\n",
      "\u001b[?25l  Downloading https://files.pythonhosted.org/packages/5c/76/89dd44458eb976347e5a6e75eb79fecf8facd46c1ce259bad54e0044ea35/tensorboardX-1.6-py2.py3-none-any.whl (129kB)\n",
      "\u001b[K    100% |████████████████████████████████| 133kB 34.0MB/s \n",
      "\u001b[?25hCollecting flask-cors>=3.0.7 (from allennlp)\n",
      "  Downloading https://files.pythonhosted.org/packages/65/cb/683f71ff8daa3aea0a5cbb276074de39f9ab66d3fbb8ad5efb5bb83e90d2/Flask_Cors-3.0.7-py2.py3-none-any.whl\n",
      "Requirement already satisfied: nltk in /usr/local/lib/python3.6/dist-packages (from allennlp) (3.2.5)\n",
      "Requirement already satisfied: torch>=0.4.1 in /usr/local/lib/python3.6/dist-packages (from allennlp) (1.0.1.post2)\n",
      "Requirement already satisfied: sqlparse>=0.2.4 in /usr/local/lib/python3.6/dist-packages (from allennlp) (0.3.0)\n",
      "Collecting flaky (from allennlp)\n",
      "  Downloading https://files.pythonhosted.org/packages/02/42/cca66659a786567c8af98587d66d75e7d2b6e65662f8daab75db708ac35b/flaky-3.5.3-py2.py3-none-any.whl\n",
      "Collecting jsonnet>=0.10.0; sys_platform != \"win32\" (from allennlp)\n",
      "\u001b[?25l  Downloading https://files.pythonhosted.org/packages/60/dc/3abd3971869a741d7acdba166d71d4f9366b6b53028dfd56f95de356af0f/jsonnet-0.12.1.tar.gz (240kB)\n",
      "\u001b[K    100% |████████████████████████████████| 245kB 33.8MB/s \n",
      "\u001b[?25hRequirement already satisfied: h5py in /usr/local/lib/python3.6/dist-packages (from allennlp) (2.8.0)\n",
      "Collecting word2number>=1.1 (from allennlp)\n",
      "  Downloading https://files.pythonhosted.org/packages/4a/29/a31940c848521f0725f0df6b25dca8917f13a2025b0e8fcbe5d0457e45e6/word2number-1.1.zip\n",
      "Requirement already satisfied: editdistance in /usr/local/lib/python3.6/dist-packages (from allennlp) (0.5.3)\n",
      "Requirement already satisfied: flask>=1.0.2 in /usr/local/lib/python3.6/dist-packages (from allennlp) (1.0.2)\n",
      "Collecting conllu==0.11 (from allennlp)\n",
      "  Downloading https://files.pythonhosted.org/packages/d4/2c/856344d9b69baf5b374c395b4286626181a80f0c2b2f704914d18a1cea47/conllu-0.11-py2.py3-none-any.whl\n",
      "Requirement already satisfied: msgpack<0.6.0,>=0.5.6 in /usr/local/lib/python3.6/dist-packages (from allennlp) (0.5.6)\n",
      "Requirement already satisfied: scikit-learn in /usr/local/lib/python3.6/dist-packages (from allennlp) (0.20.3)\n",
      "Requirement already satisfied: tqdm>=4.19 in /usr/local/lib/python3.6/dist-packages (from allennlp) (4.28.1)\n",
      "Collecting moto>=1.3.4 (from allennlp)\n",
      "\u001b[?25l  Downloading https://files.pythonhosted.org/packages/57/40/cec89fa5c13108eb1c8de435633f8b7639e0e43fcbcdc8ac52633efeeabe/moto-1.3.7-py2.py3-none-any.whl (552kB)\n",
      "\u001b[K    100% |████████████████████████████████| 552kB 27.5MB/s \n",
      "\u001b[?25hRequirement already satisfied: gevent>=1.3.6 in /usr/local/lib/python3.6/dist-packages (from allennlp) (1.4.0)\n",
      "Collecting awscli>=1.11.91 (from allennlp)\n",
      "\u001b[?25l  Downloading https://files.pythonhosted.org/packages/3d/41/f03fa1b10c7619262da75d34ce93067c9f0dc274dbd482200250319d9bef/awscli-1.16.140-py2.py3-none-any.whl (1.5MB)\n",
      "\u001b[K    100% |████████████████████████████████| 1.5MB 16.2MB/s \n",
      "\u001b[?25hCollecting responses>=0.7 (from allennlp)\n",
      "  Downloading https://files.pythonhosted.org/packages/d1/5a/b887e89925f1de7890ef298a74438371ed4ed29b33def9e6d02dc6036fd8/responses-0.10.6-py2.py3-none-any.whl\n",
      "Requirement already satisfied: boto3 in /usr/local/lib/python3.6/dist-packages (from allennlp) (1.9.130)\n",
      "Requirement already satisfied: numpy in /usr/local/lib/python3.6/dist-packages (from allennlp) (1.16.2)\n",
      "Requirement already satisfied: matplotlib>=2.2.3 in /usr/local/lib/python3.6/dist-packages (from allennlp) (3.0.3)\n",
      "Collecting ftfy (from allennlp)\n",
      "\u001b[?25l  Downloading https://files.pythonhosted.org/packages/8f/86/df789c5834f15ae1ca53a8d4c1fc4788676c2e32112f6a786f2625d9c6e6/ftfy-5.5.1-py3-none-any.whl (43kB)\n",
      "\u001b[K    100% |████████████████████████████████| 51kB 23.5MB/s \n",
      "\u001b[?25hRequirement already satisfied: pytz>=2017.3 in /usr/local/lib/python3.6/dist-packages (from allennlp) (2018.9)\n",
      "Requirement already satisfied: scipy in /usr/local/lib/python3.6/dist-packages (from allennlp) (1.2.1)\n",
      "Collecting overrides (from allennlp)\n",
      "  Downloading https://files.pythonhosted.org/packages/de/55/3100c6d14c1ed177492fcf8f07c4a7d2d6c996c0a7fc6a9a0a41308e7eec/overrides-1.9.tar.gz\n",
      "Requirement already satisfied: pytest in /usr/local/lib/python3.6/dist-packages (from allennlp) (3.6.4)\n",
      "Requirement already satisfied: requests>=2.18 in /usr/local/lib/python3.6/dist-packages (from allennlp) (2.18.4)\n",
      "Collecting numpydoc>=0.8.0 (from allennlp)\n",
      "  Downloading https://files.pythonhosted.org/packages/95/a8/b4706a6270f0475541c5c1ee3373c7a3b793936ec1f517f1a1dab4f896c0/numpydoc-0.8.0.tar.gz\n",
      "Requirement already satisfied: regex in /usr/local/lib/python3.6/dist-packages (from pytorch-pretrained-bert>=0.6.0->allennlp) (2018.1.10)\n",
      "Requirement already satisfied: six>=1.9.0 in /usr/local/lib/python3.6/dist-packages (from parsimonious>=0.8.0->allennlp) (1.11.0)\n",
      "Requirement already satisfied: murmurhash<1.1.0,>=0.28.0 in /usr/local/lib/python3.6/dist-packages (from spacy<2.2,>=2.0->allennlp) (1.0.2)\n",
      "Requirement already satisfied: plac<1.0.0,>=0.9.6 in /usr/local/lib/python3.6/dist-packages (from spacy<2.2,>=2.0->allennlp) (0.9.6)\n",
      "Requirement already satisfied: dill<0.3,>=0.2 in /usr/local/lib/python3.6/dist-packages (from spacy<2.2,>=2.0->allennlp) (0.2.9)\n",
      "Requirement already satisfied: preshed<2.1.0,>=2.0.1 in /usr/local/lib/python3.6/dist-packages (from spacy<2.2,>=2.0->allennlp) (2.0.1)\n",
      "Requirement already satisfied: cymem<2.1.0,>=2.0.2 in /usr/local/lib/python3.6/dist-packages (from spacy<2.2,>=2.0->allennlp) (2.0.2)\n",
      "Requirement already satisfied: thinc<6.13.0,>=6.12.1 in /usr/local/lib/python3.6/dist-packages (from spacy<2.2,>=2.0->allennlp) (6.12.1)\n",
      "Requirement already satisfied: ujson>=1.35 in /usr/local/lib/python3.6/dist-packages (from spacy<2.2,>=2.0->allennlp) (1.35)\n",
      "Requirement already satisfied: protobuf>=3.2.0 in /usr/local/lib/python3.6/dist-packages (from tensorboardX>=1.2->allennlp) (3.7.1)\n",
      "Requirement already satisfied: itsdangerous>=0.24 in /usr/local/lib/python3.6/dist-packages (from flask>=1.0.2->allennlp) (1.1.0)\n",
      "Requirement already satisfied: Werkzeug>=0.14 in /usr/local/lib/python3.6/dist-packages (from flask>=1.0.2->allennlp) (0.15.2)\n",
      "Requirement already satisfied: click>=5.1 in /usr/local/lib/python3.6/dist-packages (from flask>=1.0.2->allennlp) (7.0)\n",
      "Requirement already satisfied: Jinja2>=2.10 in /usr/local/lib/python3.6/dist-packages (from flask>=1.0.2->allennlp) (2.10.1)\n",
      "Requirement already satisfied: boto>=2.36.0 in /usr/local/lib/python3.6/dist-packages (from moto>=1.3.4->allennlp) (2.49.0)\n",
      "Collecting python-jose<3.0.0 (from moto>=1.3.4->allennlp)\n",
      "  Downloading https://files.pythonhosted.org/packages/bf/5c/5fa238c0c5b0656994b52721dd8b1d7bf52ebd8786518dde794f44de86b6/python_jose-2.0.2-py2.py3-none-any.whl\n",
      "Requirement already satisfied: python-dateutil<3.0.0,>=2.1 in /usr/local/lib/python3.6/dist-packages (from moto>=1.3.4->allennlp) (2.5.3)\n",
      "Collecting pyaml (from moto>=1.3.4->allennlp)\n",
      "  Downloading https://files.pythonhosted.org/packages/c5/e1/1523fb1dab744e2c6b1f02446f2139a78726c18c062a8ddd53875abb20f8/pyaml-18.11.0-py2.py3-none-any.whl\n",
      "Collecting xmltodict (from moto>=1.3.4->allennlp)\n",
      "  Downloading https://files.pythonhosted.org/packages/28/fd/30d5c1d3ac29ce229f6bdc40bbc20b28f716e8b363140c26eff19122d8a5/xmltodict-0.12.0-py2.py3-none-any.whl\n",
      "Collecting aws-xray-sdk<0.96,>=0.93 (from moto>=1.3.4->allennlp)\n",
      "\u001b[?25l  Downloading https://files.pythonhosted.org/packages/a4/a5/da7887285564f9e0ae5cd25a453cca36e2cd43d8ccc9effde260b4d80904/aws_xray_sdk-0.95-py2.py3-none-any.whl (52kB)\n",
      "\u001b[K    100% |████████████████████████████████| 61kB 21.4MB/s \n",
      "\u001b[?25hCollecting jsondiff==1.1.1 (from moto>=1.3.4->allennlp)\n",
      "  Downloading https://files.pythonhosted.org/packages/bd/5f/13e28a2f9abeda2ffb3f44f2f809b01b52bc02cdb63816e05b8c9cbbdfc5/jsondiff-1.1.1.tar.gz\n",
      "Collecting cryptography>=2.3.0 (from moto>=1.3.4->allennlp)\n",
      "\u001b[?25l  Downloading https://files.pythonhosted.org/packages/5b/12/b0409a94dad366d98a8eee2a77678c7a73aafd8c0e4b835abea634ea3896/cryptography-2.6.1-cp34-abi3-manylinux1_x86_64.whl (2.3MB)\n",
      "\u001b[K    100% |████████████████████████████████| 2.3MB 15.3MB/s \n",
      "\u001b[?25hCollecting docker>=2.5.1 (from moto>=1.3.4->allennlp)\n",
      "\u001b[?25l  Downloading https://files.pythonhosted.org/packages/48/68/c3afca1a5aa8d2997ec3b8ee822a4d752cf85907b321f07ea86888545152/docker-3.7.2-py2.py3-none-any.whl (134kB)\n",
      "\u001b[K    100% |████████████████████████████████| 143kB 28.1MB/s \n",
      "\u001b[?25hRequirement already satisfied: botocore>=1.12.13 in /usr/local/lib/python3.6/dist-packages (from moto>=1.3.4->allennlp) (1.12.130)\n",
      "Requirement already satisfied: mock in /usr/local/lib/python3.6/dist-packages (from moto>=1.3.4->allennlp) (2.0.0)\n",
      "Requirement already satisfied: greenlet>=0.4.14; platform_python_implementation == \"CPython\" in /usr/local/lib/python3.6/dist-packages (from gevent>=1.3.6->allennlp) (0.4.15)\n",
      "Requirement already satisfied: s3transfer<0.3.0,>=0.2.0 in /usr/local/lib/python3.6/dist-packages (from awscli>=1.11.91->allennlp) (0.2.0)\n",
      "Collecting rsa<=3.5.0,>=3.1.2 (from awscli>=1.11.91->allennlp)\n",
      "\u001b[?25l  Downloading https://files.pythonhosted.org/packages/e1/ae/baedc9cb175552e95f3395c43055a6a5e125ae4d48a1d7a924baca83e92e/rsa-3.4.2-py2.py3-none-any.whl (46kB)\n",
      "\u001b[K    100% |████████████████████████████████| 51kB 27.1MB/s \n",
      "\u001b[?25hCollecting colorama<=0.3.9,>=0.2.5 (from awscli>=1.11.91->allennlp)\n",
      "  Downloading https://files.pythonhosted.org/packages/db/c8/7dcf9dbcb22429512708fe3a547f8b6101c0d02137acbd892505aee57adf/colorama-0.3.9-py2.py3-none-any.whl\n",
      "Requirement already satisfied: docutils>=0.10 in /usr/local/lib/python3.6/dist-packages (from awscli>=1.11.91->allennlp) (0.14)\n",
      "Requirement already satisfied: PyYAML<=3.13,>=3.10 in /usr/local/lib/python3.6/dist-packages (from awscli>=1.11.91->allennlp) (3.13)\n",
      "Requirement already satisfied: jmespath<1.0.0,>=0.7.1 in /usr/local/lib/python3.6/dist-packages (from boto3->allennlp) (0.9.4)\n",
      "Requirement already satisfied: kiwisolver>=1.0.1 in /usr/local/lib/python3.6/dist-packages (from matplotlib>=2.2.3->allennlp) (1.0.1)\n",
      "Requirement already satisfied: cycler>=0.10 in /usr/local/lib/python3.6/dist-packages (from matplotlib>=2.2.3->allennlp) (0.10.0)\n",
      "Requirement already satisfied: pyparsing!=2.0.4,!=2.1.2,!=2.1.6,>=2.0.1 in /usr/local/lib/python3.6/dist-packages (from matplotlib>=2.2.3->allennlp) (2.4.0)\n",
      "Requirement already satisfied: wcwidth in /usr/local/lib/python3.6/dist-packages (from ftfy->allennlp) (0.1.7)\n",
      "Requirement already satisfied: more-itertools>=4.0.0 in /usr/local/lib/python3.6/dist-packages (from pytest->allennlp) (7.0.0)\n",
      "Requirement already satisfied: atomicwrites>=1.0 in /usr/local/lib/python3.6/dist-packages (from pytest->allennlp) (1.3.0)\n",
      "Requirement already satisfied: pluggy<0.8,>=0.5 in /usr/local/lib/python3.6/dist-packages (from pytest->allennlp) (0.7.1)\n",
      "Requirement already satisfied: setuptools in /usr/local/lib/python3.6/dist-packages (from pytest->allennlp) (40.9.0)\n",
      "Requirement already satisfied: py>=1.5.0 in /usr/local/lib/python3.6/dist-packages (from pytest->allennlp) (1.8.0)\n",
      "Requirement already satisfied: attrs>=17.4.0 in /usr/local/lib/python3.6/dist-packages (from pytest->allennlp) (19.1.0)\n",
      "Requirement already satisfied: chardet<3.1.0,>=3.0.2 in /usr/local/lib/python3.6/dist-packages (from requests>=2.18->allennlp) (3.0.4)\n",
      "Requirement already satisfied: idna<2.7,>=2.5 in /usr/local/lib/python3.6/dist-packages (from requests>=2.18->allennlp) (2.6)\n",
      "Requirement already satisfied: urllib3<1.23,>=1.21.1 in /usr/local/lib/python3.6/dist-packages (from requests>=2.18->allennlp) (1.22)\n",
      "Requirement already satisfied: certifi>=2017.4.17 in /usr/local/lib/python3.6/dist-packages (from requests>=2.18->allennlp) (2019.3.9)\n",
      "Requirement already satisfied: sphinx>=1.2.3 in /usr/local/lib/python3.6/dist-packages (from numpydoc>=0.8.0->allennlp) (1.8.5)\n",
      "Requirement already satisfied: msgpack-numpy<0.4.4 in /usr/local/lib/python3.6/dist-packages (from thinc<6.13.0,>=6.12.1->spacy<2.2,>=2.0->allennlp) (0.4.3.2)\n",
      "Requirement already satisfied: wrapt<1.11.0,>=1.10.0 in /usr/local/lib/python3.6/dist-packages (from thinc<6.13.0,>=6.12.1->spacy<2.2,>=2.0->allennlp) (1.10.11)\n",
      "Requirement already satisfied: cytoolz<0.10,>=0.9.0 in /usr/local/lib/python3.6/dist-packages (from thinc<6.13.0,>=6.12.1->spacy<2.2,>=2.0->allennlp) (0.9.0.1)\n",
      "Requirement already satisfied: MarkupSafe>=0.23 in /usr/local/lib/python3.6/dist-packages (from Jinja2>=2.10->flask>=1.0.2->allennlp) (1.1.1)\n",
      "Collecting pycryptodome<4.0.0,>=3.3.1 (from python-jose<3.0.0->moto>=1.3.4->allennlp)\n",
      "\u001b[?25l  Downloading https://files.pythonhosted.org/packages/06/fc/b09816d7b2d79d6454f75b40def94a89ed785d8d8d07840563f1084c6ecd/pycryptodome-3.8.1-cp36-cp36m-manylinux1_x86_64.whl (9.7MB)\n",
      "\u001b[K    100% |████████████████████████████████| 9.7MB 5.8MB/s \n",
      "\u001b[?25hRequirement already satisfied: future<1.0 in /usr/local/lib/python3.6/dist-packages (from python-jose<3.0.0->moto>=1.3.4->allennlp) (0.16.0)\n",
      "Collecting ecdsa<1.0 (from python-jose<3.0.0->moto>=1.3.4->allennlp)\n",
      "\u001b[?25l  Downloading https://files.pythonhosted.org/packages/63/f4/73669d51825516ce8c43b816c0a6b64cd6eb71d08b99820c00792cb42222/ecdsa-0.13-py2.py3-none-any.whl (86kB)\n",
      "\u001b[K    100% |████████████████████████████████| 92kB 35.5MB/s \n",
      "\u001b[?25hCollecting jsonpickle (from aws-xray-sdk<0.96,>=0.93->moto>=1.3.4->allennlp)\n",
      "  Downloading https://files.pythonhosted.org/packages/dc/12/8c44eabb501e2bc0aec0dd152b328074d98a50968d3a02be28f6037f0c6a/jsonpickle-1.1-py2.py3-none-any.whl\n",
      "Collecting asn1crypto>=0.21.0 (from cryptography>=2.3.0->moto>=1.3.4->allennlp)\n",
      "\u001b[?25l  Downloading https://files.pythonhosted.org/packages/ea/cd/35485615f45f30a510576f1a56d1e0a7ad7bd8ab5ed7cdc600ef7cd06222/asn1crypto-0.24.0-py2.py3-none-any.whl (101kB)\n",
      "\u001b[K    100% |████████████████████████████████| 102kB 38.9MB/s \n",
      "\u001b[?25hRequirement already satisfied: cffi!=1.11.3,>=1.8 in /usr/local/lib/python3.6/dist-packages (from cryptography>=2.3.0->moto>=1.3.4->allennlp) (1.12.2)\n",
      "Collecting websocket-client>=0.32.0 (from docker>=2.5.1->moto>=1.3.4->allennlp)\n",
      "\u001b[?25l  Downloading https://files.pythonhosted.org/packages/29/19/44753eab1fdb50770ac69605527e8859468f3c0fd7dc5a76dd9c4dbd7906/websocket_client-0.56.0-py2.py3-none-any.whl (200kB)\n",
      "\u001b[K    100% |████████████████████████████████| 204kB 40.1MB/s \n",
      "\u001b[?25hCollecting docker-pycreds>=0.4.0 (from docker>=2.5.1->moto>=1.3.4->allennlp)\n",
      "  Downloading https://files.pythonhosted.org/packages/f5/e8/f6bd1eee09314e7e6dee49cbe2c5e22314ccdb38db16c9fc72d2fa80d054/docker_pycreds-0.4.0-py2.py3-none-any.whl\n",
      "Requirement already satisfied: pbr>=0.11 in /usr/local/lib/python3.6/dist-packages (from mock->moto>=1.3.4->allennlp) (5.1.3)\n",
      "Requirement already satisfied: pyasn1>=0.1.3 in /usr/local/lib/python3.6/dist-packages (from rsa<=3.5.0,>=3.1.2->awscli>=1.11.91->allennlp) (0.4.5)\n",
      "Requirement already satisfied: alabaster<0.8,>=0.7 in /usr/local/lib/python3.6/dist-packages (from sphinx>=1.2.3->numpydoc>=0.8.0->allennlp) (0.7.12)\n",
      "Requirement already satisfied: packaging in /usr/local/lib/python3.6/dist-packages (from sphinx>=1.2.3->numpydoc>=0.8.0->allennlp) (19.0)\n",
      "Requirement already satisfied: Pygments>=2.0 in /usr/local/lib/python3.6/dist-packages (from sphinx>=1.2.3->numpydoc>=0.8.0->allennlp) (2.1.3)\n",
      "Requirement already satisfied: imagesize in /usr/local/lib/python3.6/dist-packages (from sphinx>=1.2.3->numpydoc>=0.8.0->allennlp) (1.1.0)\n",
      "Requirement already satisfied: sphinxcontrib-websupport in /usr/local/lib/python3.6/dist-packages (from sphinx>=1.2.3->numpydoc>=0.8.0->allennlp) (1.1.0)\n",
      "Requirement already satisfied: snowballstemmer>=1.1 in /usr/local/lib/python3.6/dist-packages (from sphinx>=1.2.3->numpydoc>=0.8.0->allennlp) (1.2.1)\n",
      "Requirement already satisfied: babel!=2.0,>=1.3 in /usr/local/lib/python3.6/dist-packages (from sphinx>=1.2.3->numpydoc>=0.8.0->allennlp) (2.6.0)\n",
      "Requirement already satisfied: toolz>=0.8.0 in /usr/local/lib/python3.6/dist-packages (from cytoolz<0.10,>=0.9.0->thinc<6.13.0,>=6.12.1->spacy<2.2,>=2.0->allennlp) (0.9.0)\n",
      "Requirement already satisfied: pycparser in /usr/local/lib/python3.6/dist-packages (from cffi!=1.11.3,>=1.8->cryptography>=2.3.0->moto>=1.3.4->allennlp) (2.19)\n",
      "Building wheels for collected packages: parsimonious, jsonnet, word2number, overrides, numpydoc, jsondiff\n",
      "  Building wheel for parsimonious (setup.py) ... \u001b[?25ldone\n",
      "\u001b[?25h  Stored in directory: /root/.cache/pip/wheels/b7/8d/e7/a0e74217da5caeb3c1c7689639b6d28ddbf9985b840bc96a9a\n",
      "  Building wheel for jsonnet (setup.py) ... \u001b[?25ldone\n",
      "\u001b[?25h  Stored in directory: /root/.cache/pip/wheels/f0/47/51/a178b15274ed0db775a1ae9c799ce31e511609c3ab75a7dec5\n",
      "  Building wheel for word2number (setup.py) ... \u001b[?25ldone\n",
      "\u001b[?25h  Stored in directory: /root/.cache/pip/wheels/46/2f/53/5f5c1d275492f2fce1cdab9a9bb12d49286dead829a4078e0e\n",
      "  Building wheel for overrides (setup.py) ... \u001b[?25ldone\n",
      "\u001b[?25h  Stored in directory: /root/.cache/pip/wheels/8d/52/86/e5a83b1797e7d263b458d2334edd2704c78508b3eea9323718\n",
      "  Building wheel for numpydoc (setup.py) ... \u001b[?25ldone\n",
      "\u001b[?25h  Stored in directory: /root/.cache/pip/wheels/ea/55/7f/3e25d754760ccd62d6796e5b2cfe25629346f52ea00753d549\n",
      "  Building wheel for jsondiff (setup.py) ... \u001b[?25ldone\n",
      "\u001b[?25h  Stored in directory: /root/.cache/pip/wheels/68/08/07/69d839606fb7fdc778fa86476abc0a864693d45969a0c1936c\n",
      "Successfully built parsimonious jsonnet word2number overrides numpydoc jsondiff\n",
      "Installing collected packages: pytorch-pretrained-bert, parsimonious, unidecode, tensorboardX, flask-cors, flaky, jsonnet, word2number, conllu, pycryptodome, ecdsa, python-jose, pyaml, xmltodict, responses, jsonpickle, aws-xray-sdk, jsondiff, asn1crypto, cryptography, websocket-client, docker-pycreds, docker, moto, rsa, colorama, awscli, ftfy, overrides, numpydoc, allennlp\n",
      "  Found existing installation: rsa 4.0\n",
      "    Uninstalling rsa-4.0:\n",
      "      Successfully uninstalled rsa-4.0\n",
      "Successfully installed allennlp-0.8.3 asn1crypto-0.24.0 aws-xray-sdk-0.95 awscli-1.16.140 colorama-0.3.9 conllu-0.11 cryptography-2.6.1 docker-3.7.2 docker-pycreds-0.4.0 ecdsa-0.13 flaky-3.5.3 flask-cors-3.0.7 ftfy-5.5.1 jsondiff-1.1.1 jsonnet-0.12.1 jsonpickle-1.1 moto-1.3.7 numpydoc-0.8.0 overrides-1.9 parsimonious-0.8.1 pyaml-18.11.0 pycryptodome-3.8.1 python-jose-2.0.2 pytorch-pretrained-bert-0.6.1 responses-0.10.6 rsa-3.4.2 tensorboardX-1.6 unidecode-1.0.23 websocket-client-0.56.0 word2number-1.1 xmltodict-0.12.0\n"
     ]
    },
    {
     "data": {
      "application/vnd.colab-display-data+json": {
       "pip_warning": {
        "packages": [
         "rsa"
        ]
       }
      }
     },
     "metadata": {
      "tags": []
     },
     "output_type": "display_data"
    }
   ],
   "source": [
    "!pip install allennlp # for getting elmo embeddings"
   ]
  },
  {
   "cell_type": "code",
   "execution_count": 0,
   "metadata": {
    "colab": {},
    "colab_type": "code",
    "id": "uT6P4rM1pQQo"
   },
   "outputs": [],
   "source": [
    "import numpy as np\n",
    "import pandas as pd\n",
    "import torch\n",
    "import torch.nn as nn\n",
    "import torch.nn.functional as func\n",
    "import torch.optim as optim\n",
    "import torch.autograd as autograd\n",
    "import torch.utils.data as utils\n",
    "import random\n",
    "import matplotlib.pyplot as plt\n",
    "import time\n",
    "import csv\n",
    "import pandas as pd\n",
    "import allennlp\n",
    "from torch.nn.utils.rnn import pad_sequence\n",
    "from sklearn.model_selection import train_test_split\n",
    "import math\n",
    "from sklearn.metrics import accuracy_score\n",
    "from sklearn.metrics import f1_score"
   ]
  },
  {
   "cell_type": "code",
   "execution_count": 4,
   "metadata": {
    "colab": {
     "base_uri": "https://localhost:8080/",
     "height": 32
    },
    "colab_type": "code",
    "id": "KYTn_fPjpQQu",
    "outputId": "e8028cba-587a-476e-94a7-e3d26ae68b89"
   },
   "outputs": [
    {
     "name": "stdout",
     "output_type": "stream",
     "text": [
      "using device: cuda\n"
     ]
    }
   ],
   "source": [
    "USE_GPU = True\n",
    "\n",
    "dtype = torch.float32\n",
    "\n",
    "if USE_GPU and torch.cuda.is_available():\n",
    "    device = torch.device('cuda')\n",
    "else:\n",
    "    device = torch.device('cpu')\n",
    "print('using device:', device)"
   ]
  },
  {
   "cell_type": "markdown",
   "metadata": {
    "colab_type": "text",
    "id": "_TOay_NtpQQ0"
   },
   "source": [
    "# NER"
   ]
  },
  {
   "cell_type": "markdown",
   "metadata": {
    "colab_type": "text",
    "id": "PYDDbBeBhSIF"
   },
   "source": [
    "*Online solver for cheaters*"
   ]
  },
  {
   "cell_type": "code",
   "execution_count": 6,
   "metadata": {
    "colab": {
     "base_uri": "https://localhost:8080/",
     "height": 342
    },
    "colab_type": "code",
    "id": "1IsKh7mtJUAo",
    "outputId": "6a7b916f-4d7c-48fa-afb4-3d8da6c7e5ad"
   },
   "outputs": [
    {
     "name": "stdout",
     "output_type": "stream",
     "text": [
      "Better speed can be achieved with apex installed from https://www.github.com/nvidia/apex.\n"
     ]
    },
    {
     "name": "stderr",
     "output_type": "stream",
     "text": [
      "100%|██████████| 711306412/711306412 [00:10<00:00, 70296829.38B/s]\n",
      "/usr/local/lib/python3.6/dist-packages/allennlp/data/token_indexers/token_characters_indexer.py:51: UserWarning: You are using the default value (0) of `min_padding_length`, which can cause some subtle bugs (more info see https://github.com/allenai/allennlp/issues/1954). Strongly recommend to set a value, usually the maximum size of the convolutional layer size when using CnnEncoder.\n",
      "  UserWarning)\n"
     ]
    },
    {
     "name": "stdout",
     "output_type": "stream",
     "text": [
      "{'logits': [[15.190458297729492, -4.716231822967529, 1.5143320560455322, -8.693986892700195, -5.3672637939453125, -1.8563754558563232, -3.214425802230835, -4.376181602478027, -6.056004524230957, -2.422358989715576, -4.920343399047852, -6.915403366088867, -2.8212313652038574, -4.298392295837402, -1.8804082870483398, -3.06772518157959, -4.711836338043213], [-1.3631693124771118, -2.0067806243896484, 4.746016025543213, 4.566849708557129, -0.578734815120697, 3.3536217212677, -3.244018316268921, -5.067802429199219, 16.73503875732422, -6.667780876159668, -3.404334783554077, -4.538154602050781, -3.13637113571167, -3.4001007080078125, -4.961193084716797, -6.998348236083984, -6.066359043121338], [12.128942489624023, -3.83430552482605, -6.2508344650268555, 1.3990728855133057, -6.805897235870361, -3.7989420890808105, -5.914254188537598, -1.5350010395050049, -3.1357712745666504, -1.1868269443511963, -7.6140336990356445, -0.8967913389205933, -3.826099157333374, -1.8193367719650269, -1.0901379585266113, -1.1614727973937988, -2.551198720932007], [13.074651718139648, -3.3860416412353516, -2.6409034729003906, -3.9366040229797363, -4.175083160400391, -4.548679351806641, -2.324118137359619, -2.1475770473480225, -2.3154046535491943, -0.7065699100494385, -5.419186115264893, -3.69488525390625, -2.9159762859344482, -3.0558290481567383, -1.3406548500061035, -3.5838942527770996, -2.731867551803589], [13.86935806274414, -4.056713581085205, -3.133209705352783, -4.064491271972656, -4.512843132019043, -4.958012580871582, -2.935107707977295, -1.9482825994491577, -2.92555832862854, -0.8700639605522156, -6.256455421447754, -3.6904757022857666, -3.290785551071167, -3.0265164375305176, -1.1682897806167603, -4.198452472686768, -2.7169642448425293], [13.238302230834961, -3.7431111335754395, -3.0792651176452637, -3.6680617332458496, -4.726833820343018, -4.4394989013671875, -3.2482995986938477, -1.5071406364440918, -3.2976880073547363, -0.654589056968689, -5.993527412414551, -2.9567184448242188, -3.2536561489105225, -2.583261251449585, -1.0597245693206787, -3.589456558227539, -2.215608835220337], [12.916813850402832, -3.638181686401367, -2.545154333114624, -4.825210094451904, -3.470892906188965, -3.6505417823791504, -2.4026622772216797, -1.4803152084350586, -3.506791114807129, -0.5663822293281555, -5.356991291046143, -3.577092170715332, -2.056088924407959, -2.2591772079467773, -0.7746957540512085, -3.0474443435668945, -2.569117546081543], [7.839572906494141, -3.2952303886413574, -0.39105165004730225, -9.112371444702148, -2.885373592376709, 0.0392535924911499, 3.7038044929504395, -6.64643669128418, -3.098616361618042, -1.4827512502670288, -1.3292959928512573, -8.539006233215332, 6.627438545227051, -6.656042098999023, 2.063732624053955, -4.451451301574707, -4.58940315246582], [2.592849016189575, -8.707053184509277, 1.2151813507080078, -2.8693125247955322, -3.4390816688537598, -0.6568314433097839, 1.7230433225631714, -2.2636067867279053, -1.4117341041564941, 2.376500129699707, -3.9921088218688965, -6.455913543701172, 5.6532368659973145, 0.017253398895263672, 9.436369895935059, -1.4654641151428223, -1.575580358505249], [7.149562835693359, -8.770298957824707, -0.8339781761169434, -2.7221922874450684, -7.668472766876221, -4.826708793640137, -3.538393497467041, -0.7372443675994873, -7.572826385498047, 3.8226914405822754, -6.001620292663574, -5.426424026489258, 1.317143440246582, 2.167490005493164, 10.891902923583984, -0.4214038848876953, -0.9163004159927368], [2.08204984664917, -4.678183078765869, -3.726269245147705, 4.6691484451293945, -4.017053127288818, 3.837398052215576, -6.871837139129639, 1.3259888887405396, 2.7708725929260254, -2.776038408279419, -6.526082992553711, -3.1035573482513428, -3.912303924560547, 8.290249824523926, 1.3892667293548584, -5.593270301818848, -5.472158432006836], [14.985151290893555, -4.0832953453063965, -5.03541374206543, -4.26874303817749, -6.470174789428711, -5.128262996673584, -5.393654823303223, -1.0995310544967651, -6.0809221267700195, -0.8405821919441223, -6.666752338409424, -2.4697978496551514, -4.361674785614014, -0.3781011402606964, -0.7164169549942017, -3.300325393676758, -3.4684205055236816], [12.440936088562012, -2.722841739654541, -2.467388391494751, -4.148253440856934, -3.92233943939209, -4.2056779861450195, -2.4409146308898926, -1.5162516832351685, -3.5684046745300293, -0.8063201904296875, -4.344292640686035, -2.8878400325775146, -3.0685465335845947, -2.0787124633789062, -1.3628685474395752, -2.829662799835205, -1.9396997690200806], [14.01376724243164, -4.0822529792785645, -3.0010218620300293, -4.704466342926025, -4.5541839599609375, -4.369335174560547, -3.0633468627929688, -1.4963881969451904, -4.620249271392822, -1.1949049234390259, -5.445852279663086, -3.1115128993988037, -3.2417709827423096, -2.096283435821533, -1.5649689435958862, -3.511277675628662, -2.196408271789551], [13.599597930908203, -3.586883068084717, -3.1119980812072754, -4.561516761779785, -4.122069835662842, -4.02717924118042, -2.8477108478546143, -1.8030941486358643, -4.220266342163086, -1.4385156631469727, -5.2178730964660645, -3.5644941329956055, -3.238814115524292, -2.270322799682617, -1.704636573791504, -3.74399995803833, -2.6285722255706787], [11.964216232299805, -2.686934232711792, -3.4633400440216064, -3.629030704498291, -3.3583991527557373, -3.709451675415039, -2.8092470169067383, -1.3263893127441406, -3.6701855659484863, -1.2978004217147827, -4.907573699951172, -2.941141128540039, -3.446763515472412, -2.2070932388305664, -1.6760549545288086, -3.589885711669922, -2.340965509414673]], 'mask': [1, 1, 1, 1, 1, 1, 1, 1, 1, 1, 1, 1, 1, 1, 1, 1], 'tags': ['O', 'U-PER', 'O', 'O', 'O', 'O', 'O', 'B-MISC', 'I-MISC', 'I-MISC', 'L-MISC', 'O', 'O', 'O', 'O', 'O'], 'words': ['Did', 'Uriah', 'honestly', 'think', 'he', 'could', 'beat', 'The', 'Legend', 'of', 'Zelda', 'in', 'under', 'three', 'hours', '?']}\n"
     ]
    }
   ],
   "source": [
    "from allennlp.predictors.predictor import Predictor\n",
    "predictor = Predictor.from_path(\"https://s3-us-west-2.amazonaws.com/allennlp/models/ner-model-2018.12.18.tar.gz\")\n",
    "s = predictor.predict(\n",
    "  sentence=\"Did Uriah honestly think he could beat The Legend of Zelda in under three hours?\"\n",
    ")\n",
    "print(s)"
   ]
  },
  {
   "cell_type": "markdown",
   "metadata": {
    "colab_type": "text",
    "id": "q_4IbVzIpQQ1"
   },
   "source": [
    "Read the train corpus (CONLL 2003 dataset (en))"
   ]
  },
  {
   "cell_type": "code",
   "execution_count": 7,
   "metadata": {
    "colab": {
     "base_uri": "https://localhost:8080/",
     "height": 352
    },
    "colab_type": "code",
    "id": "YGzLZHQapQQ2",
    "outputId": "c92f639f-0f49-4ae3-df4f-371abebbc0c1"
   },
   "outputs": [
    {
     "data": {
      "text/html": [
       "<div>\n",
       "<style scoped>\n",
       "    .dataframe tbody tr th:only-of-type {\n",
       "        vertical-align: middle;\n",
       "    }\n",
       "\n",
       "    .dataframe tbody tr th {\n",
       "        vertical-align: top;\n",
       "    }\n",
       "\n",
       "    .dataframe thead th {\n",
       "        text-align: right;\n",
       "    }\n",
       "</style>\n",
       "<table border=\"1\" class=\"dataframe\">\n",
       "  <thead>\n",
       "    <tr style=\"text-align: right;\">\n",
       "      <th></th>\n",
       "      <th>Sentence #</th>\n",
       "      <th>Word</th>\n",
       "      <th>POS</th>\n",
       "      <th>Tag</th>\n",
       "    </tr>\n",
       "  </thead>\n",
       "  <tbody>\n",
       "    <tr>\n",
       "      <th>0</th>\n",
       "      <td>Sentence: 1</td>\n",
       "      <td>Thousands</td>\n",
       "      <td>NNS</td>\n",
       "      <td>O</td>\n",
       "    </tr>\n",
       "    <tr>\n",
       "      <th>1</th>\n",
       "      <td>Sentence: 1</td>\n",
       "      <td>of</td>\n",
       "      <td>IN</td>\n",
       "      <td>O</td>\n",
       "    </tr>\n",
       "    <tr>\n",
       "      <th>2</th>\n",
       "      <td>Sentence: 1</td>\n",
       "      <td>demonstrators</td>\n",
       "      <td>NNS</td>\n",
       "      <td>O</td>\n",
       "    </tr>\n",
       "    <tr>\n",
       "      <th>3</th>\n",
       "      <td>Sentence: 1</td>\n",
       "      <td>have</td>\n",
       "      <td>VBP</td>\n",
       "      <td>O</td>\n",
       "    </tr>\n",
       "    <tr>\n",
       "      <th>4</th>\n",
       "      <td>Sentence: 1</td>\n",
       "      <td>marched</td>\n",
       "      <td>VBN</td>\n",
       "      <td>O</td>\n",
       "    </tr>\n",
       "    <tr>\n",
       "      <th>5</th>\n",
       "      <td>Sentence: 1</td>\n",
       "      <td>through</td>\n",
       "      <td>IN</td>\n",
       "      <td>O</td>\n",
       "    </tr>\n",
       "    <tr>\n",
       "      <th>6</th>\n",
       "      <td>Sentence: 1</td>\n",
       "      <td>London</td>\n",
       "      <td>NNP</td>\n",
       "      <td>B-geo</td>\n",
       "    </tr>\n",
       "    <tr>\n",
       "      <th>7</th>\n",
       "      <td>Sentence: 1</td>\n",
       "      <td>to</td>\n",
       "      <td>TO</td>\n",
       "      <td>O</td>\n",
       "    </tr>\n",
       "    <tr>\n",
       "      <th>8</th>\n",
       "      <td>Sentence: 1</td>\n",
       "      <td>protest</td>\n",
       "      <td>VB</td>\n",
       "      <td>O</td>\n",
       "    </tr>\n",
       "    <tr>\n",
       "      <th>9</th>\n",
       "      <td>Sentence: 1</td>\n",
       "      <td>the</td>\n",
       "      <td>DT</td>\n",
       "      <td>O</td>\n",
       "    </tr>\n",
       "  </tbody>\n",
       "</table>\n",
       "</div>"
      ],
      "text/plain": [
       "    Sentence #           Word  POS    Tag\n",
       "0  Sentence: 1      Thousands  NNS      O\n",
       "1  Sentence: 1             of   IN      O\n",
       "2  Sentence: 1  demonstrators  NNS      O\n",
       "3  Sentence: 1           have  VBP      O\n",
       "4  Sentence: 1        marched  VBN      O\n",
       "5  Sentence: 1        through   IN      O\n",
       "6  Sentence: 1         London  NNP  B-geo\n",
       "7  Sentence: 1             to   TO      O\n",
       "8  Sentence: 1        protest   VB      O\n",
       "9  Sentence: 1            the   DT      O"
      ]
     },
     "execution_count": 7,
     "metadata": {
      "tags": []
     },
     "output_type": "execute_result"
    }
   ],
   "source": [
    "data = pd.read_csv(\"gdrive/My Drive/Colab Notebooks/ner_dataset.csv\", encoding=\"latin1\")\n",
    "data = data.fillna(method=\"ffill\")\n",
    "data.head(10)"
   ]
  },
  {
   "cell_type": "code",
   "execution_count": 8,
   "metadata": {
    "colab": {
     "base_uri": "https://localhost:8080/",
     "height": 49
    },
    "colab_type": "code",
    "id": "uTl5WEbFpQQ6",
    "outputId": "ec958252-dc00-4310-9ca4-6ee9a16dcf08",
    "scrolled": true
   },
   "outputs": [
    {
     "name": "stdout",
     "output_type": "stream",
     "text": [
      "Number of words: 35179\n",
      "Number of tags: 17\n"
     ]
    }
   ],
   "source": [
    "words = list(set(data[\"Word\"].values))\n",
    "words.append(\"ENDPAD\")\n",
    "print(\"Number of words: {}\".format(len(words)))\n",
    "tags = list(set(data[\"Tag\"].values))\n",
    "print(\"Number of tags: {}\".format(len(tags)))\n",
    "tag2idx = {t: i for i, t in enumerate(tags)}# indexes of tags"
   ]
  },
  {
   "cell_type": "markdown",
   "metadata": {
    "colab_type": "text",
    "id": "UGNrF_dApQQ_"
   },
   "source": [
    "Class for getting sentece + tags"
   ]
  },
  {
   "cell_type": "code",
   "execution_count": 0,
   "metadata": {
    "colab": {},
    "colab_type": "code",
    "id": "AVmQfh9xpQRA",
    "scrolled": false
   },
   "outputs": [],
   "source": [
    "class SentenceGetter(object):\n",
    "    \n",
    "    def __init__(self, data):\n",
    "        self.n_sent = 1\n",
    "        self.data = data\n",
    "        self.empty = False\n",
    "        agg_func = lambda s: [(w, p, t) for w, p, t in zip(s[\"Word\"].values.tolist(),\n",
    "                                                           s[\"POS\"].values.tolist(),\n",
    "                                                           s[\"Tag\"].values.tolist())]\n",
    "        self.grouped = self.data.groupby(\"Sentence #\").apply(agg_func)\n",
    "        self.sentences = [s for s in self.grouped]\n",
    "    \n",
    "    def get_next(self):\n",
    "        try:\n",
    "            s = self.grouped[\"Sentence: {}\".format(self.n_sent)]\n",
    "            self.n_sent += 1\n",
    "            return s\n",
    "        except:\n",
    "            return None"
   ]
  },
  {
   "cell_type": "code",
   "execution_count": 10,
   "metadata": {
    "colab": {
     "base_uri": "https://localhost:8080/",
     "height": 323
    },
    "colab_type": "code",
    "id": "2IpAO_HApQRE",
    "outputId": "d2121631-c985-4f91-e910-c078755be262"
   },
   "outputs": [
    {
     "name": "stdout",
     "output_type": "stream",
     "text": [
      "[('Thousands', 'NNS', 'O'), ('of', 'IN', 'O'), ('demonstrators', 'NNS', 'O'), ('have', 'VBP', 'O'), ('marched', 'VBN', 'O'), ('through', 'IN', 'O'), ('London', 'NNP', 'B-geo'), ('to', 'TO', 'O'), ('protest', 'VB', 'O'), ('the', 'DT', 'O'), ('war', 'NN', 'O'), ('in', 'IN', 'O'), ('Iraq', 'NNP', 'B-geo'), ('and', 'CC', 'O'), ('demand', 'VB', 'O'), ('the', 'DT', 'O'), ('withdrawal', 'NN', 'O'), ('of', 'IN', 'O'), ('British', 'JJ', 'B-gpe'), ('troops', 'NNS', 'O'), ('from', 'IN', 'O'), ('that', 'DT', 'O'), ('country', 'NN', 'O'), ('.', '.', 'O')]\n",
      "Number of sentences: 47959\n",
      "Max len of sentence: 104\n"
     ]
    }
   ],
   "source": [
    "getter = SentenceGetter(data)\n",
    "sent = getter.get_next()\n",
    "print(sent)\n",
    "sentences = getter.sentences\n",
    "print(\"Number of sentences: {}\".format(len(sentences)))\n",
    "print(\"Max len of sentence: {}\".format(max([len(i) for i in sentences])))"
   ]
  },
  {
   "cell_type": "markdown",
   "metadata": {
    "colab_type": "text",
    "id": "DFNNSgbVpQRM"
   },
   "source": [
    "We need to choose max_len for inputting sentence to net"
   ]
  },
  {
   "cell_type": "code",
   "execution_count": 0,
   "metadata": {
    "colab": {},
    "colab_type": "code",
    "id": "KspwYF1ZpQRN"
   },
   "outputs": [],
   "source": [
    "max_len = 50\n",
    "X = [[w[0] for w in s][:max_len] for s in sentences]\n",
    "new_X = []\n",
    "for seq in X:\n",
    "    new_seq = []\n",
    "    for i in range(max_len):\n",
    "        try:\n",
    "            new_seq.append(seq[i])\n",
    "        except:\n",
    "            new_seq.append(\"__PAD__\")\n",
    "    new_X.append(new_seq)\n",
    "X = new_X"
   ]
  },
  {
   "cell_type": "markdown",
   "metadata": {
    "colab_type": "text",
    "id": "RCGm2MD9pQRT"
   },
   "source": [
    "Get idx for tags"
   ]
  },
  {
   "cell_type": "code",
   "execution_count": 0,
   "metadata": {
    "colab": {},
    "colab_type": "code",
    "id": "aayGNB0ppQRU"
   },
   "outputs": [],
   "source": [
    "y =[torch.tensor([ tag2idx[w[2]] for w in s][0:max_len]) for s in sentences]"
   ]
  },
  {
   "cell_type": "code",
   "execution_count": 0,
   "metadata": {
    "colab": {},
    "colab_type": "code",
    "id": "X7cF0GS4wlqd"
   },
   "outputs": [],
   "source": [
    "y = (pad_sequence(sequences=y, batch_first=False, padding_value=tag2idx[\"O\"])).t()"
   ]
  },
  {
   "cell_type": "markdown",
   "metadata": {
    "colab_type": "text",
    "id": "sYkSmye_7M6u"
   },
   "source": [
    "### Download elmo model from [allennlp](https://allennlp.org)"
   ]
  },
  {
   "cell_type": "code",
   "execution_count": 14,
   "metadata": {
    "colab": {
     "base_uri": "https://localhost:8080/",
     "height": 49
    },
    "colab_type": "code",
    "id": "U2yHpvSGpQRY",
    "outputId": "e82d5da7-6847-4beb-e8cd-46931ad9b09c"
   },
   "outputs": [
    {
     "name": "stderr",
     "output_type": "stream",
     "text": [
      "100%|██████████| 336/336 [00:00<00:00, 188785.82B/s]\n",
      "100%|██████████| 374434792/374434792 [00:05<00:00, 69422539.32B/s]\n"
     ]
    }
   ],
   "source": [
    "from allennlp.modules.elmo import Elmo, batch_to_ids\n",
    "\n",
    "options_file = \"https://s3-us-west-2.amazonaws.com/allennlp/models/elmo/2x4096_512_2048cnn_2xhighway/elmo_2x4096_512_2048cnn_2xhighway_options.json\"\n",
    "weight_file = \"https://s3-us-west-2.amazonaws.com/allennlp/models/elmo/2x4096_512_2048cnn_2xhighway/elmo_2x4096_512_2048cnn_2xhighway_weights.hdf5\"\n",
    "\n",
    "# Compute two different representation for each token.\n",
    "# Each representation is a linear weighted combination for the\n",
    "# 3 layers in ELMo (i.e., charcnn, the outputs of the two BiLSTM))\n",
    "elmo = Elmo(options_file, weight_file, 1, dropout=0)"
   ]
  },
  {
   "cell_type": "code",
   "execution_count": 0,
   "metadata": {
    "colab": {},
    "colab_type": "code",
    "id": "EItq98QJkovj"
   },
   "outputs": [],
   "source": [
    "def embed(batch):\n",
    "  character_ids = batch_to_ids(batch)\n",
    "  return elmo(character_ids)"
   ]
  },
  {
   "cell_type": "code",
   "execution_count": 16,
   "metadata": {
    "colab": {
     "base_uri": "https://localhost:8080/",
     "height": 32
    },
    "colab_type": "code",
    "id": "0jsvk6oh1M7V",
    "outputId": "c68914a1-cd50-4340-a895-7107c3802a85"
   },
   "outputs": [
    {
     "data": {
      "text/plain": [
       "torch.Size([2, 5, 1024])"
      ]
     },
     "execution_count": 16,
     "metadata": {
      "tags": []
     },
     "output_type": "execute_result"
    }
   ],
   "source": [
    "embed([['First', 'sentence', '.'],['Russia', 'is', 'big','.','putin']])['elmo_representations'][0].shape"
   ]
  },
  {
   "cell_type": "markdown",
   "metadata": {
    "colab_type": "text",
    "id": "U4rD47t0lUhn"
   },
   "source": [
    "### Now we have word embedding of size 1024 for each word and tags(y)\n",
    "Let's build a batcher +  model with bi-LSTM"
   ]
  },
  {
   "cell_type": "code",
   "execution_count": 0,
   "metadata": {
    "colab": {},
    "colab_type": "code",
    "id": "GVyrUjhqlIUz"
   },
   "outputs": [],
   "source": [
    "class Batch:\n",
    "    def __init__(self, X, y):\n",
    "        self.X = X\n",
    "        self.y = y\n",
    "        self.current = 0\n",
    "    def make_batch(self, batch_size):\n",
    "        if self.current + batch_size >= len(self.X):\n",
    "            self.current = 0\n",
    "        \n",
    "        sample = embed(self.X[self.current:self.current+batch_size])['elmo_representations'][0].cuda()# batch * 50 * 1024\n",
    "        pred = self.y[self.current:self.current+batch_size].cuda()\n",
    "        self.current = self.current + batch_size\n",
    "        return sample, pred"
   ]
  },
  {
   "cell_type": "code",
   "execution_count": 0,
   "metadata": {
    "colab": {},
    "colab_type": "code",
    "id": "-XkdNdqVhzvw"
   },
   "outputs": [],
   "source": [
    "batch_size = 128\n",
    "lr = 0.01\n",
    "hidden_size = 1024\n",
    "output_size = len(tag2idx)\n",
    "n_layers = 2\n",
    "n_batchs = 100\n",
    "print_every = 1"
   ]
  },
  {
   "cell_type": "code",
   "execution_count": 0,
   "metadata": {
    "colab": {},
    "colab_type": "code",
    "id": "q-LCAGrCy2Qz"
   },
   "outputs": [],
   "source": [
    "class Net(nn.Module):\n",
    "    def __init__(self, hidden_size, output_size, n_layers=1):\n",
    "        super(Net, self).__init__()\n",
    "        self.hidden_size = hidden_size\n",
    "        self.output_size = output_size\n",
    "        self.n_layers = n_layers\n",
    "        \n",
    "        self.lstm = nn.LSTM(self.hidden_size, self.hidden_size, self.n_layers, dropout = 0.2)\n",
    "        self.decoder = nn.Linear(self.hidden_size, self.output_size)\n",
    "        \n",
    "    def forward(self, x, hidden):\n",
    "        batch_size = x.size(0)\n",
    "        out, hidden = self.lstm(x.view(1, batch_size, -1), hidden)\n",
    "        out = self.decoder(out.view(batch_size, -1))\n",
    "        return out, hidden\n",
    "      \n",
    "    def init_hidden(self, batch_size):\n",
    "        return torch.zeros(self.n_layers, batch_size, self.hidden_size, device = device).cuda(),\\\n",
    "            torch.zeros(self.n_layers, batch_size, self.hidden_size, device = device).cuda()\n",
    "    \n",
    "    def predict(x, hidden):\n",
    "        batch_size = x.size(0)\n",
    "        out, hidden = self.lstm(x.view(1, batch_size, -1), hidden)\n",
    "        out = self.decoder(out.view(batch_size, -1))\n",
    "        return out, hidden"
   ]
  },
  {
   "cell_type": "code",
   "execution_count": 0,
   "metadata": {
    "colab": {},
    "colab_type": "code",
    "id": "yRsY7K-JZf8-"
   },
   "outputs": [],
   "source": [
    "model = Net(hidden_size, input_size, n_layers).to(device=device)\n",
    "optimizer = torch.optim.Adam(model.parameters(), lr=lr)\n",
    "criterion = nn.CrossEntropyLoss()\n",
    "loss = torch.tensor(0)\n",
    "b = Batch(X, y)"
   ]
  },
  {
   "cell_type": "code",
   "execution_count": 0,
   "metadata": {
    "colab": {},
    "colab_type": "code",
    "id": "E1gAgk3GhtsO"
   },
   "outputs": [],
   "source": [
    "def timeSince(since):\n",
    "    now = time.clock()\n",
    "    s = now - since\n",
    "    m = math.floor(s / 60)\n",
    "    s -= m * 60\n",
    "    return '%dm %ds' % (m, s)"
   ]
  },
  {
   "cell_type": "code",
   "execution_count": null,
   "metadata": {
    "colab": {},
    "colab_type": "code",
    "id": "xGFhpKyCZdK8"
   },
   "outputs": [],
   "source": [
    "def train(inp, target):\n",
    "    model.zero_grad()\n",
    "    loss = 0\n",
    "    hidden = model.init_hidden(batch_size)\n",
    "    model.train()\n",
    "    for i in range(inp.shape[1]-1):\n",
    "        output, hidden = model(inp[:,i,:], hidden)\n",
    "        loss += criterion(output.view(batch_size,-1), target[:,i])\n",
    "        \n",
    "    loss.backward()\n",
    "    optimizer.step()\n",
    "    \n",
    "    return loss/ inp.shape[1]"
   ]
  },
  {
   "cell_type": "code",
   "execution_count": 0,
   "metadata": {
    "colab": {},
    "colab_type": "code",
    "id": "cLu1KHYLlmw2"
   },
   "outputs": [],
   "source": [
    "losses = []"
   ]
  },
  {
   "cell_type": "markdown",
   "metadata": {
    "colab_type": "text",
    "id": "61_i1mPifuID"
   },
   "source": [
    "All corpus is $\\approx$ 300 bathes, I use only 100 "
   ]
  },
  {
   "cell_type": "code",
   "execution_count": 258,
   "metadata": {
    "colab": {
     "base_uri": "https://localhost:8080/",
     "height": 3310
    },
    "colab_type": "code",
    "id": "Z_3DI2ecZjJ3",
    "outputId": "626debfa-7295-435a-ebb7-0b81e0c25ab8"
   },
   "outputs": [
    {
     "name": "stdout",
     "output_type": "stream",
     "text": [
      "bat 1,   \tloss 2.779780864715576\n",
      "time passed 0m 34s:\n",
      "bat 2,   \tloss 1.01329505443573\n",
      "time passed 1m 10s:\n",
      "bat 3,   \tloss 0.5626169443130493\n",
      "time passed 1m 45s:\n",
      "bat 4,   \tloss 1.0504958629608154\n",
      "time passed 2m 16s:\n",
      "bat 5,   \tloss 0.39138948917388916\n",
      "time passed 2m 49s:\n",
      "bat 6,   \tloss 0.6237685084342957\n",
      "time passed 3m 21s:\n",
      "bat 7,   \tloss 0.5682610273361206\n",
      "time passed 3m 55s:\n",
      "bat 8,   \tloss 0.7098172307014465\n",
      "time passed 4m 27s:\n",
      "bat 9,   \tloss 0.6765277981758118\n",
      "time passed 4m 58s:\n",
      "bat 10,   \tloss 0.6005204916000366\n",
      "time passed 5m 31s:\n",
      "bat 11,   \tloss 0.5897429585456848\n",
      "time passed 6m 4s:\n",
      "bat 12,   \tloss 0.44916483759880066\n",
      "time passed 6m 37s:\n",
      "bat 13,   \tloss 0.4250081181526184\n",
      "time passed 7m 9s:\n",
      "bat 14,   \tloss 0.45406150817871094\n",
      "time passed 7m 41s:\n",
      "bat 15,   \tloss 0.425199419260025\n",
      "time passed 8m 14s:\n",
      "bat 16,   \tloss 0.3851526975631714\n",
      "time passed 8m 47s:\n",
      "bat 17,   \tloss 0.4360050559043884\n",
      "time passed 9m 21s:\n",
      "bat 18,   \tloss 0.4006953835487366\n",
      "time passed 9m 52s:\n",
      "bat 19,   \tloss 0.3833058178424835\n",
      "time passed 10m 25s:\n",
      "bat 20,   \tloss 0.36324262619018555\n",
      "time passed 10m 57s:\n",
      "bat 21,   \tloss 0.4116072356700897\n",
      "time passed 11m 29s:\n",
      "bat 22,   \tloss 0.4108138680458069\n",
      "time passed 12m 3s:\n",
      "bat 23,   \tloss 0.4293060302734375\n",
      "time passed 12m 35s:\n",
      "bat 24,   \tloss 0.3516250550746918\n",
      "time passed 13m 7s:\n",
      "bat 25,   \tloss 0.32486534118652344\n",
      "time passed 13m 39s:\n",
      "bat 26,   \tloss 0.3373158872127533\n",
      "time passed 14m 12s:\n",
      "bat 27,   \tloss 0.3442690968513489\n",
      "time passed 14m 46s:\n",
      "bat 28,   \tloss 0.30984532833099365\n",
      "time passed 15m 17s:\n",
      "bat 29,   \tloss 0.3508414030075073\n",
      "time passed 15m 49s:\n",
      "bat 30,   \tloss 0.311451256275177\n",
      "time passed 16m 21s:\n",
      "bat 31,   \tloss 0.2223328799009323\n",
      "time passed 16m 53s:\n",
      "bat 32,   \tloss 0.2605147063732147\n",
      "time passed 17m 27s:\n",
      "bat 33,   \tloss 0.225677028298378\n",
      "time passed 17m 58s:\n",
      "bat 34,   \tloss 0.2257808893918991\n",
      "time passed 18m 29s:\n",
      "bat 35,   \tloss 0.25904348492622375\n",
      "time passed 19m 3s:\n",
      "bat 36,   \tloss 0.21068398654460907\n",
      "time passed 19m 34s:\n",
      "bat 37,   \tloss 0.20768874883651733\n",
      "time passed 20m 7s:\n",
      "bat 38,   \tloss 0.20743942260742188\n",
      "time passed 20m 38s:\n",
      "bat 39,   \tloss 0.1752631664276123\n",
      "time passed 21m 10s:\n",
      "bat 40,   \tloss 0.20266583561897278\n",
      "time passed 21m 42s:\n",
      "bat 41,   \tloss 0.19222868978977203\n",
      "time passed 22m 14s:\n",
      "bat 42,   \tloss 0.2072589248418808\n",
      "time passed 22m 48s:\n",
      "bat 43,   \tloss 0.17513366043567657\n",
      "time passed 23m 20s:\n",
      "bat 44,   \tloss 0.16872058808803558\n",
      "time passed 23m 51s:\n",
      "bat 45,   \tloss 0.16595254838466644\n",
      "time passed 24m 25s:\n",
      "bat 46,   \tloss 0.1755552440881729\n",
      "time passed 24m 56s:\n",
      "bat 47,   \tloss 0.1729183793067932\n",
      "time passed 25m 29s:\n",
      "bat 48,   \tloss 0.1703444868326187\n",
      "time passed 26m 1s:\n",
      "bat 49,   \tloss 0.19923025369644165\n",
      "time passed 26m 33s:\n",
      "bat 50,   \tloss 0.1435762494802475\n",
      "time passed 27m 5s:\n",
      "bat 51,   \tloss 0.16036511957645416\n",
      "time passed 27m 37s:\n",
      "bat 52,   \tloss 0.1792144477367401\n",
      "time passed 28m 10s:\n",
      "bat 53,   \tloss 0.1548994481563568\n",
      "time passed 28m 41s:\n",
      "bat 54,   \tloss 0.1657533347606659\n",
      "time passed 29m 13s:\n",
      "bat 55,   \tloss 0.14749668538570404\n",
      "time passed 29m 46s:\n",
      "bat 56,   \tloss 0.13123001158237457\n",
      "time passed 30m 17s:\n",
      "bat 57,   \tloss 0.15630388259887695\n",
      "time passed 30m 50s:\n",
      "bat 58,   \tloss 0.1472146064043045\n",
      "time passed 31m 21s:\n",
      "bat 59,   \tloss 0.16231407225131989\n",
      "time passed 31m 52s:\n",
      "bat 60,   \tloss 0.1526951789855957\n",
      "time passed 32m 25s:\n",
      "bat 61,   \tloss 0.14423030614852905\n",
      "time passed 32m 57s:\n",
      "bat 62,   \tloss 0.14996442198753357\n",
      "time passed 33m 30s:\n",
      "bat 63,   \tloss 0.15333986282348633\n",
      "time passed 34m 1s:\n",
      "bat 64,   \tloss 0.14768388867378235\n",
      "time passed 34m 35s:\n",
      "bat 65,   \tloss 0.14797648787498474\n",
      "time passed 35m 7s:\n",
      "bat 66,   \tloss 0.14442241191864014\n",
      "time passed 35m 38s:\n",
      "bat 67,   \tloss 0.1453269124031067\n",
      "time passed 36m 12s:\n",
      "bat 68,   \tloss 0.16012164950370789\n",
      "time passed 36m 43s:\n",
      "bat 69,   \tloss 0.14791971445083618\n",
      "time passed 37m 15s:\n",
      "bat 70,   \tloss 0.13018813729286194\n",
      "time passed 37m 49s:\n",
      "bat 71,   \tloss 0.15383653342723846\n",
      "time passed 38m 20s:\n",
      "bat 72,   \tloss 0.11715230345726013\n",
      "time passed 38m 53s:\n",
      "bat 73,   \tloss 0.1284419745206833\n",
      "time passed 39m 24s:\n",
      "bat 74,   \tloss 0.14124414324760437\n",
      "time passed 39m 58s:\n",
      "bat 75,   \tloss 0.1524251103401184\n",
      "time passed 40m 30s:\n",
      "bat 76,   \tloss 0.12301427870988846\n",
      "time passed 41m 1s:\n",
      "bat 77,   \tloss 0.1388445496559143\n",
      "time passed 41m 35s:\n",
      "bat 78,   \tloss 0.13614147901535034\n",
      "time passed 42m 6s:\n",
      "bat 79,   \tloss 0.12200669944286346\n",
      "time passed 42m 38s:\n",
      "bat 80,   \tloss 0.14041638374328613\n",
      "time passed 43m 11s:\n",
      "bat 81,   \tloss 0.142555370926857\n",
      "time passed 43m 42s:\n",
      "bat 82,   \tloss 0.1060313880443573\n",
      "time passed 44m 15s:\n",
      "bat 83,   \tloss 0.11126381903886795\n",
      "time passed 44m 47s:\n",
      "bat 84,   \tloss 0.1266920566558838\n",
      "time passed 45m 20s:\n",
      "bat 85,   \tloss 0.1201038584113121\n",
      "time passed 45m 52s:\n",
      "bat 86,   \tloss 0.12424881011247635\n",
      "time passed 46m 23s:\n",
      "bat 87,   \tloss 0.10317026823759079\n",
      "time passed 46m 57s:\n",
      "bat 88,   \tloss 0.09583153575658798\n",
      "time passed 47m 28s:\n",
      "bat 89,   \tloss 0.11196418851613998\n",
      "time passed 48m 0s:\n",
      "bat 90,   \tloss 0.12585236132144928\n",
      "time passed 48m 33s:\n",
      "bat 91,   \tloss 0.09976138919591904\n",
      "time passed 49m 4s:\n",
      "bat 92,   \tloss 0.1343989223241806\n",
      "time passed 49m 37s:\n",
      "bat 93,   \tloss 0.10793568193912506\n",
      "time passed 50m 10s:\n",
      "bat 94,   \tloss 0.08179739117622375\n",
      "time passed 50m 41s:\n",
      "bat 95,   \tloss 0.12234430015087128\n",
      "time passed 51m 14s:\n",
      "bat 96,   \tloss 0.10605595260858536\n",
      "time passed 51m 46s:\n",
      "bat 97,   \tloss 0.1014084443449974\n",
      "time passed 52m 19s:\n",
      "bat 98,   \tloss 0.1168830469250679\n",
      "time passed 52m 52s:\n",
      "bat 99,   \tloss 0.10036435723304749\n",
      "time passed 53m 23s:\n",
      "bat 100,   \tloss 0.09640730917453766\n",
      "time passed 53m 56s:\n"
     ]
    }
   ],
   "source": [
    "start_time = time.clock()\n",
    "for bat in range(1, n_batchs + 1):\n",
    "    loss = train(*b.make_batch(batch_size))\n",
    "    losses.append(loss)\n",
    "    if bat % print_every == 0:\n",
    "        print('bat {},   \\tloss {}'.format(bat, losses[-1]))\n",
    "        print('time passed %s:' %(timeSince(start_time)))\n",
    "        "
   ]
  },
  {
   "cell_type": "code",
   "execution_count": 265,
   "metadata": {
    "colab": {
     "base_uri": "https://localhost:8080/",
     "height": 289
    },
    "colab_type": "code",
    "id": "SFDLhue9Wewc",
    "outputId": "d816c5b9-91b2-4ff6-a2f3-bf12a1fb876f"
   },
   "outputs": [
    {
     "name": "stderr",
     "output_type": "stream",
     "text": [
      "/usr/local/lib/python3.6/dist-packages/torch/serialization.py:251: UserWarning: Couldn't retrieve source code for container of type Net. It won't be checked for correctness upon loading.\n",
      "  \"type \" + obj.__name__ + \". It won't be checked \"\n"
     ]
    }
   ],
   "source": [
    "torch.save(model, 'gdrive/My Drive/Colab Notebooks/tr_learn_34.dms')"
   ]
  },
  {
   "cell_type": "code",
   "execution_count": 0,
   "metadata": {
    "colab": {},
    "colab_type": "code",
    "id": "Cl58N90IWqhD"
   },
   "outputs": [],
   "source": [
    "torch.save(optimizer, 'gdrive/My Drive/Colab Notebooks/adam_tr_learn_34')"
   ]
  },
  {
   "cell_type": "code",
   "execution_count": 261,
   "metadata": {
    "colab": {
     "base_uri": "https://localhost:8080/",
     "height": 458
    },
    "colab_type": "code",
    "id": "5wgH2n7qtcCO",
    "outputId": "c150f32f-9141-4a5d-981e-3db6c8e4c4c8"
   },
   "outputs": [
    {
     "data": {
      "image/png": "[encoded data removed]",
      "text/plain": [
       "<Figure size 864x504 with 1 Axes>"
      ]
     },
     "metadata": {
      "tags": []
     },
     "output_type": "display_data"
    }
   ],
   "source": [
    "plt.figure(figsize=(12,7))\n",
    "plt.plot(range(len(losses)), losses)\n",
    "plt.xlabel(\"$batch$\", fontsize=25)\n",
    "plt.ylabel(\"$loss$\", fontsize=25)\n",
    "plt.show()"
   ]
  },
  {
   "cell_type": "markdown",
   "metadata": {
    "colab_type": "text",
    "id": "vxe2T_lUi1e_"
   },
   "source": [
    "## Check accuracy + f1"
   ]
  },
  {
   "cell_type": "code",
   "execution_count": 0,
   "metadata": {
    "colab": {},
    "colab_type": "code",
    "id": "1UuCClK3PN8B"
   },
   "outputs": [],
   "source": [
    "def predict(batch_size):\n",
    "    hidden = model.init_hidden(batch_size)\n",
    "    inp, target = b.make_batch(batch_size)\n",
    "    hidden = model.init_hidden(batch_size)\n",
    "    pred = []\n",
    "    for i in range(inp.shape[1]):\n",
    "      output, hidden = model(j[:,i,:], hidden)\n",
    "      _, index = torch.max(func.softmax(output, dim = 1),1)\n",
    "      pred.append(index.item())\n",
    "    return accuracy_score(target[0].cpu().detach().numpy(),pred), f1_score(target[0].cpu().detach().numpy(),pred, average='macro')\n",
    "    "
   ]
  },
  {
   "cell_type": "code",
   "execution_count": 399,
   "metadata": {
    "colab": {
     "base_uri": "https://localhost:8080/",
     "height": 169
    },
    "colab_type": "code",
    "id": "AodsseNIawZo",
    "outputId": "6f24335b-97a7-46d5-fd2a-91b0756da564"
   },
   "outputs": [
    {
     "name": "stderr",
     "output_type": "stream",
     "text": [
      "/usr/local/lib/python3.6/dist-packages/sklearn/metrics/classification.py:1143: UndefinedMetricWarning: F-score is ill-defined and being set to 0.0 in labels with no predicted samples.\n",
      "  'precision', 'predicted', average, warn_for)\n",
      "/usr/local/lib/python3.6/dist-packages/sklearn/metrics/classification.py:1145: UndefinedMetricWarning: F-score is ill-defined and being set to 0.0 in labels with no true samples.\n",
      "  'recall', 'true', average, warn_for)\n"
     ]
    },
    {
     "name": "stdout",
     "output_type": "stream",
     "text": [
      "ACCURACY:\t 0.9339999999999999\n",
      "F1- SCORE:\t 0.2471519373509746\n"
     ]
    }
   ],
   "source": [
    "print('ACCURACY:\\t {}'.format(np.mean([predict(1)[0] for i in range(10)])))\n",
    "print('F1- SCORE:\\t {}'.format(np.mean([predict(1)[1] for i in range(10)])))"
   ]
  },
  {
   "cell_type": "markdown",
   "metadata": {
    "colab": {},
    "colab_type": "code",
    "id": "9eh17u9qedbL"
   },
   "source": [
    "Accuracy is great, in case I taught model more, f1 would be around 0.8"
   ]
  }
 ],
 "metadata": {
  "accelerator": "GPU",
  "colab": {
   "collapsed_sections": [],
   "name": "task4.1_transfer_learning.ipynb",
   "provenance": [],
   "toc_visible": true,
   "version": "0.3.2"
  },
  "kernelspec": {
   "display_name": "Python 3",
   "language": "python",
   "name": "python3"
  },
  "language_info": {
   "codemirror_mode": {
    "name": "ipython",
    "version": 3
   },
   "file_extension": ".py",
   "mimetype": "text/x-python",
   "name": "python",
   "nbconvert_exporter": "python",
   "pygments_lexer": "ipython3",
   "version": "3.6.4"
  }
 },
 "nbformat": 4,
 "nbformat_minor": 1
}
