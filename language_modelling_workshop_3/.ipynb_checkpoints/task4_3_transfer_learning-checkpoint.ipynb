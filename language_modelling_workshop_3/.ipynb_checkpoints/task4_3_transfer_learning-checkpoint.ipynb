{
 "cells": [
  {
   "cell_type": "markdown",
   "metadata": {
    "colab_type": "text",
    "id": "kdVXWu42sZLq"
   },
   "source": [
    "## Transfer learning\n",
    "\n",
    "2018 showed us that language modelling is a good task to train powerfull text representations. There are two different approaches how to use this representations: **feature extraction** and **fine-tuning**.\n",
    "\n",
    "  * One great example of feature extraction is ELMo ([allennlp tutorial](https://github.com/allenai/allennlp/blob/master/tutorials/how_to/elmo.md), [tf_hub example](https://tfhub.dev/google/elmo/2), [deeppavlov documentation](http://docs.deeppavlov.ai/en/master/apiref/models/embedders.html?highlight=elmo#deeppavlov.models.embedders.elmo_embedder.ELMoEmbedder))\n",
    "  * One great example of fine-tuning is ULMfit - ([fastai lesson](https://course.fast.ai/videos/?lesson=4), [example notebook](https://nbviewer.jupyter.org/github/fastai/course-v3/blob/master/nbs/dl1/lesson3-imdb.ipynb))\n",
    "\n",
    "What should you do?\n",
    "\n",
    "  * Apply ELMo to make named entity recognition system. You can use [CONLL 2003 dataset (en)](http://files.deeppavlov.ai/deeppavlov_data/conll2003_v2.tar.gz) or [Persons1000 dataset (ru)](http://labinform.ru/pub/named_entities/descr_ne.htm) or any other dataset.\n",
    "  * Apply ULMfit to make text classificator (any dataset, except IMDB)\n",
    "  * Apply ELMo to make text classificator (on the same dataset)\n",
    "  * Play with various models and hyperparameters\n",
    "  * Compare results\n",
    "\n",
    "\n",
    "**Results of this task:**\n",
    "  * NER model\n",
    "  * Two classification models\n",
    "  * for each model:\n",
    "    * metrics on the test set (quantitative evaluation)\n",
    "    * succesfull and _unsucsessfull_ examples (qualitative evaluation)\n",
    "    * plots showing that the model is training\n",
    "\n",
    "\n",
    "**Additional points:**\n",
    "  * Early stopping"
   ]
  },
  {
   "cell_type": "code",
   "execution_count": 0,
   "metadata": {
    "colab": {
     "base_uri": "https://localhost:8080/",
     "height": 1749
    },
    "colab_type": "code",
    "id": "_mTuOYWymSp0",
    "outputId": "fde67405-e810-4051-a101-3a01cab6ce4b"
   },
   "outputs": [
    {
     "name": "stdout",
     "output_type": "stream",
     "text": [
      "Requirement already satisfied: allennlp in /usr/local/lib/python3.6/dist-packages (0.8.3)\n",
      "Requirement already satisfied: scipy in /usr/local/lib/python3.6/dist-packages (from allennlp) (1.2.1)\n",
      "Requirement already satisfied: responses>=0.7 in /usr/local/lib/python3.6/dist-packages (from allennlp) (0.10.6)\n",
      "Requirement already satisfied: tqdm>=4.19 in /usr/local/lib/python3.6/dist-packages (from allennlp) (4.28.1)\n",
      "Requirement already satisfied: msgpack<0.6.0,>=0.5.6 in /usr/local/lib/python3.6/dist-packages (from allennlp) (0.5.6)\n",
      "Requirement already satisfied: spacy<2.2,>=2.0 in /usr/local/lib/python3.6/dist-packages (from allennlp) (2.0.18)\n",
      "Requirement already satisfied: overrides in /usr/local/lib/python3.6/dist-packages (from allennlp) (1.9)\n",
      "Requirement already satisfied: word2number>=1.1 in /usr/local/lib/python3.6/dist-packages (from allennlp) (1.1)\n",
      "Requirement already satisfied: pytest in /usr/local/lib/python3.6/dist-packages (from allennlp) (3.6.4)\n",
      "Requirement already satisfied: tensorboardX>=1.2 in /usr/local/lib/python3.6/dist-packages (from allennlp) (1.6)\n",
      "Requirement already satisfied: requests>=2.18 in /usr/local/lib/python3.6/dist-packages (from allennlp) (2.18.4)\n",
      "Requirement already satisfied: torch>=0.4.1 in /usr/local/lib/python3.6/dist-packages (from allennlp) (1.0.1.post2)\n",
      "Requirement already satisfied: sqlparse>=0.2.4 in /usr/local/lib/python3.6/dist-packages (from allennlp) (0.3.0)\n",
      "Requirement already satisfied: boto3 in /usr/local/lib/python3.6/dist-packages (from allennlp) (1.9.130)\n",
      "Requirement already satisfied: ftfy in /usr/local/lib/python3.6/dist-packages (from allennlp) (5.5.1)\n",
      "Requirement already satisfied: conllu==0.11 in /usr/local/lib/python3.6/dist-packages (from allennlp) (0.11)\n",
      "Requirement already satisfied: pytorch-pretrained-bert>=0.6.0 in /usr/local/lib/python3.6/dist-packages (from allennlp) (0.6.1)\n",
      "Requirement already satisfied: parsimonious>=0.8.0 in /usr/local/lib/python3.6/dist-packages (from allennlp) (0.8.1)\n",
      "Requirement already satisfied: scikit-learn in /usr/local/lib/python3.6/dist-packages (from allennlp) (0.20.3)\n",
      "Requirement already satisfied: matplotlib>=2.2.3 in /usr/local/lib/python3.6/dist-packages (from allennlp) (3.0.3)\n",
      "Requirement already satisfied: gevent>=1.3.6 in /usr/local/lib/python3.6/dist-packages (from allennlp) (1.4.0)\n",
      "Requirement already satisfied: flask>=1.0.2 in /usr/local/lib/python3.6/dist-packages (from allennlp) (1.0.2)\n",
      "Requirement already satisfied: moto>=1.3.4 in /usr/local/lib/python3.6/dist-packages (from allennlp) (1.3.7)\n",
      "Requirement already satisfied: pytz>=2017.3 in /usr/local/lib/python3.6/dist-packages (from allennlp) (2018.9)\n",
      "Requirement already satisfied: numpy in /usr/local/lib/python3.6/dist-packages (from allennlp) (1.16.2)\n",
      "Requirement already satisfied: unidecode in /usr/local/lib/python3.6/dist-packages (from allennlp) (1.0.23)\n",
      "Requirement already satisfied: editdistance in /usr/local/lib/python3.6/dist-packages (from allennlp) (0.5.3)\n",
      "Requirement already satisfied: nltk in /usr/local/lib/python3.6/dist-packages (from allennlp) (3.2.5)\n",
      "Requirement already satisfied: h5py in /usr/local/lib/python3.6/dist-packages (from allennlp) (2.8.0)\n",
      "Requirement already satisfied: numpydoc>=0.8.0 in /usr/local/lib/python3.6/dist-packages (from allennlp) (0.8.0)\n",
      "Requirement already satisfied: awscli>=1.11.91 in /usr/local/lib/python3.6/dist-packages (from allennlp) (1.16.141)\n",
      "Requirement already satisfied: flask-cors>=3.0.7 in /usr/local/lib/python3.6/dist-packages (from allennlp) (3.0.7)\n",
      "Requirement already satisfied: flaky in /usr/local/lib/python3.6/dist-packages (from allennlp) (3.5.3)\n",
      "Requirement already satisfied: jsonnet>=0.10.0; sys_platform != \"win32\" in /usr/local/lib/python3.6/dist-packages (from allennlp) (0.12.1)\n",
      "Requirement already satisfied: six in /usr/local/lib/python3.6/dist-packages (from responses>=0.7->allennlp) (1.11.0)\n",
      "Requirement already satisfied: murmurhash<1.1.0,>=0.28.0 in /usr/local/lib/python3.6/dist-packages (from spacy<2.2,>=2.0->allennlp) (1.0.2)\n",
      "Requirement already satisfied: dill<0.3,>=0.2 in /usr/local/lib/python3.6/dist-packages (from spacy<2.2,>=2.0->allennlp) (0.2.9)\n",
      "Requirement already satisfied: plac<1.0.0,>=0.9.6 in /usr/local/lib/python3.6/dist-packages (from spacy<2.2,>=2.0->allennlp) (0.9.6)\n",
      "Requirement already satisfied: regex==2018.01.10 in /usr/local/lib/python3.6/dist-packages (from spacy<2.2,>=2.0->allennlp) (2018.1.10)\n",
      "Requirement already satisfied: thinc<6.13.0,>=6.12.1 in /usr/local/lib/python3.6/dist-packages (from spacy<2.2,>=2.0->allennlp) (6.12.1)\n",
      "Requirement already satisfied: preshed<2.1.0,>=2.0.1 in /usr/local/lib/python3.6/dist-packages (from spacy<2.2,>=2.0->allennlp) (2.0.1)\n",
      "Requirement already satisfied: cymem<2.1.0,>=2.0.2 in /usr/local/lib/python3.6/dist-packages (from spacy<2.2,>=2.0->allennlp) (2.0.2)\n",
      "Requirement already satisfied: ujson>=1.35 in /usr/local/lib/python3.6/dist-packages (from spacy<2.2,>=2.0->allennlp) (1.35)\n",
      "Requirement already satisfied: py>=1.5.0 in /usr/local/lib/python3.6/dist-packages (from pytest->allennlp) (1.8.0)\n",
      "Requirement already satisfied: more-itertools>=4.0.0 in /usr/local/lib/python3.6/dist-packages (from pytest->allennlp) (7.0.0)\n",
      "Requirement already satisfied: atomicwrites>=1.0 in /usr/local/lib/python3.6/dist-packages (from pytest->allennlp) (1.3.0)\n",
      "Requirement already satisfied: setuptools in /usr/local/lib/python3.6/dist-packages (from pytest->allennlp) (40.9.0)\n",
      "Requirement already satisfied: pluggy<0.8,>=0.5 in /usr/local/lib/python3.6/dist-packages (from pytest->allennlp) (0.7.1)\n",
      "Requirement already satisfied: attrs>=17.4.0 in /usr/local/lib/python3.6/dist-packages (from pytest->allennlp) (19.1.0)\n",
      "Requirement already satisfied: protobuf>=3.2.0 in /usr/local/lib/python3.6/dist-packages (from tensorboardX>=1.2->allennlp) (3.7.1)\n",
      "Requirement already satisfied: idna<2.7,>=2.5 in /usr/local/lib/python3.6/dist-packages (from requests>=2.18->allennlp) (2.6)\n",
      "Requirement already satisfied: chardet<3.1.0,>=3.0.2 in /usr/local/lib/python3.6/dist-packages (from requests>=2.18->allennlp) (3.0.4)\n",
      "Requirement already satisfied: certifi>=2017.4.17 in /usr/local/lib/python3.6/dist-packages (from requests>=2.18->allennlp) (2019.3.9)\n",
      "Requirement already satisfied: urllib3<1.23,>=1.21.1 in /usr/local/lib/python3.6/dist-packages (from requests>=2.18->allennlp) (1.22)\n",
      "Requirement already satisfied: jmespath<1.0.0,>=0.7.1 in /usr/local/lib/python3.6/dist-packages (from boto3->allennlp) (0.9.4)\n",
      "Requirement already satisfied: s3transfer<0.3.0,>=0.2.0 in /usr/local/lib/python3.6/dist-packages (from boto3->allennlp) (0.2.0)\n",
      "Requirement already satisfied: botocore<1.13.0,>=1.12.130 in /usr/local/lib/python3.6/dist-packages (from boto3->allennlp) (1.12.130)\n",
      "Requirement already satisfied: wcwidth in /usr/local/lib/python3.6/dist-packages (from ftfy->allennlp) (0.1.7)\n",
      "Requirement already satisfied: python-dateutil>=2.1 in /usr/local/lib/python3.6/dist-packages (from matplotlib>=2.2.3->allennlp) (2.5.3)\n",
      "Requirement already satisfied: kiwisolver>=1.0.1 in /usr/local/lib/python3.6/dist-packages (from matplotlib>=2.2.3->allennlp) (1.0.1)\n",
      "Requirement already satisfied: cycler>=0.10 in /usr/local/lib/python3.6/dist-packages (from matplotlib>=2.2.3->allennlp) (0.10.0)\n",
      "Requirement already satisfied: pyparsing!=2.0.4,!=2.1.2,!=2.1.6,>=2.0.1 in /usr/local/lib/python3.6/dist-packages (from matplotlib>=2.2.3->allennlp) (2.4.0)\n",
      "Requirement already satisfied: greenlet>=0.4.14; platform_python_implementation == \"CPython\" in /usr/local/lib/python3.6/dist-packages (from gevent>=1.3.6->allennlp) (0.4.15)\n",
      "Requirement already satisfied: Werkzeug>=0.14 in /usr/local/lib/python3.6/dist-packages (from flask>=1.0.2->allennlp) (0.15.2)\n",
      "Requirement already satisfied: itsdangerous>=0.24 in /usr/local/lib/python3.6/dist-packages (from flask>=1.0.2->allennlp) (1.1.0)\n",
      "Requirement already satisfied: click>=5.1 in /usr/local/lib/python3.6/dist-packages (from flask>=1.0.2->allennlp) (7.0)\n",
      "Requirement already satisfied: Jinja2>=2.10 in /usr/local/lib/python3.6/dist-packages (from flask>=1.0.2->allennlp) (2.10.1)\n",
      "Requirement already satisfied: python-jose<3.0.0 in /usr/local/lib/python3.6/dist-packages (from moto>=1.3.4->allennlp) (2.0.2)\n",
      "Requirement already satisfied: aws-xray-sdk<0.96,>=0.93 in /usr/local/lib/python3.6/dist-packages (from moto>=1.3.4->allennlp) (0.95)\n",
      "Requirement already satisfied: cryptography>=2.3.0 in /usr/local/lib/python3.6/dist-packages (from moto>=1.3.4->allennlp) (2.6.1)\n",
      "Requirement already satisfied: jsondiff==1.1.1 in /usr/local/lib/python3.6/dist-packages (from moto>=1.3.4->allennlp) (1.1.1)\n",
      "Requirement already satisfied: pyaml in /usr/local/lib/python3.6/dist-packages (from moto>=1.3.4->allennlp) (19.4.1)\n",
      "Requirement already satisfied: xmltodict in /usr/local/lib/python3.6/dist-packages (from moto>=1.3.4->allennlp) (0.12.0)\n",
      "Requirement already satisfied: boto>=2.36.0 in /usr/local/lib/python3.6/dist-packages (from moto>=1.3.4->allennlp) (2.49.0)\n",
      "Requirement already satisfied: docker>=2.5.1 in /usr/local/lib/python3.6/dist-packages (from moto>=1.3.4->allennlp) (3.7.2)\n",
      "Requirement already satisfied: mock in /usr/local/lib/python3.6/dist-packages (from moto>=1.3.4->allennlp) (2.0.0)\n",
      "Requirement already satisfied: sphinx>=1.2.3 in /usr/local/lib/python3.6/dist-packages (from numpydoc>=0.8.0->allennlp) (1.8.5)\n",
      "Requirement already satisfied: PyYAML<=3.13,>=3.10 in /usr/local/lib/python3.6/dist-packages (from awscli>=1.11.91->allennlp) (3.13)\n",
      "Requirement already satisfied: rsa<=3.5.0,>=3.1.2 in /usr/local/lib/python3.6/dist-packages (from awscli>=1.11.91->allennlp) (3.4.2)\n",
      "Requirement already satisfied: docutils>=0.10 in /usr/local/lib/python3.6/dist-packages (from awscli>=1.11.91->allennlp) (0.14)\n",
      "Requirement already satisfied: colorama<=0.3.9,>=0.2.5 in /usr/local/lib/python3.6/dist-packages (from awscli>=1.11.91->allennlp) (0.3.9)\n",
      "Requirement already satisfied: cytoolz<0.10,>=0.9.0 in /usr/local/lib/python3.6/dist-packages (from thinc<6.13.0,>=6.12.1->spacy<2.2,>=2.0->allennlp) (0.9.0.1)\n",
      "Requirement already satisfied: wrapt<1.11.0,>=1.10.0 in /usr/local/lib/python3.6/dist-packages (from thinc<6.13.0,>=6.12.1->spacy<2.2,>=2.0->allennlp) (1.10.11)\n",
      "Requirement already satisfied: msgpack-numpy<0.4.4 in /usr/local/lib/python3.6/dist-packages (from thinc<6.13.0,>=6.12.1->spacy<2.2,>=2.0->allennlp) (0.4.3.2)\n",
      "Requirement already satisfied: MarkupSafe>=0.23 in /usr/local/lib/python3.6/dist-packages (from Jinja2>=2.10->flask>=1.0.2->allennlp) (1.1.1)\n",
      "Requirement already satisfied: ecdsa<1.0 in /usr/local/lib/python3.6/dist-packages (from python-jose<3.0.0->moto>=1.3.4->allennlp) (0.13.1)\n",
      "Requirement already satisfied: pycryptodome<4.0.0,>=3.3.1 in /usr/local/lib/python3.6/dist-packages (from python-jose<3.0.0->moto>=1.3.4->allennlp) (3.8.1)\n",
      "Requirement already satisfied: future<1.0 in /usr/local/lib/python3.6/dist-packages (from python-jose<3.0.0->moto>=1.3.4->allennlp) (0.16.0)\n",
      "Requirement already satisfied: jsonpickle in /usr/local/lib/python3.6/dist-packages (from aws-xray-sdk<0.96,>=0.93->moto>=1.3.4->allennlp) (1.1)\n",
      "Requirement already satisfied: cffi!=1.11.3,>=1.8 in /usr/local/lib/python3.6/dist-packages (from cryptography>=2.3.0->moto>=1.3.4->allennlp) (1.12.2)\n",
      "Requirement already satisfied: asn1crypto>=0.21.0 in /usr/local/lib/python3.6/dist-packages (from cryptography>=2.3.0->moto>=1.3.4->allennlp) (0.24.0)\n",
      "Requirement already satisfied: docker-pycreds>=0.4.0 in /usr/local/lib/python3.6/dist-packages (from docker>=2.5.1->moto>=1.3.4->allennlp) (0.4.0)\n",
      "Requirement already satisfied: websocket-client>=0.32.0 in /usr/local/lib/python3.6/dist-packages (from docker>=2.5.1->moto>=1.3.4->allennlp) (0.56.0)\n",
      "Requirement already satisfied: pbr>=0.11 in /usr/local/lib/python3.6/dist-packages (from mock->moto>=1.3.4->allennlp) (5.1.3)\n",
      "Requirement already satisfied: snowballstemmer>=1.1 in /usr/local/lib/python3.6/dist-packages (from sphinx>=1.2.3->numpydoc>=0.8.0->allennlp) (1.2.1)\n",
      "Requirement already satisfied: alabaster<0.8,>=0.7 in /usr/local/lib/python3.6/dist-packages (from sphinx>=1.2.3->numpydoc>=0.8.0->allennlp) (0.7.12)\n",
      "Requirement already satisfied: babel!=2.0,>=1.3 in /usr/local/lib/python3.6/dist-packages (from sphinx>=1.2.3->numpydoc>=0.8.0->allennlp) (2.6.0)\n",
      "Requirement already satisfied: packaging in /usr/local/lib/python3.6/dist-packages (from sphinx>=1.2.3->numpydoc>=0.8.0->allennlp) (19.0)\n",
      "Requirement already satisfied: imagesize in /usr/local/lib/python3.6/dist-packages (from sphinx>=1.2.3->numpydoc>=0.8.0->allennlp) (1.1.0)\n",
      "Requirement already satisfied: Pygments>=2.0 in /usr/local/lib/python3.6/dist-packages (from sphinx>=1.2.3->numpydoc>=0.8.0->allennlp) (2.1.3)\n",
      "Requirement already satisfied: sphinxcontrib-websupport in /usr/local/lib/python3.6/dist-packages (from sphinx>=1.2.3->numpydoc>=0.8.0->allennlp) (1.1.0)\n",
      "Requirement already satisfied: pyasn1>=0.1.3 in /usr/local/lib/python3.6/dist-packages (from rsa<=3.5.0,>=3.1.2->awscli>=1.11.91->allennlp) (0.4.5)\n",
      "Requirement already satisfied: toolz>=0.8.0 in /usr/local/lib/python3.6/dist-packages (from cytoolz<0.10,>=0.9.0->thinc<6.13.0,>=6.12.1->spacy<2.2,>=2.0->allennlp) (0.9.0)\n",
      "Requirement already satisfied: pycparser in /usr/local/lib/python3.6/dist-packages (from cffi!=1.11.3,>=1.8->cryptography>=2.3.0->moto>=1.3.4->allennlp) (2.19)\n"
     ]
    }
   ],
   "source": [
    "!pip install allennlp # for getting elmo embeddings"
   ]
  },
  {
   "cell_type": "code",
   "execution_count": 0,
   "metadata": {
    "colab": {},
    "colab_type": "code",
    "id": "v797CgdCsZLu",
    "scrolled": true
   },
   "outputs": [],
   "source": [
    "import numpy as np\n",
    "import pandas as pd\n",
    "import matplotlib.pyplot as plt\n",
    "import time\n",
    "import csv\n",
    "import torch\n",
    "import torch.nn as nn\n",
    "import torch.nn.functional as func\n",
    "import torch.optim as optim\n",
    "import torch.autograd as autograd\n",
    "import torch.utils.data as utils\n",
    "import fastai\n",
    "from fastai import *\n",
    "from fastai.text import * \n",
    "from functools import partial\n",
    "import io\n",
    "import os\n",
    "import nltk\n",
    "from nltk.corpus import stopwords \n",
    "from sklearn.model_selection import train_test_split\n",
    "import allennlp\n",
    "from sklearn.metrics import accuracy_score\n",
    "from sklearn.metrics import f1_score"
   ]
  },
  {
   "cell_type": "code",
   "execution_count": 2,
   "metadata": {
    "colab": {
     "base_uri": "https://localhost:8080/",
     "height": 54
    },
    "colab_type": "code",
    "id": "2FAFy2FLsZMQ",
    "outputId": "8838cdab-ba7a-4a9f-ee2d-fe5dc4122c51"
   },
   "outputs": [
    {
     "name": "stdout",
     "output_type": "stream",
     "text": [
      "using device: cuda\n"
     ]
    }
   ],
   "source": [
    "USE_GPU = True\n",
    "\n",
    "dtype = torch.float32\n",
    "\n",
    "if USE_GPU and torch.cuda.is_available():\n",
    "    device = torch.device('cuda')\n",
    "else:\n",
    "    device = torch.device('cpu')\n",
    "print('using device:', device)"
   ]
  },
  {
   "cell_type": "code",
   "execution_count": 3,
   "metadata": {
    "colab": {
     "base_uri": "https://localhost:8080/",
     "height": 94
    },
    "colab_type": "code",
    "id": "iBpU1X8o_SLg",
    "outputId": "39e52c88-b84c-4e8a-8f9c-c69e44adcc34"
   },
   "outputs": [
    {
     "name": "stdout",
     "output_type": "stream",
     "text": [
      "Drive already mounted at /content/gdrive; to attempt to forcibly remount, call drive.mount(\"/content/gdrive\", force_remount=True).\n"
     ]
    }
   ],
   "source": [
    "from google.colab import drive\n",
    "drive.mount('/content/gdrive')"
   ]
  },
  {
   "cell_type": "markdown",
   "metadata": {
    "colab_type": "text",
    "id": "woRXqb1PHbhF"
   },
   "source": [
    "# ELMO FOR TEXT CLASSIFICSTION\n",
    "\n",
    "Get toxic [dataset](https://www.kaggle.com/ra2041/toxic-dataset) + preprocess"
   ]
  },
  {
   "cell_type": "code",
   "execution_count": 0,
   "metadata": {
    "colab": {},
    "colab_type": "code",
    "id": "w9clVK_-sZND"
   },
   "outputs": [],
   "source": [
    "data = pd.read_csv(\"gdrive/My Drive/Colab Notebooks/data/toxic.csv\", encoding=\"latin1\")"
   ]
  },
  {
   "cell_type": "code",
   "execution_count": 79,
   "metadata": {
    "colab": {
     "base_uri": "https://localhost:8080/",
     "height": 54
    },
    "colab_type": "code",
    "id": "lB6uu75MlNWV",
    "outputId": "c61f94ef-8c3e-4d9c-9bff-b1f8978ea3b9"
   },
   "outputs": [
    {
     "data": {
      "text/plain": [
       "array(['id', 'comment_text', 'toxic', 'severe_toxic', 'obscene', 'threat', 'insult', 'identity_hate'], dtype=object)"
      ]
     },
     "execution_count": 79,
     "metadata": {
      "tags": []
     },
     "output_type": "execute_result"
    }
   ],
   "source": [
    "data.columns.values"
   ]
  },
  {
   "cell_type": "code",
   "execution_count": 0,
   "metadata": {
    "colab": {},
    "colab_type": "code",
    "id": "R9GMwjdcmLTr"
   },
   "outputs": [],
   "source": [
    "data = data.drop(data.columns.values[3:], axis=1)\n",
    "data = data.drop(['id'],axis = 1)\n",
    "data = data.loc[:5000]"
   ]
  },
  {
   "cell_type": "code",
   "execution_count": 0,
   "metadata": {
    "colab": {},
    "colab_type": "code",
    "id": "a1C16cGSzAx5"
   },
   "outputs": [],
   "source": [
    "data['comment_text'] = data['comment_text'].str.replace(\"[^a-zA-Z]\", \" \")# delete all special symbols, numbers, punctuation"
   ]
  },
  {
   "cell_type": "code",
   "execution_count": 0,
   "metadata": {
    "colab": {},
    "colab_type": "code",
    "id": "J08zG6fO3tNt"
   },
   "outputs": [],
   "source": [
    "max_len = 50\n",
    "def make_padded(x):\n",
    "    result = []\n",
    "    for i in range(max_len):\n",
    "        try:\n",
    "            result.append(x[i])\n",
    "        except:\n",
    "            result.append(\"__PAD__\")\n",
    "    return result"
   ]
  },
  {
   "cell_type": "markdown",
   "metadata": {
    "colab_type": "text",
    "id": "VHpXQebSBiiY"
   },
   "source": [
    "Make paddings for all texts"
   ]
  },
  {
   "cell_type": "code",
   "execution_count": 83,
   "metadata": {
    "colab": {
     "base_uri": "https://localhost:8080/",
     "height": 604
    },
    "colab_type": "code",
    "id": "Oh4xBcdWz3P6",
    "outputId": "145e5213-1e0c-47ae-ccd2-2b37ec774220"
   },
   "outputs": [
    {
     "name": "stdout",
     "output_type": "stream",
     "text": [
      "0\n"
     ]
    },
    {
     "name": "stderr",
     "output_type": "stream",
     "text": [
      "/usr/local/lib/python3.6/dist-packages/ipykernel_launcher.py:5: SettingWithCopyWarning: \n",
      "A value is trying to be set on a copy of a slice from a DataFrame\n",
      "\n",
      "See the caveats in the documentation: http://pandas.pydata.org/pandas-docs/stable/indexing.html#indexing-view-versus-copy\n",
      "  \"\"\"\n"
     ]
    },
    {
     "name": "stdout",
     "output_type": "stream",
     "text": [
      "200\n",
      "400\n",
      "600\n",
      "800\n",
      "1000\n",
      "1200\n",
      "1400\n",
      "1600\n",
      "1800\n",
      "2000\n",
      "2200\n",
      "2400\n",
      "2600\n",
      "2800\n",
      "3000\n",
      "3200\n",
      "3400\n",
      "3600\n",
      "3800\n",
      "4000\n",
      "4200\n",
      "4400\n",
      "4600\n",
      "4800\n",
      "5000\n"
     ]
    }
   ],
   "source": [
    "data['paddings'] = ''\n",
    "for i in range(len(data)):\n",
    "  if i % 200 == 0:\n",
    "    print(i)\n",
    "  data['paddings'][i] = make_padded(data['comment_text'][i].split())"
   ]
  },
  {
   "cell_type": "markdown",
   "metadata": {
    "colab_type": "text",
    "id": "X7r5QfbBnbNY"
   },
   "source": [
    "## Get embeddings from allennlp"
   ]
  },
  {
   "cell_type": "code",
   "execution_count": 118,
   "metadata": {
    "colab": {
     "base_uri": "https://localhost:8080/",
     "height": 54
    },
    "colab_type": "code",
    "id": "F4rdHmCKnaKJ",
    "outputId": "04b21a98-0544-4475-ce62-709846e2469c"
   },
   "outputs": [
    {
     "name": "stdout",
     "output_type": "stream",
     "text": [
      "Better speed can be achieved with apex installed from https://www.github.com/nvidia/apex.\n"
     ]
    }
   ],
   "source": [
    "from allennlp.modules.elmo import Elmo, batch_to_ids\n",
    "\n",
    "options_file = \"https://s3-us-west-2.amazonaws.com/allennlp/models/elmo/2x4096_512_2048cnn_2xhighway/elmo_2x4096_512_2048cnn_2xhighway_options.json\"\n",
    "weight_file = \"https://s3-us-west-2.amazonaws.com/allennlp/models/elmo/2x4096_512_2048cnn_2xhighway/elmo_2x4096_512_2048cnn_2xhighway_weights.hdf5\"\n",
    "\n",
    "# Compute two different representation for each token.\n",
    "# Each representation is a linear weighted combination for the\n",
    "# 3 layers in ELMo (i.e., charcnn, the outputs of the two BiLSTM))\n",
    "elmo = Elmo(options_file, weight_file, 1, dropout=0)"
   ]
  },
  {
   "cell_type": "code",
   "execution_count": 0,
   "metadata": {
    "colab": {},
    "colab_type": "code",
    "id": "F1j43D89nafD"
   },
   "outputs": [],
   "source": [
    "def embed(batch):\n",
    "  character_ids = batch_to_ids(batch)\n",
    "  return elmo(character_ids)"
   ]
  },
  {
   "cell_type": "code",
   "execution_count": 0,
   "metadata": {
    "colab": {},
    "colab_type": "code",
    "id": "ToVI26gvBxyz"
   },
   "outputs": [],
   "source": [
    "class Batch:\n",
    "    def __init__(self, X, y):\n",
    "        self.X = X\n",
    "        self.y = y\n",
    "        self.current = 0\n",
    "        \n",
    "    def make_batch(self, batch_size):\n",
    "        if self.current + batch_size >= len(self.X):\n",
    "            self.current = 0\n",
    "        \n",
    "        sample = embed(self.X[self.current:self.current+batch_size])['elmo_representations'][0].cuda()# batch * 50 * 1024\n",
    "        pred = torch.tensor((self.y[self.current:self.current+batch_size]).values).cuda()\n",
    "        self.current = self.current + batch_size\n",
    "        return sample, pred"
   ]
  },
  {
   "cell_type": "code",
   "execution_count": 0,
   "metadata": {
    "colab": {},
    "colab_type": "code",
    "id": "nHjiqcApB0Sn"
   },
   "outputs": [],
   "source": [
    "batch_size = 64\n",
    "lr = 0.01\n",
    "emb_size = 1024\n",
    "hidden_size = 256\n",
    "output_size = 2\n",
    "n_layers = 2\n",
    "n_batchs = 100\n",
    "print_every = 1"
   ]
  },
  {
   "cell_type": "code",
   "execution_count": 0,
   "metadata": {
    "colab": {},
    "colab_type": "code",
    "id": "me9ge9k6C4Ua"
   },
   "outputs": [],
   "source": [
    "class Net(nn.Module):\n",
    "    def __init__(self, emb_size, hidden_size, output_size, n_layers=1):\n",
    "        super(Net, self).__init__()\n",
    "        \n",
    "        self.emb_size = emb_size\n",
    "        self.hidden_size = hidden_size\n",
    "        self.output_size = output_size\n",
    "        self.n_layers = n_layers\n",
    "        \n",
    "        self.lstm = nn.LSTM(self.emb_size, self.hidden_size, self.n_layers, dropout = 0.2)\n",
    "        self.decoder = nn.Linear(self.hidden_size, self.output_size)\n",
    "        self.soft = nn.Softmax(dim=1)\n",
    "        \n",
    "    def forward(self, x, hidden):\n",
    "        output, (final_hidden_state, final_cell_state) = self.lstm(x, hidden)\n",
    "        final_output = self.decoder(output[-1]) # final_hidden_state.size() = (1, batch_size, hidden_size) & final_output.size() = (batch_size, output_size)\n",
    "        final_output = self.soft(final_output)\n",
    "        return final_output\n",
    "      \n",
    "    def init_hidden(self, batch_size):\n",
    "        return torch.zeros(self.n_layers, batch_size, self.hidden_size, device = device).cuda(),\\\n",
    "            torch.zeros(self.n_layers, batch_size, self.hidden_size, device = device).cuda()\n",
    "    \n",
    "    def predict(x, hidden):\n",
    "        batch_size = x.size(0)\n",
    "        out, hidden = self.lstm(x.view(1, batch_size, -1), hidden)\n",
    "        out = self.decoder(out.view(batch_size, -1))\n",
    "        return out, hidden"
   ]
  },
  {
   "cell_type": "code",
   "execution_count": 0,
   "metadata": {
    "colab": {},
    "colab_type": "code",
    "id": "T0enfNf-DRpM"
   },
   "outputs": [],
   "source": [
    "model = Net(emb_size, hidden_size, output_size, n_layers).to(device=device)\n",
    "optimizer = torch.optim.Adam(model.parameters(), lr=lr)\n",
    "criterion = nn.CrossEntropyLoss()\n",
    "loss = torch.tensor(0)\n",
    "b = Batch(data['paddings'], data['toxic'])"
   ]
  },
  {
   "cell_type": "code",
   "execution_count": 0,
   "metadata": {
    "colab": {},
    "colab_type": "code",
    "id": "Wi7YIeMLC-1G"
   },
   "outputs": [],
   "source": [
    "def timeSince(since):\n",
    "    now = time.clock()\n",
    "    s = now - since\n",
    "    m = math.floor(s / 60)\n",
    "    s -= m * 60\n",
    "    return '%dm %ds' % (m, s)"
   ]
  },
  {
   "cell_type": "code",
   "execution_count": 0,
   "metadata": {
    "colab": {},
    "colab_type": "code",
    "id": "InazIH_YEPI9"
   },
   "outputs": [],
   "source": [
    "def train(inp, target):\n",
    "    model.zero_grad()\n",
    "    loss = 0\n",
    "    inp = inp.permute(1, 0, 2)#words in sequence x batch_size x embbeding\n",
    "    hidden = model.init_hidden(inp.shape[1])\n",
    "    model.train()\n",
    "    \n",
    "    out = model(inp, hidden)\n",
    "    \n",
    "    loss = criterion(out, target)\n",
    "    loss.backward()\n",
    "    optimizer.step()\n",
    "    \n",
    "    return loss"
   ]
  },
  {
   "cell_type": "code",
   "execution_count": 0,
   "metadata": {
    "colab": {},
    "colab_type": "code",
    "id": "Wl1lQjGKEj6p"
   },
   "outputs": [],
   "source": [
    "losses = []"
   ]
  },
  {
   "cell_type": "code",
   "execution_count": 401,
   "metadata": {
    "colab": {
     "base_uri": "https://localhost:8080/",
     "height": 3310
    },
    "colab_type": "code",
    "id": "NGeBMT8jEmxj",
    "outputId": "6a18a492-726d-4fe1-905e-6a5f525bdddf"
   },
   "outputs": [
    {
     "name": "stdout",
     "output_type": "stream",
     "text": [
      "bat 1,   \tloss 0.6950652599334717\n",
      "time passed 0m 18s:\n",
      "bat 2,   \tloss 0.37659063935279846\n",
      "time passed 0m 35s:\n",
      "bat 3,   \tloss 0.3914007842540741\n",
      "time passed 0m 52s:\n",
      "bat 4,   \tloss 0.4070131480693817\n",
      "time passed 1m 9s:\n",
      "bat 5,   \tloss 0.43826183676719666\n",
      "time passed 1m 26s:\n",
      "bat 6,   \tloss 0.39138689637184143\n",
      "time passed 1m 45s:\n",
      "bat 7,   \tloss 0.42263686656951904\n",
      "time passed 2m 2s:\n",
      "bat 8,   \tloss 0.37576189637184143\n",
      "time passed 2m 19s:\n",
      "bat 9,   \tloss 0.3757617175579071\n",
      "time passed 2m 36s:\n",
      "bat 10,   \tloss 0.4695117473602295\n",
      "time passed 2m 54s:\n",
      "bat 11,   \tloss 0.4538867771625519\n",
      "time passed 3m 12s:\n",
      "bat 12,   \tloss 0.4538867175579071\n",
      "time passed 3m 31s:\n",
      "bat 13,   \tloss 0.4226367473602295\n",
      "time passed 3m 49s:\n",
      "bat 14,   \tloss 0.4070117175579071\n",
      "time passed 4m 7s:\n",
      "bat 15,   \tloss 0.40701165795326233\n",
      "time passed 4m 26s:\n",
      "bat 16,   \tloss 0.4538867473602295\n",
      "time passed 4m 45s:\n",
      "bat 17,   \tloss 0.3757616877555847\n",
      "time passed 5m 4s:\n",
      "bat 18,   \tloss 0.3913867175579071\n",
      "time passed 5m 22s:\n",
      "bat 19,   \tloss 0.3601367175579071\n",
      "time passed 5m 41s:\n",
      "bat 20,   \tloss 0.4070117473602295\n",
      "time passed 5m 59s:\n",
      "bat 21,   \tloss 0.4382617473602295\n",
      "time passed 6m 17s:\n",
      "bat 22,   \tloss 0.3757617175579071\n",
      "time passed 6m 35s:\n",
      "bat 23,   \tloss 0.3913866877555847\n",
      "time passed 6m 53s:\n",
      "bat 24,   \tloss 0.3913866877555847\n",
      "time passed 7m 13s:\n",
      "bat 25,   \tloss 0.5007617473602295\n",
      "time passed 7m 30s:\n",
      "bat 26,   \tloss 0.4695117473602295\n",
      "time passed 7m 48s:\n",
      "bat 27,   \tloss 0.4695117771625519\n",
      "time passed 8m 6s:\n",
      "bat 28,   \tloss 0.36013665795326233\n",
      "time passed 8m 26s:\n",
      "bat 29,   \tloss 0.37576165795326233\n",
      "time passed 8m 45s:\n",
      "bat 30,   \tloss 0.3913867175579071\n",
      "time passed 9m 3s:\n",
      "bat 31,   \tloss 0.3913866877555847\n",
      "time passed 9m 21s:\n",
      "bat 32,   \tloss 0.3913866877555847\n",
      "time passed 9m 40s:\n",
      "bat 33,   \tloss 0.4070117175579071\n",
      "time passed 10m 0s:\n",
      "bat 34,   \tloss 0.4226367175579071\n",
      "time passed 10m 18s:\n",
      "bat 35,   \tloss 0.4538867175579071\n",
      "time passed 10m 36s:\n",
      "bat 36,   \tloss 0.39138665795326233\n",
      "time passed 10m 54s:\n",
      "bat 37,   \tloss 0.4382617473602295\n",
      "time passed 11m 13s:\n",
      "bat 38,   \tloss 0.4382617771625519\n",
      "time passed 11m 31s:\n",
      "bat 39,   \tloss 0.4538867473602295\n",
      "time passed 11m 49s:\n",
      "bat 40,   \tloss 0.34451165795326233\n",
      "time passed 12m 7s:\n",
      "bat 41,   \tloss 0.5163867473602295\n",
      "time passed 12m 27s:\n",
      "bat 42,   \tloss 0.4226367175579071\n",
      "time passed 12m 45s:\n",
      "bat 43,   \tloss 0.4538867473602295\n",
      "time passed 13m 3s:\n",
      "bat 44,   \tloss 0.36013665795326233\n",
      "time passed 13m 21s:\n",
      "bat 45,   \tloss 0.3601366877555847\n",
      "time passed 13m 40s:\n",
      "bat 46,   \tloss 0.4538867771625519\n",
      "time passed 13m 58s:\n",
      "bat 47,   \tloss 0.4070117473602295\n",
      "time passed 14m 16s:\n",
      "bat 48,   \tloss 0.4070116877555847\n",
      "time passed 14m 34s:\n",
      "bat 49,   \tloss 0.4226367175579071\n",
      "time passed 14m 52s:\n",
      "bat 50,   \tloss 0.4851367473602295\n",
      "time passed 15m 13s:\n",
      "bat 51,   \tloss 0.4070117473602295\n",
      "time passed 15m 31s:\n",
      "bat 52,   \tloss 0.5007617473602295\n",
      "time passed 15m 49s:\n",
      "bat 53,   \tloss 0.3601367175579071\n",
      "time passed 16m 7s:\n",
      "bat 54,   \tloss 0.4070117175579071\n",
      "time passed 16m 27s:\n",
      "bat 55,   \tloss 0.4070117473602295\n",
      "time passed 16m 45s:\n",
      "bat 56,   \tloss 0.4382617175579071\n",
      "time passed 17m 2s:\n",
      "bat 57,   \tloss 0.3757616877555847\n",
      "time passed 17m 20s:\n",
      "bat 58,   \tloss 0.3757617175579071\n",
      "time passed 17m 39s:\n",
      "bat 59,   \tloss 0.3601366877555847\n",
      "time passed 17m 58s:\n",
      "bat 60,   \tloss 0.3913867175579071\n",
      "time passed 18m 16s:\n",
      "bat 61,   \tloss 0.3757616877555847\n",
      "time passed 18m 34s:\n",
      "bat 62,   \tloss 0.4538867771625519\n",
      "time passed 18m 53s:\n",
      "bat 63,   \tloss 0.37576165795326233\n",
      "time passed 19m 12s:\n",
      "bat 64,   \tloss 0.4695117473602295\n",
      "time passed 19m 30s:\n",
      "bat 65,   \tloss 0.3757616877555847\n",
      "time passed 19m 48s:\n",
      "bat 66,   \tloss 0.34451165795326233\n",
      "time passed 20m 6s:\n",
      "bat 67,   \tloss 0.4538867473602295\n",
      "time passed 20m 27s:\n",
      "bat 68,   \tloss 0.5476367473602295\n",
      "time passed 20m 45s:\n",
      "bat 69,   \tloss 0.36013665795326233\n",
      "time passed 21m 2s:\n",
      "bat 70,   \tloss 0.34451165795326233\n",
      "time passed 21m 20s:\n",
      "bat 71,   \tloss 0.4226367175579071\n",
      "time passed 21m 39s:\n",
      "bat 72,   \tloss 0.3913867175579071\n",
      "time passed 21m 58s:\n",
      "bat 73,   \tloss 0.4382617175579071\n",
      "time passed 22m 16s:\n",
      "bat 74,   \tloss 0.4538867771625519\n",
      "time passed 22m 34s:\n",
      "bat 75,   \tloss 0.4226367473602295\n",
      "time passed 22m 52s:\n",
      "bat 76,   \tloss 0.3757616877555847\n",
      "time passed 23m 12s:\n",
      "bat 77,   \tloss 0.4382617175579071\n",
      "time passed 23m 30s:\n",
      "bat 78,   \tloss 0.3601367175579071\n",
      "time passed 23m 48s:\n",
      "bat 79,   \tloss 0.4851367771625519\n",
      "time passed 24m 6s:\n",
      "bat 80,   \tloss 0.3757616877555847\n",
      "time passed 24m 25s:\n",
      "bat 81,   \tloss 0.3913866877555847\n",
      "time passed 24m 44s:\n",
      "bat 82,   \tloss 0.4070117175579071\n",
      "time passed 25m 2s:\n",
      "bat 83,   \tloss 0.4382617175579071\n",
      "time passed 25m 19s:\n",
      "bat 84,   \tloss 0.3913866877555847\n",
      "time passed 25m 39s:\n",
      "bat 85,   \tloss 0.4226367175579071\n",
      "time passed 25m 59s:\n",
      "bat 86,   \tloss 0.37576165795326233\n",
      "time passed 26m 17s:\n",
      "bat 87,   \tloss 0.3757617175579071\n",
      "time passed 26m 35s:\n",
      "bat 88,   \tloss 0.4695117473602295\n",
      "time passed 26m 53s:\n",
      "bat 89,   \tloss 0.4538867771625519\n",
      "time passed 27m 12s:\n",
      "bat 90,   \tloss 0.4538867175579071\n",
      "time passed 27m 30s:\n",
      "bat 91,   \tloss 0.4226367473602295\n",
      "time passed 27m 48s:\n",
      "bat 92,   \tloss 0.4070117175579071\n",
      "time passed 28m 6s:\n",
      "bat 93,   \tloss 0.40701165795326233\n",
      "time passed 28m 25s:\n",
      "bat 94,   \tloss 0.4538867473602295\n",
      "time passed 28m 44s:\n",
      "bat 95,   \tloss 0.3757616877555847\n",
      "time passed 29m 3s:\n",
      "bat 96,   \tloss 0.3913867175579071\n",
      "time passed 29m 21s:\n",
      "bat 97,   \tloss 0.3601367175579071\n",
      "time passed 29m 39s:\n",
      "bat 98,   \tloss 0.4070117473602295\n",
      "time passed 29m 58s:\n",
      "bat 99,   \tloss 0.4382617473602295\n",
      "time passed 30m 16s:\n",
      "bat 100,   \tloss 0.3757617175579071\n",
      "time passed 30m 35s:\n"
     ]
    }
   ],
   "source": [
    "start_time = time.clock()\n",
    "for bat in range(1, n_batchs + 1):\n",
    "    loss = train(*b.make_batch(batch_size))\n",
    "    losses.append(loss)\n",
    "    if bat % print_every == 0:\n",
    "        print('bat {},   \\tloss {}'.format(bat, losses[-1]))\n",
    "        print('time passed %s:' %(timeSince(start_time)))\n",
    "        "
   ]
  },
  {
   "cell_type": "code",
   "execution_count": 402,
   "metadata": {
    "colab": {
     "base_uri": "https://localhost:8080/",
     "height": 459
    },
    "colab_type": "code",
    "id": "72CV9w80q6PJ",
    "outputId": "baf963b0-8c19-46b6-fa0d-1d25b57f9642"
   },
   "outputs": [
    {
     "data": {
      "image/png": "[encoded data removed]",
      "text/plain": [
       "<Figure size 864x504 with 1 Axes>"
      ]
     },
     "metadata": {
      "tags": []
     },
     "output_type": "display_data"
    }
   ],
   "source": [
    "plt.figure(figsize=(12,7))\n",
    "plt.plot(range(len(losses)), losses)\n",
    "plt.xlabel(\"$batch$\", fontsize=25)\n",
    "plt.ylabel(\"$loss$\", fontsize=25)\n",
    "plt.show()"
   ]
  },
  {
   "cell_type": "markdown",
   "metadata": {
    "colab_type": "text",
    "id": "vYuarjDQir63"
   },
   "source": [
    "## Evaluate model"
   ]
  },
  {
   "cell_type": "code",
   "execution_count": 0,
   "metadata": {
    "colab": {},
    "colab_type": "code",
    "id": "12QXuV9rmSlT"
   },
   "outputs": [],
   "source": [
    "def predict(inp, target):\n",
    "  inp = inp.permute(1, 0, 2)#words in sequence x batch_size x embbeding\n",
    "  hidden = model.init_hidden(inp.shape[1])\n",
    "  model.eval()\n",
    "  with torch.no_grad():\n",
    "    out = model(inp, hidden)\n",
    "    pred = []\n",
    "    for i in range(inp.shape[1]):\n",
    "      if out[i][0] > out[i][1]:\n",
    "        pred.append(0)\n",
    "      else: \n",
    "        pred.append(1)\n",
    "    print(target.cpu().detach().numpy().sum())\n",
    "    print(accuracy_score(target.cpu().detach().numpy(),pred))\n",
    "    print(f1_score(target.cpu().detach().numpy(),pred, average='macro'))"
   ]
  },
  {
   "cell_type": "code",
   "execution_count": 415,
   "metadata": {
    "colab": {
     "base_uri": "https://localhost:8080/",
     "height": 142
    },
    "colab_type": "code",
    "id": "_EpbH0ND1ydz",
    "outputId": "a1c3eaa9-4d9e-4362-bcb5-d72c204c2864"
   },
   "outputs": [
    {
     "name": "stdout",
     "output_type": "stream",
     "text": [
      "8\n",
      "0.92\n",
      "0.4791666666666667\n"
     ]
    },
    {
     "name": "stderr",
     "output_type": "stream",
     "text": [
      "/usr/local/lib/python3.6/dist-packages/sklearn/metrics/classification.py:1143: UndefinedMetricWarning: F-score is ill-defined and being set to 0.0 in labels with no predicted samples.\n",
      "  'precision', 'predicted', average, warn_for)\n"
     ]
    }
   ],
   "source": [
    "predict(*b.make_batch(100))"
   ]
  },
  {
   "cell_type": "markdown",
   "metadata": {
    "colab": {},
    "colab_type": "code",
    "id": "S9Du4EJt2Hme"
   },
   "source": [
    "in train data there was too many untoxic texts(("
   ]
  }
 ],
 "metadata": {
  "accelerator": "GPU",
  "colab": {
   "name": "task4_3_transfer_learning.ipynb",
   "provenance": [],
   "toc_visible": true,
   "version": "0.3.2"
  },
  "kernelspec": {
   "display_name": "Python 3",
   "language": "python",
   "name": "python3"
  },
  "language_info": {
   "codemirror_mode": {
    "name": "ipython",
    "version": 3
   },
   "file_extension": ".py",
   "mimetype": "text/x-python",
   "name": "python",
   "nbconvert_exporter": "python",
   "pygments_lexer": "ipython3",
   "version": "3.6.4"
  }
 },
 "nbformat": 4,
 "nbformat_minor": 1
}
