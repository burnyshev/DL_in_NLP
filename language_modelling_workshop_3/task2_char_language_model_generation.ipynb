{
 "cells": [
  {
   "cell_type": "markdown",
   "metadata": {
    "colab_type": "text",
    "id": "vBS5HLjWh3vW"
   },
   "source": [
    "## Посимвольная языковая модель. Часть 2.\n",
    "\n",
    "В этом задании Вам нужно использовать написанную языковую модель для генерации воображаемых какслов.\n",
    "\n",
    "**В процессе написания Вам нужно решить следующие проблемы**:\n",
    "    \n",
    "* как запоминать изменившееся состояние модели и передавать его на следующий временной шаг.\n",
    "* что будет начальным состоянием модели.\n",
    "* как понять, что слово закончилось и нужно прекратить генерацию.\n",
    "\n",
    "**Результаты**:\n",
    "\n",
    "* генератор слов на основе обученной посимвольной модели\n",
    "* посимвольные вероятности сгенерированных слов\n",
    "\n",
    "**Дополнительно**:\n",
    "\n",
    "* ускорение модели за счёт побатчевой генерации"
   ]
  },
  {
   "cell_type": "code",
   "execution_count": 0,
   "metadata": {
    "colab": {},
    "colab_type": "code",
    "id": "Fkl-OxXFh3va"
   },
   "outputs": [],
   "source": [
    "# it is better to do all imports at the first cell\n",
    "import numpy as np\n",
    "import torch\n",
    "import torch.nn as nn\n",
    "import torch.nn.functional as func\n",
    "from torch.autograd import Variable\n",
    "import random\n",
    "import matplotlib.pyplot as plt\n",
    "import torch.utils.data as utils\n",
    "import time\n",
    "import math"
   ]
  },
  {
   "cell_type": "code",
   "execution_count": 176,
   "metadata": {
    "colab": {
     "base_uri": "https://localhost:8080/",
     "height": 34
    },
    "colab_type": "code",
    "id": "vH9SM6IVq_rl",
    "outputId": "bbb7676b-65a0-4d65-c80e-e794f3519eee"
   },
   "outputs": [
    {
     "name": "stdout",
     "output_type": "stream",
     "text": [
      "using device: cuda\n"
     ]
    }
   ],
   "source": [
    "USE_GPU = True\n",
    "\n",
    "dtype = torch.float32\n",
    "\n",
    "if USE_GPU and torch.cuda.is_available():\n",
    "    device = torch.device('cuda')\n",
    "else:\n",
    "    device = torch.device('cpu')\n",
    "print('using device:', device)"
   ]
  },
  {
   "cell_type": "code",
   "execution_count": 177,
   "metadata": {
    "colab": {
     "base_uri": "https://localhost:8080/",
     "height": 74
    },
    "colab_type": "code",
    "id": "iKxbv9SJXe2O",
    "outputId": "6bea57e3-d7dd-4c5e-889b-7c937cbcd83f"
   },
   "outputs": [
    {
     "name": "stdout",
     "output_type": "stream",
     "text": [
      "Drive already mounted at /content/gdrive; to attempt to forcibly remount, call drive.mount(\"/content/gdrive\", force_remount=True).\n"
     ]
    }
   ],
   "source": [
    "from google.colab import drive\n",
    "drive.mount('/content/gdrive')"
   ]
  },
  {
   "cell_type": "code",
   "execution_count": 0,
   "metadata": {
    "colab": {},
    "colab_type": "code",
    "id": "nxifOcccrExu"
   },
   "outputs": [],
   "source": [
    "!wget https://raw.githubusercontent.com/sigmorphon/conll2018/master/task1/surprise/russian-train-high\n",
    "!wget https://raw.githubusercontent.com/sigmorphon/conll2018/master/task1/surprise/russian-dev\n",
    "!wget https://raw.githubusercontent.com/sigmorphon/conll2018/master/task1/surprise/russian-test"
   ]
  },
  {
   "cell_type": "markdown",
   "metadata": {
    "colab_type": "text",
    "id": "3F4avF63g838"
   },
   "source": [
    "Для каждого слова будем применять посимвольную генерацию, на каждом шаге входные данные: current letter + hidden state\n",
    "Затем с помощью crossentropyloss считаем loss\n",
    "\n",
    "На тесте будем передавать начальную букву, вероятности считаем софтмаксом"
   ]
  },
  {
   "cell_type": "code",
   "execution_count": 0,
   "metadata": {
    "colab": {},
    "colab_type": "code",
    "id": "vGtebK9ih3vj"
   },
   "outputs": [],
   "source": [
    "def read_dataset(infile):\n",
    "    words, tags = [], []\n",
    "    with open(infile, \"r\", encoding=\"utf8\") as f:\n",
    "        for line in f:\n",
    "            line = line.strip()\n",
    "            splitted = line.split(\"\\t\")\n",
    "            if len(splitted) != 3:\n",
    "                continue\n",
    "            words.append(splitted[0].lower())\n",
    "            tags.append(splitted[2])\n",
    "    return words, tags\n",
    "\n",
    "train_words, train_tags = read_dataset(\"russian-train-high\")\n",
    "dev_words, dev_tags = read_dataset(\"russian-dev\")\n",
    "test_words, test_tags = read_dataset(\"russian-test\")"
   ]
  },
  {
   "cell_type": "markdown",
   "metadata": {
    "colab_type": "text",
    "id": "WtuoPaphDu31"
   },
   "source": [
    "## Vocabulary  + batcher"
   ]
  },
  {
   "cell_type": "code",
   "execution_count": 0,
   "metadata": {
    "colab": {},
    "colab_type": "code",
    "id": "VUxtuyTMh3vv"
   },
   "outputs": [],
   "source": [
    "AUXILIARY = {'<END>'}"
   ]
  },
  {
   "cell_type": "code",
   "execution_count": 0,
   "metadata": {
    "colab": {},
    "colab_type": "code",
    "id": "RvHpS3ESh3vy"
   },
   "outputs": [],
   "source": [
    "class Vocabulary:\n",
    "    def fit(self, data):\n",
    "        \"\"\"Extract unique symbols from the data, make itos (item to string) and stoi (string to index) objects\"\"\"\n",
    "        symbols = set(x for elem in data for x in elem)\n",
    "        self._symbols = AUXILIARY.copy()\n",
    "        self._symbols.update(symbols)\n",
    "        self._symbols = sorted(self._symbols)\n",
    "        # Запомните следующую строчку кода - она нужна примерно всегда\n",
    "        self._symbol_codes = {s: i for i, s in enumerate(self._symbols)}# символ - индекс\n",
    "        self._codes_symbol = {v: k for k, v in self._symbol_codes.items()}\n",
    "        # \n",
    "        self.corpus = self.transform(data)\n",
    "        self.longest = max(len(i) for i in self.corpus)\n",
    "        self.paddings = [i + [self._symbol_codes['<END>']]*(self.longest - len(i)+1) for i in self.corpus]\n",
    "        self.longest = max(len(i) for i in self.paddings)\n",
    "        return self\n",
    "\n",
    "    def __len__(self):\n",
    "        return len(self._symbols)\n",
    "\n",
    "    def transform(self, data):\n",
    "        \"\"\"Transform data to indices\n",
    "        Input:\n",
    "            - data, list of strings\n",
    "        Output:\n",
    "            - list of list of char indices\n",
    "        >>> self.transform(['word1', 'token2'])\n",
    "        >>> [[24, 2, 19, 13, 3], [8, 2, 9, 1, 7, 4]]\n",
    "        \"\"\"\n",
    "        for i in data:\n",
    "            for j in i:\n",
    "                if j not in self._symbols:\n",
    "                    print(\"UNKNOWN SYMBOL: {}\".format(j))\n",
    "                    return None\n",
    "        return [[self._symbol_codes[str(j)] for j in i] for i in data]\n",
    "    def str_by_ind(self, v):# get words from indexes\n",
    "        s = [self._codes_symbol[i.item()] for i in v]\n",
    "        s = ''.join(i for i in s)\n",
    "        print(s)"
   ]
  },
  {
   "cell_type": "code",
   "execution_count": 0,
   "metadata": {
    "colab": {},
    "colab_type": "code",
    "id": "KhsAPezWh3v3"
   },
   "outputs": [],
   "source": [
    "class Batch:\n",
    "    def __init__(self, vocab):\n",
    "        self.sym_ind = vocab._symbol_codes\n",
    "        self.paddings = vocab.paddings\n",
    "        self.longest = vocab.longest\n",
    "    def make_batch(self, batch_size):\n",
    "        sample = torch.LongTensor(batch_size, self.longest-1)\n",
    "        pred = torch.LongTensor(batch_size, self.longest-1)\n",
    "        for i in range(batch_size):\n",
    "            index = random.randint(0, len(self.paddings)-1)\n",
    "            s = torch.Tensor(self.paddings[index])\n",
    "            sample[i] = (s[:-1])\n",
    "            pred[i] = (s[1:])\n",
    "        sample = sample.cuda()\n",
    "        pred = pred.cuda()\n",
    "        return sample, pred"
   ]
  },
  {
   "cell_type": "markdown",
   "metadata": {
    "colab_type": "text",
    "id": "RSjaK1t4D9xz"
   },
   "source": [
    "## Модель"
   ]
  },
  {
   "cell_type": "code",
   "execution_count": 0,
   "metadata": {
    "colab": {},
    "colab_type": "code",
    "id": "AHOeulVXC89R"
   },
   "outputs": [],
   "source": [
    "class Net(nn.Module):\n",
    "    def __init__(self, input_size, hidden_size, output_size, n_layers=1):\n",
    "        super(Net, self).__init__()\n",
    "        self.input_size = input_size\n",
    "        self.hidden_size = hidden_size\n",
    "        self.output_size = input_size\n",
    "        self.n_layers = n_layers\n",
    "        \n",
    "        self.encoder = nn.Embedding(self.input_size, self.hidden_size)\n",
    "        self.lstm = nn.LSTM(self.hidden_size, self.hidden_size, self.n_layers)\n",
    "        self.decoder = nn.Linear(self.hidden_size, self.output_size)\n",
    "        self.softmax = nn.LogSoftmax(dim= -1)\n",
    "        \n",
    "    def forward(self, x, hidden):\n",
    "        batch_size = x.size(0)\n",
    "        x = self.encoder(x)\n",
    "        out, hidden = self.lstm(x.view(1, batch_size, -1), hidden)\n",
    "        out = self.decoder(out.view(batch_size, -1))\n",
    "        out = self.softmax(out)\n",
    "        return out, hidden\n",
    "      \n",
    "    def init_hidden(self, batch_size):\n",
    "        return torch.zeros(self.n_layers, batch_size, self.hidden_size, device = device), torch.zeros(self.n_layers, batch_size, self.hidden_size, device = device)"
   ]
  },
  {
   "cell_type": "markdown",
   "metadata": {
    "colab_type": "text",
    "id": "CRACjKfbObwB"
   },
   "source": [
    "## Parameters"
   ]
  },
  {
   "cell_type": "code",
   "execution_count": 0,
   "metadata": {
    "colab": {},
    "colab_type": "code",
    "id": "Ck5MYqa6VqxQ"
   },
   "outputs": [],
   "source": [
    "a = Vocabulary()\n",
    "a.fit(train_words)# make corpus + dict symbol-code\n",
    "b = Batch(a)#make batches on corpus"
   ]
  },
  {
   "cell_type": "code",
   "execution_count": 0,
   "metadata": {
    "colab": {},
    "colab_type": "code",
    "id": "E9hJgn2EOYpP"
   },
   "outputs": [],
   "source": [
    "batch_size = 128\n",
    "lr = 0.01\n",
    "input_size = len(a)\n",
    "hidden_size = 100\n",
    "n_layers = 3\n",
    "n_epochs = 3000\n",
    "print_every = 100"
   ]
  },
  {
   "cell_type": "code",
   "execution_count": 0,
   "metadata": {
    "colab": {},
    "colab_type": "code",
    "id": "n9Lf6dUlOY5A"
   },
   "outputs": [],
   "source": [
    "model = Net(input_size, hidden_size, input_size, n_layers).to(device=device)\n",
    "optimizer = torch.optim.Adam(model.parameters(), lr=lr)\n",
    "criterion = nn.NLLLoss()\n",
    "loss = torch.tensor(0)"
   ]
  },
  {
   "cell_type": "markdown",
   "metadata": {
    "colab_type": "text",
    "id": "Qxn4ukYIVxVZ"
   },
   "source": [
    "## Train"
   ]
  },
  {
   "cell_type": "code",
   "execution_count": 0,
   "metadata": {
    "colab": {},
    "colab_type": "code",
    "id": "U2E60ynlWp9u"
   },
   "outputs": [],
   "source": [
    "def timeSince(since):\n",
    "    now = time.clock()\n",
    "    s = now - since\n",
    "    m = math.floor(s / 60)\n",
    "    s -= m * 60\n",
    "    return '%dm %ds' % (m, s)"
   ]
  },
  {
   "cell_type": "code",
   "execution_count": 0,
   "metadata": {
    "colab": {},
    "colab_type": "code",
    "id": "3TV4aRekVvwc"
   },
   "outputs": [],
   "source": [
    "def train(inp, target):\n",
    "    model.zero_grad()\n",
    "    loss = 0\n",
    "    \n",
    "    hidden = model.init_hidden(batch_size)\n",
    "    \n",
    "    model.train()\n",
    "    for i in range(a.longest-1):\n",
    "        output, hidden = model(inp[:,i],hidden)\n",
    "        loss += criterion(output.view(batch_size,-1), target[:,i])\n",
    "        \n",
    "    loss.backward()\n",
    "    optimizer.step()\n",
    "    \n",
    "    return output, loss.item()/a.longest"
   ]
  },
  {
   "cell_type": "code",
   "execution_count": 230,
   "metadata": {
    "colab": {
     "base_uri": "https://localhost:8080/",
     "height": 1004
    },
    "colab_type": "code",
    "id": "5fwQmD6mS-2C",
    "outputId": "df684d55-080e-4524-a476-21e181ed14af"
   },
   "outputs": [
    {
     "name": "stdout",
     "output_type": "stream",
     "text": [
      "epoch 100,   \tloss 0.47248580239035864 \tperplexity 1.6039764100589113\n",
      "time passed 0m 9s:\n",
      "epoch 200,   \tloss 0.42840016971934924 \tperplexity 1.534800138636478\n",
      "time passed 0m 18s:\n",
      "epoch 300,   \tloss 0.3975770256736062 \tperplexity 1.488214420270365\n",
      "time passed 0m 27s:\n",
      "epoch 400,   \tloss 0.3902617367831143 \tperplexity 1.4773674246798985\n",
      "time passed 0m 36s:\n",
      "epoch 500,   \tloss 0.3594828085465865 \tperplexity 1.4325883005026516\n",
      "time passed 0m 45s:\n",
      "epoch 600,   \tloss 0.34950134970925073 \tperplexity 1.4183601065453086\n",
      "time passed 0m 54s:\n",
      "epoch 700,   \tloss 0.34428843584927643 \tperplexity 1.4109855556367377\n",
      "time passed 1m 3s:\n",
      "epoch 800,   \tloss 0.32368705489418725 \tperplexity 1.382214682109122\n",
      "time passed 1m 12s:\n",
      "epoch 900,   \tloss 0.3169273679906672 \tperplexity 1.372902851611328\n",
      "time passed 1m 21s:\n",
      "epoch 1000,   \tloss 0.30714351480657404 \tperplexity 1.3595360676275843\n",
      "time passed 1m 30s:\n",
      "epoch 1100,   \tloss 0.29177379608154297 \tperplexity 1.338800141546657\n",
      "time passed 1m 39s:\n",
      "epoch 1200,   \tloss 0.29902679269964044 \tperplexity 1.348545754170232\n",
      "time passed 1m 48s:\n",
      "epoch 1300,   \tloss 0.2882381352511319 \tperplexity 1.3340749565745729\n",
      "time passed 1m 58s:\n",
      "epoch 1400,   \tloss 0.28390903906388715 \tperplexity 1.328312100745339\n",
      "time passed 2m 7s:\n",
      "epoch 1500,   \tloss 0.25243704969232733 \tperplexity 1.2871584665829088\n",
      "time passed 2m 16s:\n",
      "epoch 1600,   \tloss 0.26254812153902923 \tperplexity 1.300239036166571\n",
      "time passed 2m 25s:\n",
      "epoch 1700,   \tloss 0.2459315386685458 \tperplexity 1.2788120213711407\n",
      "time passed 2m 34s:\n",
      "epoch 1800,   \tloss 0.2435464859008789 \tperplexity 1.275765621576489\n",
      "time passed 2m 43s:\n",
      "epoch 1900,   \tloss 0.2323861989107999 \tperplexity 1.2616068659538502\n",
      "time passed 2m 52s:\n",
      "epoch 2000,   \tloss 0.24397611618041992 \tperplexity 1.2763138468757773\n",
      "time passed 3m 1s:\n",
      "epoch 2100,   \tloss 0.251485521143133 \tperplexity 1.2859342810707155\n",
      "time passed 3m 10s:\n",
      "epoch 2200,   \tloss 0.2351428812200373 \tperplexity 1.2650895133532025\n",
      "time passed 3m 19s:\n",
      "epoch 2300,   \tloss 0.24739718437194824 \tperplexity 1.2806876809061305\n",
      "time passed 3m 28s:\n",
      "epoch 2400,   \tloss 0.22675069895657626 \tperplexity 1.2545170765361142\n",
      "time passed 3m 37s:\n",
      "epoch 2500,   \tloss 0.2265777587890625 \tperplexity 1.2543001389019053\n",
      "time passed 3m 46s:\n",
      "epoch 2600,   \tloss 0.22715546868064188 \tperplexity 1.2550249698500033\n",
      "time passed 3m 55s:\n",
      "epoch 2700,   \tloss 0.21276786110617898 \tperplexity 1.2370974394772305\n",
      "time passed 4m 4s:\n",
      "epoch 2800,   \tloss 0.22510645606301047 \tperplexity 1.2524560406343204\n",
      "time passed 4m 13s:\n",
      "epoch 2900,   \tloss 0.228801120411266 \tperplexity 1.2570920042064564\n",
      "time passed 4m 22s:\n",
      "epoch 3000,   \tloss 0.2221625718203458 \tperplexity 1.2487743768865276\n",
      "time passed 4m 31s:\n"
     ]
    }
   ],
   "source": [
    "start_time = time.clock()\n",
    "losses = []\n",
    "perplexity = []\n",
    "for epoch in range(1, n_epochs + 1):\n",
    "    out, loss = train(*b.make_batch(batch_size))\n",
    "    losses.append(loss)\n",
    "    perplexity.append(np.exp(losses[-1]))\n",
    "    if epoch % print_every == 0:\n",
    "        print('epoch {},   \\tloss {} \\tperplexity {}'.format(epoch, losses[-1], perplexity[-1]))\n",
    "        print('time passed %s:' %(timeSince(start_time)))"
   ]
  },
  {
   "cell_type": "code",
   "execution_count": 232,
   "metadata": {
    "colab": {
     "base_uri": "https://localhost:8080/",
     "height": 458
    },
    "colab_type": "code",
    "id": "jySPdxg1iURP",
    "outputId": "5fa085b0-2605-43a4-f771-f3f3d92a8792"
   },
   "outputs": [
    {
     "data": {
      "image/png": "[encoded data removed]",
      "text/plain": [
       "<Figure size 864x504 with 1 Axes>"
      ]
     },
     "metadata": {
      "tags": []
     },
     "output_type": "display_data"
    }
   ],
   "source": [
    "plt.figure(figsize=(12,7))\n",
    "plt.plot(range(len(perplexity[10:])), perplexity[10:])\n",
    "plt.xlabel(\"$epoch$\", fontsize=25)\n",
    "plt.ylabel(\"$perplexity$\", fontsize=25)\n",
    "plt.show()"
   ]
  },
  {
   "cell_type": "code",
   "execution_count": 233,
   "metadata": {
    "colab": {
     "base_uri": "https://localhost:8080/",
     "height": 458
    },
    "colab_type": "code",
    "id": "2nXpTvgsj7Mh",
    "outputId": "9d4a6d32-d7f9-45ac-b3c8-879c596998c9"
   },
   "outputs": [
    {
     "data": {
      "image/png": "[encoded data removed]",
      "text/plain": [
       "<Figure size 864x504 with 1 Axes>"
      ]
     },
     "metadata": {
      "tags": []
     },
     "output_type": "display_data"
    }
   ],
   "source": [
    "plt.figure(figsize=(12,7))\n",
    "plt.plot(range(len(losses)), losses)\n",
    "plt.xlabel(\"$epoch$\", fontsize=25)\n",
    "plt.ylabel(\"$loss$\", fontsize=25)\n",
    "plt.show()"
   ]
  },
  {
   "cell_type": "markdown",
   "metadata": {
    "colab_type": "text",
    "id": "IeGpDPPPkAk2"
   },
   "source": [
    "## Sampling the Network"
   ]
  },
  {
   "cell_type": "code",
   "execution_count": 0,
   "metadata": {
    "colab": {},
    "colab_type": "code",
    "id": "u53gWTYRkAR2"
   },
   "outputs": [],
   "source": [
    "def generate(batch_size, index):\n",
    "    hidden = model.init_hidden(batch_size)\n",
    "    symbol = torch.tensor([index]).cuda()\n",
    "    pred = [a._codes_symbol[index]]\n",
    "    with torch.no_grad():\n",
    "        for i in range(a.longest-1):\n",
    "            output, hidden = model(symbol,hidden)\n",
    "            _, index = torch.max(func.softmax(output, dim = 1),1)\n",
    "            if index.item() == 2:# end \n",
    "              pr = \"\".join(str(e) for e in pred)\n",
    "              return pr\n",
    "            pred.append(a._codes_symbol[index.item()])\n",
    "            symbol = torch.tensor([index]).cuda()\n",
    "    pr = \"\".join(str(e) for e in pred)\n",
    "    \n",
    "    return pr"
   ]
  },
  {
   "cell_type": "code",
   "execution_count": 398,
   "metadata": {
    "colab": {
     "base_uri": "https://localhost:8080/",
     "height": 559
    },
    "colab_type": "code",
    "id": "Q5VX5q88j90j",
    "outputId": "f29637c6-417e-4c2e-9d25-90b7894772f6"
   },
   "outputs": [
    {
     "name": "stdout",
     "output_type": "stream",
     "text": [
      "а:\t абсолютный\n",
      "б:\t безотказный\n",
      "в:\t высокомерие\n",
      "г:\t грузовой\n",
      "д:\t долговой\n",
      "е:\t единоутробный\n",
      "ж:\t желательный\n",
      "з:\t заморозить\n",
      "и:\t извещение\n",
      "й:\t йоркширский\n",
      "к:\t конспект\n",
      "л:\t лесопиловательный\n",
      "м:\t малайция\n",
      "н:\t непростывать\n",
      "о:\t оборонник\n",
      "п:\t подстроить\n",
      "р:\t разрастись\n",
      "с:\t соверчий\n",
      "т:\t транспортировка\n",
      "у:\t усилиться\n",
      "ф:\t фальчион\n",
      "х:\t христадель\n",
      "ц:\t целенапримод\n",
      "ч:\t чередовать\n",
      "ш:\t штатировать\n",
      "щ:\t щуп\n",
      "ъ:\t ъесть\n",
      "ы:\t ыбить\n",
      "ь:\t ь\n",
      "э:\t экстрадировать\n",
      "ю:\t юнильняться\n",
      "я:\t языковой боловка\n",
      "ё:\t ёбнутый\n"
     ]
    }
   ],
   "source": [
    "for i in range(3, 36):\n",
    "  out = generate(1, i)\n",
    "  print('{}:\\t {}'.format(a._codes_symbol[i], out))"
   ]
  },
  {
   "cell_type": "code",
   "execution_count": 0,
   "metadata": {
    "colab": {},
    "colab_type": "code",
    "id": "SSWxhKgZ0Qjc"
   },
   "outputs": [],
   "source": []
  }
 ],
 "metadata": {
  "accelerator": "GPU",
  "colab": {
   "collapsed_sections": [],
   "name": "task2_char_language_model_generation.ipynb",
   "provenance": [],
   "toc_visible": true,
   "version": "0.3.2"
  },
  "kernelspec": {
   "display_name": "Python 3",
   "language": "python",
   "name": "python3"
  },
  "language_info": {
   "codemirror_mode": {
    "name": "ipython",
    "version": 3
   },
   "file_extension": ".py",
   "mimetype": "text/x-python",
   "name": "python",
   "nbconvert_exporter": "python",
   "pygments_lexer": "ipython3",
   "version": "3.6.4"
  }
 },
 "nbformat": 4,
 "nbformat_minor": 1
}
