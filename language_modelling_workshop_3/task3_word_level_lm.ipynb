{
 "cells": [
  {
   "cell_type": "markdown",
   "metadata": {
    "colab_type": "text",
    "id": "hgXVVZCVMkqH"
   },
   "source": [
    "## Word-level language model\n",
    "\n",
    "In the previous tasks you have written character-level language model. Time has come to grow up.\n",
    "\n",
    "Word language models face a lot of new problems for you to solve. There are some of them:\n",
    "  * How to read long texts (Gbs of data)\n",
    "  * How to build vocabulry (and to effectively reduce its size)\n",
    "  * How to deal with out-of-vocabulary (OOV) words # random vectors?\n",
    "  * How to construct batch of _uncorrelated_ examples (not from the same text)\n",
    "  * How and when to drop RNN state\n",
    "  * What special tokens should be used? BOS? EOS?\n",
    "\n",
    "**Results of this task:**\n",
    "  * Text preprocessing\n",
    "  * Batcher\n",
    "  * Trained language model:\n",
    "    * model should use truncated backpropagation through time\n",
    "    * model should drop RNN state between different documents (eg. wikipedia articles)\n",
    "  * Test set perplexity\n",
    "\n",
    "**Additional points:**\n",
    "  * Text preprocessing and batching that works with large files (does not load all the file to memory)\n",
    "  * AWD-LSTM or other uncommon RNN architectures (SRU, QRNN)\n",
    "  * Use popular dataset \n",
    "\n",
    "It is becoming common to use [byte-pair encoding](https://github.com/google/sentencepiece) to solve vocabulary problem. Use it! Here is an [example](https://github.com/google/sentencepiece/blob/master/python/sentencepiece_python_module_example.ipynb)."
   ]
  },
  {
   "cell_type": "code",
   "execution_count": 81,
   "metadata": {
    "colab": {
     "base_uri": "https://localhost:8080/",
     "height": 63
    },
    "colab_type": "code",
    "id": "dgvhUW8Il-qy",
    "outputId": "aa5fc124-60a8-4cdd-fd0f-a9f3a7427c0e"
   },
   "outputs": [
    {
     "name": "stdout",
     "output_type": "stream",
     "text": [
      "Requirement already satisfied: sentencepiece in /usr/local/lib/python3.6/dist-packages (0.1.81)\n"
     ]
    }
   ],
   "source": [
    "!pip install sentencepiece"
   ]
  },
  {
   "cell_type": "code",
   "execution_count": 0,
   "metadata": {
    "colab": {},
    "colab_type": "code",
    "id": "xqCarLzcMkqJ"
   },
   "outputs": [],
   "source": [
    "import sentencepiece as spm\n",
    "import numpy as np\n",
    "import torch\n",
    "import torch.nn as nn\n",
    "import torch.nn.functional as func\n",
    "from torch.autograd import Variable\n",
    "import random\n",
    "import matplotlib.pyplot as plt\n",
    "import torch.utils.data as utils\n",
    "import time\n",
    "import csv\n",
    "import pandas as pd\n",
    "import time\n",
    "import math\n",
    "from torch.optim.lr_scheduler import StepLR"
   ]
  },
  {
   "cell_type": "code",
   "execution_count": 83,
   "metadata": {
    "colab": {
     "base_uri": "https://localhost:8080/",
     "height": 34
    },
    "colab_type": "code",
    "id": "8I-kehlTMkqP",
    "outputId": "e3d42d3e-1b1b-4bab-c9a5-ba63ce7272c3"
   },
   "outputs": [
    {
     "name": "stdout",
     "output_type": "stream",
     "text": [
      "using device: cuda\n"
     ]
    }
   ],
   "source": [
    "USE_GPU = True\n",
    "\n",
    "dtype = torch.float32\n",
    "\n",
    "if USE_GPU and torch.cuda.is_available():\n",
    "    device = torch.device('cuda')\n",
    "else:\n",
    "    device = torch.device('cpu')\n",
    "print('using device:', device)"
   ]
  },
  {
   "cell_type": "code",
   "execution_count": 4,
   "metadata": {
    "colab": {
     "base_uri": "https://localhost:8080/",
     "height": 203
    },
    "colab_type": "code",
    "id": "Z8kyDgTTM1DQ",
    "outputId": "2c100aa9-259d-4fe2-9495-6160ad0fde43"
   },
   "outputs": [
    {
     "name": "stdout",
     "output_type": "stream",
     "text": [
      "Go to this URL in a browser: https://accounts.google.com/o/oauth2/auth?client_id=947318989803-6bn6qk8qdgf4n4g3pfee6491hc0brc4i.apps.googleusercontent.com&redirect_uri=urn%3Aietf%3Awg%3Aoauth%3A2.0%3Aoob&scope=email%20https%3A%2F%2Fwww.googleapis.com%2Fauth%2Fdocs.test%20https%3A%2F%2Fwww.googleapis.com%2Fauth%2Fdrive%20https%3A%2F%2Fwww.googleapis.com%2Fauth%2Fdrive.photos.readonly%20https%3A%2F%2Fwww.googleapis.com%2Fauth%2Fpeopleapi.readonly&response_type=code\n",
      "\n",
      "Enter your authorization code:\n",
      "··········\n",
      "Mounted at /content/gdrive\n"
     ]
    }
   ],
   "source": [
    "from google.colab import drive\n",
    "drive.mount('/content/gdrive')"
   ]
  },
  {
   "cell_type": "markdown",
   "metadata": {
    "colab_type": "text",
    "id": "LjGxnRM8MkqX"
   },
   "source": [
    "### Download & preprocess. Here sentencepiece + vocabulary restriction is used. Only tokens with 200+ frequency contains in vocabulary.\n",
    "I get data from economic news articles. Contributors read snippets of news articles. Dataset contains these artilces as well as the dates, source titles, and text. Dates range from 1951 to 2014."
   ]
  },
  {
   "cell_type": "code",
   "execution_count": 5,
   "metadata": {
    "colab": {
     "base_uri": "https://localhost:8080/",
     "height": 243
    },
    "colab_type": "code",
    "id": "p4QPldqmMkqX",
    "outputId": "87d3e813-4364-4b03-d9d3-356b7d55c590",
    "scrolled": true
   },
   "outputs": [
    {
     "name": "stdout",
     "output_type": "stream",
     "text": [
      "--2019-04-13 14:28:15--  https://d1p17r2m4rzlbo.cloudfront.net/wp-content/uploads/2016/03/Full-Economic-News-DFE-839861.csv\n",
      "Resolving d1p17r2m4rzlbo.cloudfront.net (d1p17r2m4rzlbo.cloudfront.net)... 13.35.115.27, 13.35.115.24, 13.35.115.97, ...\n",
      "Connecting to d1p17r2m4rzlbo.cloudfront.net (d1p17r2m4rzlbo.cloudfront.net)|13.35.115.27|:443... connected.\n",
      "HTTP request sent, awaiting response... 200 OK\n",
      "Length: 12383529 (12M) [application/octet-stream]\n",
      "Saving to: ‘Full-Economic-News-DFE-839861.csv’\n",
      "\n",
      "\r",
      "          Full-Econ   0%[                    ]       0  --.-KB/s               \r",
      "         Full-Econo  48%[========>           ]   5.71M  28.6MB/s               \r",
      "Full-Economic-News- 100%[===================>]  11.81M  45.7MB/s    in 0.3s    \n",
      "\n",
      "2019-04-13 14:28:15 (45.7 MB/s) - ‘Full-Economic-News-DFE-839861.csv’ saved [12383529/12383529]\n",
      "\n"
     ]
    }
   ],
   "source": [
    "!wget https://d1p17r2m4rzlbo.cloudfront.net/wp-content/uploads/2016/03/Full-Economic-News-DFE-839861.csv"
   ]
  },
  {
   "cell_type": "code",
   "execution_count": 0,
   "metadata": {
    "colab": {},
    "colab_type": "code",
    "id": "r8YvtuEEMkqb"
   },
   "outputs": [],
   "source": [
    "df = pd.read_csv('Full-Economic-News-DFE-839861.csv',encoding='latin-1')\n",
    "all_texts = df['text'] #you can also use df['column_name']"
   ]
  },
  {
   "cell_type": "code",
   "execution_count": 0,
   "metadata": {
    "colab": {},
    "colab_type": "code",
    "id": "CgqvmUE0lmVi"
   },
   "outputs": [],
   "source": [
    "all_texts = all_texts[0:1000]"
   ]
  },
  {
   "cell_type": "code",
   "execution_count": 86,
   "metadata": {
    "colab": {
     "base_uri": "https://localhost:8080/",
     "height": 34
    },
    "colab_type": "code",
    "id": "Db0gzkk9lLu6",
    "outputId": "51045152-758b-4684-fc33-9c79428d59b8"
   },
   "outputs": [
    {
     "data": {
      "text/plain": [
       "1000"
      ]
     },
     "execution_count": 86,
     "metadata": {
      "tags": []
     },
     "output_type": "execute_result"
    }
   ],
   "source": [
    "len(all_texts)"
   ]
  },
  {
   "cell_type": "code",
   "execution_count": 87,
   "metadata": {
    "colab": {
     "base_uri": "https://localhost:8080/",
     "height": 68
    },
    "colab_type": "code",
    "id": "rNkn_Bq0Mkqe",
    "outputId": "e5cc37ae-6b33-4769-b4d1-03660a43f9ea",
    "scrolled": true
   },
   "outputs": [
    {
     "name": "stdout",
     "output_type": "stream",
     "text": [
      "Longest text consists of 4988 symbols\n",
      "Shortest text consists of 113 symbols\n",
      "Average text consists of 1378 symbols\n"
     ]
    }
   ],
   "source": [
    "print('Longest text consists of {} symbols'.format(max([len(i) for i in all_texts])))\n",
    "print('Shortest text consists of {} symbols'.format(min([len(i) for i in all_texts])))\n",
    "print('Average text consists of {} symbols'.format(int(np.average([len(i) for i in all_texts]))))"
   ]
  },
  {
   "cell_type": "markdown",
   "metadata": {
    "colab_type": "text",
    "id": "PvlShSUOMkqk"
   },
   "source": [
    "Download all texts in text.txt, later use in sentensepiecetrainer"
   ]
  },
  {
   "cell_type": "code",
   "execution_count": 0,
   "metadata": {
    "colab": {},
    "colab_type": "code",
    "id": "vgGQNy53Mkql"
   },
   "outputs": [],
   "source": [
    "myfile = open('text.txt', 'w')\n",
    "for line in all_texts:\n",
    "    myfile.write(\"%s\\n\" % line.lower().replace('</br></br>',' '))\n",
    "myfile.close()"
   ]
  },
  {
   "cell_type": "code",
   "execution_count": 89,
   "metadata": {
    "colab": {
     "base_uri": "https://localhost:8080/",
     "height": 34
    },
    "colab_type": "code",
    "id": "MnQX5ReVMkqn",
    "outputId": "0b96dba0-e142-4db5-eed3-9798922861a5",
    "scrolled": true
   },
   "outputs": [
    {
     "name": "stdout",
     "output_type": "stream",
     "text": [
      "Vocab consists of 2000 words\n"
     ]
    }
   ],
   "source": [
    "spm.SentencePieceTrainer.train('--input=text.txt --model_prefix=m --vocab_size=2000')\n",
    "sp = spm.SentencePieceProcessor()\n",
    "sp.load('m.model')\n",
    "# Gets all tokens as Python list.\n",
    "vocabs = [sp.id_to_piece(id) for id in range(sp.get_piece_size())]\n",
    "print('Vocab consists of {} words'.format(len(vocabs)))"
   ]
  },
  {
   "cell_type": "markdown",
   "metadata": {
    "colab_type": "text",
    "id": "PH9vJuROMkqr"
   },
   "source": [
    "Compute the frequency of each token in the training data."
   ]
  },
  {
   "cell_type": "code",
   "execution_count": 0,
   "metadata": {
    "colab": {},
    "colab_type": "code",
    "id": "-xY0RHmsMkqs",
    "scrolled": false
   },
   "outputs": [],
   "source": [
    "freq = {}\n",
    "with open('text.txt', 'r') as f:\n",
    "    for line in f:\n",
    "        line = line.rstrip()\n",
    "        for piece in sp.encode_as_pieces(line):\n",
    "            freq.setdefault(piece, 0)\n",
    "            freq[piece] += 1"
   ]
  },
  {
   "cell_type": "markdown",
   "metadata": {
    "colab_type": "text",
    "id": "A8Zx0FJmMkqv"
   },
   "source": [
    "Let's reduce the vocabulary, only words with frequency more than 200 remain, only $\\sim 300+$ words remain.\n",
    "\n",
    "If the subword would be unknown, \"UNK\"  token would be used"
   ]
  },
  {
   "cell_type": "code",
   "execution_count": 91,
   "metadata": {
    "colab": {
     "base_uri": "https://localhost:8080/",
     "height": 34
    },
    "colab_type": "code",
    "id": "mAsyBuNUMkqw",
    "outputId": "904a40b5-5aa2-44c0-e622-d9cf12f2cc70",
    "scrolled": false
   },
   "outputs": [
    {
     "name": "stdout",
     "output_type": "stream",
     "text": [
      "312\n"
     ]
    }
   ],
   "source": [
    "s = 0\n",
    "for i in freq:\n",
    "    if freq[i] > 200:\n",
    "        s += 1\n",
    "print(s)"
   ]
  },
  {
   "cell_type": "code",
   "execution_count": 92,
   "metadata": {
    "colab": {
     "base_uri": "https://localhost:8080/",
     "height": 159
    },
    "colab_type": "code",
    "id": "pns0i-LKMkq0",
    "outputId": "b034dfb5-817d-4b41-f7b0-6a777b581f34",
    "scrolled": true
   },
   "outputs": [
    {
     "name": "stdout",
     "output_type": "stream",
     "text": [
      "['▁this', '▁is', '▁a', '▁t', 'est', '.']\n",
      "['▁he', 'll', 'o', '▁world', '▁f', 'o', 'o', 't', 'b', 'all', '▁put', 'in', '▁ru', 's', 's', 'ia']\n",
      "2000\n",
      "[68, 24, 7, 177, 211, 4]\n",
      "['▁he', 'll', 'o', '▁w', 'or', 'l', 'd', '▁f', 'o', 'o', 't', 'b', 'al', 'l', '▁p', 'ut', 'in', '▁', 'r', 'us', 's', 'i', 'a']\n",
      "312\n"
     ]
    }
   ],
   "source": [
    "print(sp.encode_as_pieces('this is a test.'))\n",
    "print(sp.encode_as_pieces('hello world football putin russia'))\n",
    "print(len(vocabs))\n",
    "vocabs = list(filter(lambda x : x in freq and freq[x] > 200, vocabs))\n",
    "sp.set_vocabulary(vocabs)\n",
    "print(sp.encode_as_ids('this is a test.'))\n",
    "print(sp.encode_as_pieces('hello world football putin russia'))\n",
    "print(len(vocabs))"
   ]
  },
  {
   "cell_type": "code",
   "execution_count": 93,
   "metadata": {
    "colab": {
     "base_uri": "https://localhost:8080/",
     "height": 74
    },
    "colab_type": "code",
    "id": "i_dXlSrYMkq3",
    "outputId": "e952f3ac-113d-4b59-aeda-d1d3c708d60b",
    "scrolled": false
   },
   "outputs": [
    {
     "name": "stdout",
     "output_type": "stream",
     "text": [
      "['\"', '&', \"'\", ')', ',', '-', '.', '.\"', '0', '1', '2', '3', '4', '5', '5%', '6', '7', '8', '9', ':', '<UNK>', 'a', 'able', 'age', 'al', 'an', 'and', 'ar', 'as', 'at', 'ate', 'ation', 'b', 'c', 'ce', 'ch', 'ck', 'com', 'd', 'e', 'ed', 'el', 'en', 'end', 'ent', 'er', 'ers', 'es', 'est', 'et', 'f', 'g', 'h', 'ha', 'hi', 'i', 'ic', 'id', 'if', 'ight', 'il', 'im', 'in', 'ing', 'ion', 'ir', 'is', 'ist', 'it', 'ity', 'ive', 'k', 'l', 'la', 'le', 'li', 'll', 'lo', 'ly', 'm', 'man', 'many', 'ment', 'min', 'n', 'ne', 'o', 'ol', 'on', 'or', 'p', 'qu', 'r', 'ra', 're', 'ri', 'ro', 's', 'se', 'st', 't', 'ter', 'term', 'th', 'the', 'ting', 'u', 'ul', 'um', 'un', 'ure', 'us', 'ut', 'v', 've', 'ver', 'w', 'x', 'y', 'year', 'z', '▁', '▁\"', '▁$1', '▁(', '▁--', '▁0.', '▁1.', '▁19', '▁2', '▁3', '▁4', '▁5', '▁a', '▁about', '▁after', '▁against', '▁al', '▁all', '▁also', '▁an', '▁analysts', '▁and', '▁are', '▁as', '▁at', '▁average', '▁b', '▁back', '▁bank', '▁banks', '▁be', '▁because', '▁been', '▁billion', '▁bond', '▁bonds', '▁but', '▁by', '▁c', '▁can', '▁co', '▁companies', '▁company', '▁con', '▁could', '▁credit', '▁d', '▁de', '▁debt', '▁do', '▁dollar', '▁dow', '▁down', '▁e', '▁economic', '▁economy', '▁even', '▁ex', '▁exchange', '▁f', '▁fed', '▁federal', '▁fell', '▁financial', '▁first', '▁for', '▁from', '▁government', '▁growth', '▁had', '▁has', '▁have', '▁he', '▁high', '▁higher', '▁his', '▁i', '▁if', '▁in', '▁inc', '▁index', '▁industrial', '▁inflation', '▁interest', '▁into', '▁investors', '▁is', '▁it', '▁its', '▁j', '▁just', '▁k', '▁last', '▁late', '▁long', '▁low', '▁lower', '▁m', '▁ma', '▁make', '▁market', '▁markets', '▁may', '▁million', '▁money', '▁month', '▁months', '▁more', '▁most', '▁move', '▁mr', '▁much', '▁new', '▁no', '▁not', '▁now', '▁of', '▁on', '▁one', '▁or', '▁other', '▁out', '▁over', '▁p', '▁pa', '▁part', '▁points', '▁policy', '▁pre', '▁president', '▁price', '▁prices', '▁pro', '▁quarter', '▁rate', '▁rates', '▁re', '▁recent', '▁report', '▁reserve', '▁rise', '▁ro', '▁rose', '▁s', '▁said', '▁say', '▁says', '▁short', '▁since', '▁so', '▁some', '▁st', '▁still', '▁stock', '▁stocks', '▁su', '▁such', '▁t', '▁than', '▁that', '▁the', '▁their', '▁there', '▁they', '▁this', '▁time', '▁to', '▁trade', '▁trading', '▁treasury', '▁two', '▁u', '▁un', '▁up', '▁w', '▁was', '▁we', '▁week', '▁were', '▁what', '▁when', '▁which', '▁while', '▁who', '▁will', '▁with', '▁would', '▁year', '▁years', '▁yesterday', '▁york', '▁you']\n"
     ]
    }
   ],
   "source": [
    "vocabs.append('<UNK>')\n",
    "vocabs.sort()\n",
    "print(vocabs)"
   ]
  },
  {
   "cell_type": "markdown",
   "metadata": {
    "colab_type": "text",
    "id": "RVS5FgO2Mkq6"
   },
   "source": [
    "Create own dict of indexes of words from vocab + reversed"
   ]
  },
  {
   "cell_type": "code",
   "execution_count": 0,
   "metadata": {
    "colab": {},
    "colab_type": "code",
    "id": "ah1muPsZMkq6"
   },
   "outputs": [],
   "source": [
    "idx_2_word = dict(enumerate(vocabs))\n",
    "word_2_idx = {v: k for k, v in idx_2_word.items()}"
   ]
  },
  {
   "cell_type": "markdown",
   "metadata": {
    "colab_type": "text",
    "id": "seSwmr8bMkq8"
   },
   "source": [
    "## Batcher, take one text, make batch from it. Repeat until all words in text are used.\n",
    "#### Structure of batch: each row relates to random text from corpus, we make sequence batches from one text until it ends. If it happens, in training cycle the corresponding hidden cells are set to zero."
   ]
  },
  {
   "cell_type": "code",
   "execution_count": 0,
   "metadata": {
    "colab": {},
    "colab_type": "code",
    "id": "_UnBWEoHMkq9"
   },
   "outputs": [],
   "source": [
    "class Batch:\n",
    "    def __init__(self, word_2_idx, idx_2_word, all_texts, batch_size, length):\n",
    "        self.word_2_idx = word_2_idx\n",
    "        self.idx_2_word = idx_2_word\n",
    "        self.length = length\n",
    "        self.data = [self.preprocess(sp.encode_as_ids(all_texts[i])) for i in range(len(all_texts))]\n",
    "        self.batch_size =  batch_size\n",
    "        self.text = [-1] * self.batch_size\n",
    "        self.current_symbol = [0] * self.batch_size\n",
    "        self.new = [False] * self.batch_size\n",
    "        \n",
    "    def preprocess(self, sequence):\n",
    "        return [i if i in self.idx_2_word else self.word_2_idx['<UNK>'] for i in sequence]\n",
    "    \n",
    "    def get_index(self):\n",
    "        '''\n",
    "        get index of random appropriate text\n",
    "        '''\n",
    "        i = random.randint(0, len(self.data)-1)\n",
    "        current_len = len(self.data[i])\n",
    "        while (current_len < self.length):\n",
    "            i = random.randint(0, len(self.data)-1)\n",
    "            current_len = len(self.data[i])\n",
    "        return i\n",
    "        \n",
    "    def make_batch(self):\n",
    "        '''\n",
    "        inputs: None\n",
    "        outputs: torch tensor [batch_size x self.longest-1] x 2: sample : pred + new text or not\n",
    "        '''\n",
    "        for i in range(self.batch_size):\n",
    "            if self.text[i] == -1 or (len(self.data[self.text[i]]) <= self.current_symbol[i]+ self.length + 1):\n",
    "                self.text[i] = self.get_index()\n",
    "                self.current_symbol[i] = 0\n",
    "                self.new[i] = True\n",
    "            else:\n",
    "                self.new[i] = False\n",
    "            \n",
    "        sample = torch.LongTensor(self.batch_size, self.length-1)\n",
    "        pred = torch.LongTensor(self.batch_size, self.length-1)\n",
    "        \n",
    "        for i in range(self.batch_size):# make batch\n",
    "            s = torch.Tensor(self.data[self.text[i]][self.current_symbol[i]:self.current_symbol[i]+self.length])\n",
    "            self.current_symbol[i] += self.length\n",
    "            sample[i] = (s[:-1])\n",
    "            pred[i] = (s[1:])\n",
    "            \n",
    "        sample = sample.cuda()\n",
    "        pred = pred.cuda()\n",
    "        \n",
    "        return sample, pred, self.new"
   ]
  },
  {
   "cell_type": "markdown",
   "metadata": {
    "colab_type": "text",
    "id": "mD0UlC2ZMkrG"
   },
   "source": [
    "## Model"
   ]
  },
  {
   "cell_type": "code",
   "execution_count": 0,
   "metadata": {
    "colab": {},
    "colab_type": "code",
    "id": "4iiPdzcIMkrG"
   },
   "outputs": [],
   "source": [
    "class Net(nn.Module):\n",
    "    def __init__(self, input_size, hidden_size, output_size, n_layers=1):\n",
    "        super(Net, self).__init__()\n",
    "        self.input_size = input_size\n",
    "        self.hidden_size = hidden_size\n",
    "        self.output_size = input_size\n",
    "        self.n_layers = n_layers\n",
    "        \n",
    "        self.encoder = nn.Embedding(self.input_size, self.hidden_size)\n",
    "        self.lstm = nn.LSTM(self.hidden_size, self.hidden_size, self.n_layers)\n",
    "        self.decoder = nn.Linear(self.hidden_size, self.output_size)\n",
    "        \n",
    "    def forward(self, x, hidden):\n",
    "        batch_size = x.size(0)\n",
    "        x = self.encoder(x)\n",
    "        out, hidden = self.lstm(x.view(1, batch_size, -1), hidden)\n",
    "        out = self.decoder(out.view(batch_size, -1))\n",
    "        return out, hidden\n",
    "      \n",
    "    def init_hidden(self, batch_size):\n",
    "        return torch.zeros(self.n_layers, batch_size, self.hidden_size, device = device, requires_grad=False),\\\n",
    "            torch.zeros(self.n_layers, batch_size, self.hidden_size, device = device, requires_grad=False)"
   ]
  },
  {
   "cell_type": "markdown",
   "metadata": {
    "colab_type": "text",
    "id": "VRZ4GqMlMkrI"
   },
   "source": [
    "## Parameters"
   ]
  },
  {
   "cell_type": "code",
   "execution_count": 0,
   "metadata": {
    "colab": {},
    "colab_type": "code",
    "id": "-iii9OXxMkrI",
    "scrolled": true
   },
   "outputs": [],
   "source": [
    "batch_size = 128\n",
    "length = 128\n",
    "lr = 0.01\n",
    "input_size = len(word_2_idx)\n",
    "hidden_size = 512\n",
    "n_layers = 3\n",
    "n_batchs = 10000\n",
    "print_every = 100\n"
   ]
  },
  {
   "cell_type": "code",
   "execution_count": 0,
   "metadata": {
    "colab": {},
    "colab_type": "code",
    "id": "aObeWNH5HVEs"
   },
   "outputs": [],
   "source": [
    "b = Batch(word_2_idx, idx_2_word, all_texts, batch_size, length)"
   ]
  },
  {
   "cell_type": "code",
   "execution_count": 0,
   "metadata": {
    "colab": {},
    "colab_type": "code",
    "id": "fwF3nqARMkrK"
   },
   "outputs": [],
   "source": [
    "model = Net(input_size, hidden_size, input_size, n_layers).to(device=device)\n",
    "optimizer = torch.optim.Adam(model.parameters(), lr=lr)\n",
    "criterion = nn.CrossEntropyLoss()\n",
    "loss = torch.tensor(0)"
   ]
  },
  {
   "cell_type": "code",
   "execution_count": 0,
   "metadata": {
    "colab": {},
    "colab_type": "code",
    "id": "fi0vU36FS3Kn"
   },
   "outputs": [],
   "source": [
    "scheduler = StepLR(optimizer, step_size=10000, gamma=0.9)"
   ]
  },
  {
   "cell_type": "markdown",
   "metadata": {
    "colab_type": "text",
    "id": "nE3ObEcaMkrK"
   },
   "source": [
    "## Train"
   ]
  },
  {
   "cell_type": "code",
   "execution_count": 0,
   "metadata": {
    "colab": {},
    "colab_type": "code",
    "id": "gyTnW8dtMkrL"
   },
   "outputs": [],
   "source": [
    "def timeSince(since):\n",
    "    now = time.clock()\n",
    "    s = now - since\n",
    "    m = math.floor(s / 60)\n",
    "    s -= m * 60\n",
    "    return '%dm %ds' % (m, s)"
   ]
  },
  {
   "cell_type": "code",
   "execution_count": 0,
   "metadata": {
    "colab": {},
    "colab_type": "code",
    "id": "5B-WweOrRAAo"
   },
   "outputs": [],
   "source": [
    "def generate(index, hidden):\n",
    "    symbol = torch.tensor([index]).cuda()\n",
    "    pred = [idx_2_word[index]]\n",
    "    with torch.no_grad():\n",
    "        for i in range(100):\n",
    "            output, hidden = model(symbol,hidden)\n",
    "            _, index = torch.max(func.softmax(output, dim = 1),1)\n",
    "            pred.append(idx_2_word[index.item()])\n",
    "            symbol = torch.tensor([index]).cuda()\n",
    "    pr = \"\".join(str(e) for e in pred)\n",
    "    return pr"
   ]
  },
  {
   "cell_type": "code",
   "execution_count": 0,
   "metadata": {
    "colab": {},
    "colab_type": "code",
    "id": "pu1FPhMZMkrM"
   },
   "outputs": [],
   "source": [
    "def train(hidden, inp, target, new):\n",
    "   \n",
    "    model.zero_grad()\n",
    "    loss = 0\n",
    "    \n",
    "    for i in range(batch_size):# if text changed, hidden state related to it is setting to zeros  \n",
    "        if new[i]:\n",
    "            hidden[0][:,i,:] = 0\n",
    "            hidden[1][:,i,:] = 0\n",
    "    \n",
    "    model.train()\n",
    "    \n",
    "    for i in range(inp.shape[1]-1):\n",
    "        output, hidden = model(inp[:,i],hidden)\n",
    "        loss += criterion(output.view(batch_size,-1), target[:,i])\n",
    "        \n",
    "    loss.backward(retain_graph=True)\n",
    "    optimizer.step()\n",
    "    \n",
    "    return (hidden[0].data, hidden[1].data), output, loss.item()/((inp.shape[1]-1))"
   ]
  },
  {
   "cell_type": "code",
   "execution_count": 136,
   "metadata": {
    "colab": {
     "base_uri": "https://localhost:8080/",
     "height": 2207
    },
    "colab_type": "code",
    "id": "VwWisD1pMkrN",
    "outputId": "d8641064-7212-4821-e060-75659e35d92e",
    "scrolled": true
   },
   "outputs": [
    {
     "name": "stdout",
     "output_type": "stream",
     "text": [
      "bat 100,   \tloss 2.7404901413690474 \tperplexity 15.494577769006955\n",
      "time passed 1m 16s:\n",
      "bat 200,   \tloss 2.2288060263981895 \tperplexity 9.2887689110657\n",
      "time passed 2m 31s:\n",
      "bat 300,   \tloss 2.0108379787868924 \tperplexity 7.469574070070437\n",
      "time passed 3m 47s:\n",
      "bat 400,   \tloss 1.9009635561988467 \tperplexity 6.692339782038825\n",
      "time passed 5m 3s:\n",
      "bat 500,   \tloss 1.7543393089657737 \tperplexity 5.779627931882831\n",
      "time passed 6m 18s:\n",
      "bat 600,   \tloss 1.6963728647383431 \tperplexity 5.454128608554027\n",
      "time passed 7m 34s:\n",
      "bat 700,   \tloss 1.6174625215076266 \tperplexity 5.040284462726102\n",
      "time passed 8m 50s:\n",
      "bat 800,   \tloss 1.5428199162558904 \tperplexity 4.67776258860787\n",
      "time passed 10m 5s:\n",
      "bat 900,   \tloss 1.5699517386300224 \tperplexity 4.806416223945982\n",
      "time passed 11m 21s:\n",
      "bat 1000,   \tloss 1.5329846578931052 \tperplexity 4.631981090465606\n",
      "time passed 12m 37s:\n",
      "bat 1100,   \tloss 1.46513427249969 \tperplexity 4.328124349361775\n",
      "time passed 13m 52s:\n",
      "bat 1200,   \tloss 1.516403319343688 \tperplexity 4.555809899210999\n",
      "time passed 15m 8s:\n",
      "bat 1300,   \tloss 1.4075570484948536 \tperplexity 4.085961396060607\n",
      "time passed 16m 24s:\n",
      "bat 1400,   \tloss 1.4116063193669395 \tperplexity 4.102540103712282\n",
      "time passed 17m 39s:\n",
      "bat 1500,   \tloss 1.4143164498465401 \tperplexity 4.113673602493884\n",
      "time passed 18m 55s:\n",
      "bat 1600,   \tloss 1.4666195824032737 \tperplexity 4.334557731922491\n",
      "time passed 20m 11s:\n",
      "bat 1700,   \tloss 1.4297808692568825 \tperplexity 4.177783610783707\n",
      "time passed 21m 26s:\n",
      "bat 1800,   \tloss 1.3887633066328744 \tperplexity 4.009887983475311\n",
      "time passed 22m 42s:\n",
      "bat 1900,   \tloss 1.4692042517283606 \tperplexity 4.345775621352254\n",
      "time passed 23m 58s:\n",
      "bat 2000,   \tloss 1.4685608394562253 \tperplexity 4.342980395323325\n",
      "time passed 25m 13s:\n",
      "bat 2100,   \tloss 1.4209686763702878 \tperplexity 4.141129912689984\n",
      "time passed 26m 29s:\n",
      "bat 2200,   \tloss 1.5076957581535217 \tperplexity 4.516312119972808\n",
      "time passed 27m 45s:\n",
      "bat 2300,   \tloss 1.416027614048549 \tperplexity 4.120718799526623\n",
      "time passed 29m 1s:\n",
      "bat 2400,   \tloss 1.4684266589936756 \tperplexity 4.3423976912996585\n",
      "time passed 30m 16s:\n",
      "bat 2500,   \tloss 1.444242204938616 \tperplexity 4.238638905856804\n",
      "time passed 31m 32s:\n",
      "bat 2600,   \tloss 1.4272103688073536 \tperplexity 4.167058406610767\n",
      "time passed 32m 48s:\n",
      "bat 2700,   \tloss 1.4658464704241072 \tperplexity 4.331207928468991\n",
      "time passed 34m 4s:\n",
      "bat 2800,   \tloss 1.4916886829194569 \tperplexity 4.444594696502995\n",
      "time passed 35m 20s:\n",
      "bat 2900,   \tloss 1.434907943483383 \tperplexity 4.199258421891581\n",
      "time passed 36m 36s:\n",
      "bat 3000,   \tloss 1.4677337162078372 \tperplexity 4.339389700449373\n",
      "time passed 37m 51s:\n",
      "bat 3100,   \tloss 1.4871983603825645 \tperplexity 4.424681773951062\n",
      "time passed 39m 7s:\n",
      "bat 3200,   \tloss 1.4886839124891493 \tperplexity 4.431259754037684\n",
      "time passed 40m 23s:\n",
      "bat 3300,   \tloss 1.4963135492234003 \tperplexity 4.465197959694127\n",
      "time passed 41m 39s:\n",
      "bat 3400,   \tloss 1.5464742751348586 \tperplexity 4.694888084152303\n",
      "time passed 42m 55s:\n",
      "bat 3500,   \tloss 1.518512180873326 \tperplexity 4.5654276090885695\n",
      "time passed 44m 10s:\n",
      "bat 3600,   \tloss 1.5290292406839037 \tperplexity 4.613695859446266\n",
      "time passed 45m 26s:\n",
      "bat 3700,   \tloss 1.4999300033327132 \tperplexity 4.481375378018162\n",
      "time passed 46m 42s:\n",
      "bat 3800,   \tloss 1.4988236200241816 \tperplexity 4.476420000879418\n",
      "time passed 47m 58s:\n",
      "bat 3900,   \tloss 1.5846173725430928 \tperplexity 4.87742478478884\n",
      "time passed 49m 13s:\n",
      "bat 4000,   \tloss 1.535534207783048 \tperplexity 4.643805624559662\n",
      "time passed 50m 29s:\n",
      "bat 4100,   \tloss 1.5426541283017112 \tperplexity 4.676987136200279\n",
      "time passed 51m 45s:\n",
      "bat 4200,   \tloss 1.5007027520073786 \tperplexity 4.484839693252316\n",
      "time passed 53m 1s:\n",
      "bat 4300,   \tloss 1.5271668207077753 \tperplexity 4.605111216700318\n",
      "time passed 54m 16s:\n",
      "bat 4400,   \tloss 1.5347718738374256 \tperplexity 4.640266842933249\n",
      "time passed 55m 32s:\n",
      "bat 4500,   \tloss 1.5140132601298983 \tperplexity 4.544934245690225\n",
      "time passed 56m 47s:\n",
      "bat 4600,   \tloss 1.5876229906839037 \tperplexity 4.892106513985672\n",
      "time passed 58m 2s:\n",
      "bat 4700,   \tloss 1.5585979885525174 \tperplexity 4.752153998146065\n",
      "time passed 59m 18s:\n"
     ]
    },
    {
     "ename": "KeyboardInterrupt",
     "evalue": "ignored",
     "output_type": "error",
     "traceback": [
      "\u001b[0;31m---------------------------------------------------------------------------\u001b[0m",
      "\u001b[0;31mKeyboardInterrupt\u001b[0m                         Traceback (most recent call last)",
      "\u001b[0;32m<ipython-input-136-f0e4d568d072>\u001b[0m in \u001b[0;36m<module>\u001b[0;34m()\u001b[0m\n\u001b[1;32m      6\u001b[0m \u001b[0;32mfor\u001b[0m \u001b[0mbat\u001b[0m \u001b[0;32min\u001b[0m \u001b[0mrange\u001b[0m\u001b[0;34m(\u001b[0m\u001b[0;36m1\u001b[0m\u001b[0;34m,\u001b[0m \u001b[0mn_batchs\u001b[0m \u001b[0;34m+\u001b[0m \u001b[0;36m1\u001b[0m\u001b[0;34m)\u001b[0m\u001b[0;34m:\u001b[0m\u001b[0;34m\u001b[0m\u001b[0;34m\u001b[0m\u001b[0m\n\u001b[1;32m      7\u001b[0m     \u001b[0mscheduler\u001b[0m\u001b[0;34m.\u001b[0m\u001b[0mstep\u001b[0m\u001b[0;34m(\u001b[0m\u001b[0;34m)\u001b[0m\u001b[0;34m\u001b[0m\u001b[0;34m\u001b[0m\u001b[0m\n\u001b[0;32m----> 8\u001b[0;31m     \u001b[0mhidden\u001b[0m\u001b[0;34m,\u001b[0m \u001b[0mout\u001b[0m\u001b[0;34m,\u001b[0m \u001b[0mloss\u001b[0m \u001b[0;34m=\u001b[0m \u001b[0mtrain\u001b[0m\u001b[0;34m(\u001b[0m\u001b[0mhidden\u001b[0m\u001b[0;34m,\u001b[0m \u001b[0;34m*\u001b[0m\u001b[0mb\u001b[0m\u001b[0;34m.\u001b[0m\u001b[0mmake_batch\u001b[0m\u001b[0;34m(\u001b[0m\u001b[0;34m)\u001b[0m\u001b[0;34m)\u001b[0m\u001b[0;34m\u001b[0m\u001b[0;34m\u001b[0m\u001b[0m\n\u001b[0m\u001b[1;32m      9\u001b[0m     \u001b[0mlosses\u001b[0m\u001b[0;34m.\u001b[0m\u001b[0mappend\u001b[0m\u001b[0;34m(\u001b[0m\u001b[0mloss\u001b[0m\u001b[0;34m)\u001b[0m\u001b[0;34m\u001b[0m\u001b[0;34m\u001b[0m\u001b[0m\n\u001b[1;32m     10\u001b[0m     \u001b[0mperplexity\u001b[0m\u001b[0;34m.\u001b[0m\u001b[0mappend\u001b[0m\u001b[0;34m(\u001b[0m\u001b[0mnp\u001b[0m\u001b[0;34m.\u001b[0m\u001b[0mexp\u001b[0m\u001b[0;34m(\u001b[0m\u001b[0mlosses\u001b[0m\u001b[0;34m[\u001b[0m\u001b[0;34m-\u001b[0m\u001b[0;36m1\u001b[0m\u001b[0;34m]\u001b[0m\u001b[0;34m)\u001b[0m\u001b[0;34m)\u001b[0m\u001b[0;34m\u001b[0m\u001b[0;34m\u001b[0m\u001b[0m\n",
      "\u001b[0;32m<ipython-input-135-11105462892b>\u001b[0m in \u001b[0;36mtrain\u001b[0;34m(hidden, inp, target, new)\u001b[0m\n\u001b[1;32m     15\u001b[0m         \u001b[0mloss\u001b[0m \u001b[0;34m+=\u001b[0m \u001b[0mcriterion\u001b[0m\u001b[0;34m(\u001b[0m\u001b[0moutput\u001b[0m\u001b[0;34m.\u001b[0m\u001b[0mview\u001b[0m\u001b[0;34m(\u001b[0m\u001b[0mbatch_size\u001b[0m\u001b[0;34m,\u001b[0m\u001b[0;34m-\u001b[0m\u001b[0;36m1\u001b[0m\u001b[0;34m)\u001b[0m\u001b[0;34m,\u001b[0m \u001b[0mtarget\u001b[0m\u001b[0;34m[\u001b[0m\u001b[0;34m:\u001b[0m\u001b[0;34m,\u001b[0m\u001b[0mi\u001b[0m\u001b[0;34m]\u001b[0m\u001b[0;34m)\u001b[0m\u001b[0;34m\u001b[0m\u001b[0;34m\u001b[0m\u001b[0m\n\u001b[1;32m     16\u001b[0m \u001b[0;34m\u001b[0m\u001b[0m\n\u001b[0;32m---> 17\u001b[0;31m     \u001b[0mloss\u001b[0m\u001b[0;34m.\u001b[0m\u001b[0mbackward\u001b[0m\u001b[0;34m(\u001b[0m\u001b[0mretain_graph\u001b[0m\u001b[0;34m=\u001b[0m\u001b[0;32mTrue\u001b[0m\u001b[0;34m)\u001b[0m\u001b[0;34m\u001b[0m\u001b[0;34m\u001b[0m\u001b[0m\n\u001b[0m\u001b[1;32m     18\u001b[0m     \u001b[0moptimizer\u001b[0m\u001b[0;34m.\u001b[0m\u001b[0mstep\u001b[0m\u001b[0;34m(\u001b[0m\u001b[0;34m)\u001b[0m\u001b[0;34m\u001b[0m\u001b[0;34m\u001b[0m\u001b[0m\n\u001b[1;32m     19\u001b[0m \u001b[0;34m\u001b[0m\u001b[0m\n",
      "\u001b[0;32m/usr/local/lib/python3.6/dist-packages/torch/tensor.py\u001b[0m in \u001b[0;36mbackward\u001b[0;34m(self, gradient, retain_graph, create_graph)\u001b[0m\n\u001b[1;32m    100\u001b[0m                 \u001b[0mproducts\u001b[0m\u001b[0;34m.\u001b[0m \u001b[0mDefaults\u001b[0m \u001b[0mto\u001b[0m\u001b[0;31m \u001b[0m\u001b[0;31m`\u001b[0m\u001b[0;31m`\u001b[0m\u001b[0;32mFalse\u001b[0m\u001b[0;31m`\u001b[0m\u001b[0;31m`\u001b[0m\u001b[0;34m.\u001b[0m\u001b[0;34m\u001b[0m\u001b[0;34m\u001b[0m\u001b[0m\n\u001b[1;32m    101\u001b[0m         \"\"\"\n\u001b[0;32m--> 102\u001b[0;31m         \u001b[0mtorch\u001b[0m\u001b[0;34m.\u001b[0m\u001b[0mautograd\u001b[0m\u001b[0;34m.\u001b[0m\u001b[0mbackward\u001b[0m\u001b[0;34m(\u001b[0m\u001b[0mself\u001b[0m\u001b[0;34m,\u001b[0m \u001b[0mgradient\u001b[0m\u001b[0;34m,\u001b[0m \u001b[0mretain_graph\u001b[0m\u001b[0;34m,\u001b[0m \u001b[0mcreate_graph\u001b[0m\u001b[0;34m)\u001b[0m\u001b[0;34m\u001b[0m\u001b[0;34m\u001b[0m\u001b[0m\n\u001b[0m\u001b[1;32m    103\u001b[0m \u001b[0;34m\u001b[0m\u001b[0m\n\u001b[1;32m    104\u001b[0m     \u001b[0;32mdef\u001b[0m \u001b[0mregister_hook\u001b[0m\u001b[0;34m(\u001b[0m\u001b[0mself\u001b[0m\u001b[0;34m,\u001b[0m \u001b[0mhook\u001b[0m\u001b[0;34m)\u001b[0m\u001b[0;34m:\u001b[0m\u001b[0;34m\u001b[0m\u001b[0;34m\u001b[0m\u001b[0m\n",
      "\u001b[0;32m/usr/local/lib/python3.6/dist-packages/torch/autograd/__init__.py\u001b[0m in \u001b[0;36mbackward\u001b[0;34m(tensors, grad_tensors, retain_graph, create_graph, grad_variables)\u001b[0m\n\u001b[1;32m     88\u001b[0m     Variable._execution_engine.run_backward(\n\u001b[1;32m     89\u001b[0m         \u001b[0mtensors\u001b[0m\u001b[0;34m,\u001b[0m \u001b[0mgrad_tensors\u001b[0m\u001b[0;34m,\u001b[0m \u001b[0mretain_graph\u001b[0m\u001b[0;34m,\u001b[0m \u001b[0mcreate_graph\u001b[0m\u001b[0;34m,\u001b[0m\u001b[0;34m\u001b[0m\u001b[0;34m\u001b[0m\u001b[0m\n\u001b[0;32m---> 90\u001b[0;31m         allow_unreachable=True)  # allow_unreachable flag\n\u001b[0m\u001b[1;32m     91\u001b[0m \u001b[0;34m\u001b[0m\u001b[0m\n\u001b[1;32m     92\u001b[0m \u001b[0;34m\u001b[0m\u001b[0m\n",
      "\u001b[0;31mKeyboardInterrupt\u001b[0m: "
     ]
    }
   ],
   "source": [
    "start_time = time.clock()\n",
    "losses = []\n",
    "perplexity = []\n",
    "generates = []\n",
    "hidden = model.init_hidden(batch_size)\n",
    "for bat in range(1, n_batchs + 1):\n",
    "    scheduler.step()\n",
    "    hidden, out, loss = train(hidden, *b.make_batch())\n",
    "    losses.append(loss)\n",
    "    perplexity.append(np.exp(losses[-1]))\n",
    "    if bat % print_every == 0:\n",
    "        print('bat {},   \\tloss {} \\tperplexity {}'.format(bat, losses[-1], perplexity[-1]))\n",
    "        print('time passed %s:' %(timeSince(start_time)))\n",
    "    if bat % generate_every == 0:\n",
    "        hid = model.init_hidden(1)\n",
    "        generates.append(generate(21, hid))\n",
    "    \n",
    "        "
   ]
  },
  {
   "cell_type": "code",
   "execution_count": 141,
   "metadata": {
    "colab": {
     "base_uri": "https://localhost:8080/",
     "height": 91
    },
    "colab_type": "code",
    "id": "sjtGLYiWJD0T",
    "outputId": "e814f550-bcc4-43a4-90c2-ab59caf90f5d"
   },
   "outputs": [
    {
     "name": "stderr",
     "output_type": "stream",
     "text": [
      "/usr/local/lib/python3.6/dist-packages/torch/serialization.py:251: UserWarning: Couldn't retrieve source code for container of type Net. It won't be checked for correctness upon loading.\n",
      "  \"type \" + obj.__name__ + \". It won't be checked \"\n"
     ]
    }
   ],
   "source": [
    "torch.save(model, 'gdrive/My Drive/Colab Notebooks/subword_lang_33.dms')"
   ]
  },
  {
   "cell_type": "code",
   "execution_count": 0,
   "metadata": {
    "colab": {},
    "colab_type": "code",
    "id": "eVK0k4ZbJOMD"
   },
   "outputs": [],
   "source": [
    "torch.save(optimizer, 'gdrive/My Drive/Colab Notebooks/adam_subword_lang_33.dms')"
   ]
  },
  {
   "cell_type": "code",
   "execution_count": 145,
   "metadata": {
    "colab": {
     "base_uri": "https://localhost:8080/",
     "height": 460
    },
    "colab_type": "code",
    "id": "Xr4q4dPwMkrO",
    "outputId": "deb572b7-6dff-44bb-957d-b24061c39be0"
   },
   "outputs": [
    {
     "data": {
      "image/png": "[encoded data removed]",
      "text/plain": [
       "<Figure size 864x504 with 1 Axes>"
      ]
     },
     "metadata": {
      "tags": []
     },
     "output_type": "display_data"
    }
   ],
   "source": [
    "plt.figure(figsize=(12,7))\n",
    "plt.plot(range(len(perplexity[10:])), perplexity[10:])\n",
    "plt.xlabel(\"$batches$\", fontsize=25)\n",
    "plt.ylabel(\"$perplexity$\", fontsize=25)\n",
    "plt.show()"
   ]
  },
  {
   "cell_type": "code",
   "execution_count": 146,
   "metadata": {
    "colab": {
     "base_uri": "https://localhost:8080/",
     "height": 460
    },
    "colab_type": "code",
    "id": "CsilqQZhPEwI",
    "outputId": "8293b767-2645-419b-813a-f5d1530898fa"
   },
   "outputs": [
    {
     "data": {
      "image/png": "[encoded data removed]",
      "text/plain": [
       "<Figure size 864x504 with 1 Axes>"
      ]
     },
     "metadata": {
      "tags": []
     },
     "output_type": "display_data"
    }
   ],
   "source": [
    "plt.figure(figsize=(12,7))\n",
    "plt.plot(range(len(losses)), losses)\n",
    "plt.xlabel(\"$batches$\", fontsize=25)\n",
    "plt.ylabel(\"$loss$\", fontsize=25)\n",
    "plt.show()"
   ]
  },
  {
   "cell_type": "code",
   "execution_count": 147,
   "metadata": {
    "colab": {
     "base_uri": "https://localhost:8080/",
     "height": 125
    },
    "colab_type": "code",
    "id": "qy5N_3-7Rdhr",
    "outputId": "457da823-82eb-4f68-e0a7-587048efc280"
   },
   "outputs": [
    {
     "name": "stdout",
     "output_type": "stream",
     "text": [
      "a:chhage6:▁movethe▁--h:▁now,\"<UNK>estas\"<UNK>estas\"▁at:3\"5%atf3\"seat▁con3\"b▁b:com.oral-andan▁maycba-3\"5%atf3\"seat▁con3\"b▁b:com.oral-andan▁maycb03h▁inn3ries7:▁their-3\"5%atf3\"seat▁con3\"\n",
      "a.\"neccomychmentel-3\"ilagethe3\":ableerest▁dar▁--3\"mentmany▁in3\"escomcomla7::.\"ableableesir7,3\"▁at:3\",\",3\"il▁fromerasb▁been:hi▁bere▁for<UNK>▁4manus,com,3\".-3\"esli3\"▁cse3\"age9▁or7▁billionf3\"<UNK>▁that3hc\n",
      "a:chhageon▁most▁over<UNK>.4-3\",\",3\"il▁fromerasb3▁andaril7mentbic▁53as▁i5%en▁part4-3\"age▁downagewf3\"▁c▁inmentb3\"▁he9al3hes503<UNK>:en-3\":arer▁billion7chse43\"▁movethe▁--h:3\"escomcom▁could)▁\".ent2.\"▁3▁have▁back\n",
      "a▁inflation)))),3\"▁at:3\"esli3\"▁cse3\"age9▁or7▁billionf3\"<UNK>▁that▁you▁lowerable5%▁are,▁0.s.ion▁treasuryist<UNK>.ation▁financial,▁0.s,3\"▁at:3\"▁from9c<UNK>3\"escomablees)la:3\"age9:▁move3hcir5%3ist<UNK>▁4man03bch▁exchange9▁other,stman▁0.<UNK>and3\"\n"
     ]
    }
   ],
   "source": [
    "for i in generates:\n",
    "  print(i)"
   ]
  },
  {
   "cell_type": "markdown",
   "metadata": {
    "colab": {},
    "colab_type": "code",
    "id": "3UfNmFvrtMSz"
   },
   "source": [
    "Выдает что-то левое, видимо, надо больше учить"
   ]
  },
  {
   "cell_type": "code",
   "execution_count": null,
   "metadata": {},
   "outputs": [],
   "source": []
  }
 ],
 "metadata": {
  "accelerator": "GPU",
  "colab": {
   "collapsed_sections": [],
   "name": "task3_word_level_lm.ipynb",
   "provenance": [],
   "toc_visible": true,
   "version": "0.3.2"
  },
  "kernelspec": {
   "display_name": "Python 3",
   "language": "python",
   "name": "python3"
  },
  "language_info": {
   "codemirror_mode": {
    "name": "ipython",
    "version": 3
   },
   "file_extension": ".py",
   "mimetype": "text/x-python",
   "name": "python",
   "nbconvert_exporter": "python",
   "pygments_lexer": "ipython3",
   "version": "3.6.4"
  }
 },
 "nbformat": 4,
 "nbformat_minor": 1
}
